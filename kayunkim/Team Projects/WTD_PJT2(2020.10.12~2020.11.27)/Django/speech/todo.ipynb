{
 "cells": [
  {
   "cell_type": "code",
   "execution_count": 1,
   "metadata": {},
   "outputs": [],
   "source": [
    "from konlpy.tag import Okt\n",
    "import json\n",
    "import os\n",
    "import numpy as np\n",
    "import pandas as pd\n",
    "from pprint import pprint\n",
    "import nltk\n",
    "from tensorflow import keras\n",
    "\n",
    "def tokenize(doc):\n",
    "    # norm은 정규화, stem은 근어로 표시하기를 나타냄\n",
    "    return ['/'.join(t) for t in okt.pos(doc, norm=True, stem=True)]\n",
    "\n",
    "def term_frequency(doc):\n",
    "    return [doc.count(word) for word in selected_words]\n",
    "\n",
    "def predict2(review):\n",
    "    token = tokenize(review)\n",
    "    tf = term_frequency(token)\n",
    "    data = np.expand_dims(np.asarray(tf).astype('float32'), axis=0)\n",
    "    score = float(new_model.predict(data))\n",
    "    print(\"[{}]는 업무일 확률 {:.2f}%.\\n\".format(review, score * 100))\n",
    "    if(score > 0.85):\n",
    "        print(\"업무O.\\n\")\n",
    "    else:\n",
    "        print(\"업무X.\\n\") \n",
    "        \n",
    "def __init__ :\n",
    "    new_model = keras.models.load_model('ToDoList.h5')\n",
    "    okt = Okt()\n",
    "    with open('train_docs.json' , encoding='UTF8') as f:\n",
    "        train_docs = json.load(f)\n",
    "    tokens = [t for d in train_docs for t in d[0]]\n",
    "    text = nltk.Text(tokens, name='NMSC')\n",
    "    selected_words = [f[0] for f in text.vocab().most_common(1000)]"
   ]
  }
 ],
 "metadata": {
  "kernelspec": {
   "display_name": "Python 3",
   "language": "python",
   "name": "python3"
  },
  "language_info": {
   "codemirror_mode": {
    "name": "ipython",
    "version": 3
   },
   "file_extension": ".py",
   "mimetype": "text/x-python",
   "name": "python",
   "nbconvert_exporter": "python",
   "pygments_lexer": "ipython3",
   "version": "3.8.3"
  }
 },
 "nbformat": 4,
 "nbformat_minor": 4
}
