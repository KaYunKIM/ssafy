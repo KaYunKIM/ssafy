{
 "cells": [
  {
   "cell_type": "code",
   "execution_count": 1,
   "metadata": {},
   "outputs": [],
   "source": [
    "from konlpy.tag import Okt\n",
    "import json\n",
    "import os\n",
    "import numpy as np\n",
    "import pandas as pd\n",
    "from pprint import pprint"
   ]
  },
  {
   "cell_type": "code",
   "execution_count": 3,
   "metadata": {},
   "outputs": [],
   "source": [
    "okt = Okt()\n",
    "\n",
    "def tokenize(doc):\n",
    "    # norm은 정규화, stem은 근어로 표시하기를 나타냄\n",
    "    return ['/'.join(t) for t in okt.pos(doc, norm=True, stem=True)]"
   ]
  },
  {
   "cell_type": "code",
   "execution_count": 7,
   "metadata": {},
   "outputs": [],
   "source": [
    "with open('train_docs.json' , encoding='UTF8') as f:\n",
    "        train_docs = json.load(f)"
   ]
  },
  {
   "cell_type": "code",
   "execution_count": 8,
   "metadata": {},
   "outputs": [],
   "source": [
    "tokens = [t for d in train_docs for t in d[0]]"
   ]
  },
  {
   "cell_type": "code",
   "execution_count": 9,
   "metadata": {},
   "outputs": [],
   "source": [
    "import nltk\n",
    "text = nltk.Text(tokens, name='NMSC')"
   ]
  },
  {
   "cell_type": "code",
   "execution_count": 10,
   "metadata": {},
   "outputs": [],
   "source": [
    "selected_words = [f[0] for f in text.vocab().most_common(1000)]\n",
    "\n",
    "def term_frequency(doc):\n",
    "    return [doc.count(word) for word in selected_words]"
   ]
  },
  {
   "cell_type": "code",
   "execution_count": 11,
   "metadata": {},
   "outputs": [],
   "source": [
    "from tensorflow import keras"
   ]
  },
  {
   "cell_type": "code",
   "execution_count": 12,
   "metadata": {},
   "outputs": [],
   "source": [
    "new_model = keras.models.load_model('ToDoList.h5')"
   ]
  },
  {
   "cell_type": "code",
   "execution_count": 13,
   "metadata": {},
   "outputs": [],
   "source": [
    "def predict2(review):\n",
    "    token = tokenize(review)\n",
    "    tf = term_frequency(token)\n",
    "    data = np.expand_dims(np.asarray(tf).astype('float32'), axis=0)\n",
    "    score = float(new_model.predict(data))\n",
    "    print(\"[{}]는 업무일 확률 {:.2f}%.\\n\".format(review, score * 100))\n",
    "    if(score > 0.75):\n",
    "        print(\"업무O.\\n\")\n",
    "    else:\n",
    "        print(\"업무X.\\n\")"
   ]
  },
  {
   "cell_type": "code",
   "execution_count": 14,
   "metadata": {},
   "outputs": [
    {
     "name": "stdout",
     "output_type": "stream",
     "text": [
      "[내일 오후 4시까지 햄버거 사오세요.]는 업무일 확률 99.99%.\n",
      "\n",
      "업무O.\n",
      "\n",
      "[요새 재미있는게 없을까?]는 업무일 확률 0.11%.\n",
      "\n",
      "업무X.\n",
      "\n",
      "[테스트 해볼까?]는 업무일 확률 70.22%.\n",
      "\n",
      "업무X.\n",
      "\n",
      "[와이어프레임 구성 완료했습니다]는 업무일 확률 99.36%.\n",
      "\n",
      "업무O.\n",
      "\n",
      "[오늘 3시까지 백엔드 일정추가 기능 완료해주세요!]는 업무일 확률 100.00%.\n",
      "\n",
      "업무O.\n",
      "\n",
      "[오늘까지 기획안 올려주세요]는 업무일 확률 99.99%.\n",
      "\n",
      "업무O.\n",
      "\n",
      "[피드백받은 부분 반영해서 ppt 수정하였습니다. ]는 업무일 확률 100.00%.\n",
      "\n",
      "업무O.\n",
      "\n",
      "[스토리 만들고, 스토리포인트 지정하고, 스프린트 시작해 주셔야 합니다! ]는 업무일 확률 99.93%.\n",
      "\n",
      "업무O.\n",
      "\n",
      "[스토리 만들고, 스토리포인트 지정하고, 스프린트 시작하겠습니다! ]는 업무일 확률 99.98%.\n",
      "\n",
      "업무O.\n",
      "\n",
      "[배고파 쩝쩝]는 업무일 확률 0.06%.\n",
      "\n",
      "업무X.\n",
      "\n"
     ]
    }
   ],
   "source": [
    "predict2('내일 오후 4시까지 햄버거 사오세요.')\n",
    "predict2('요새 재미있는게 없을까?')\n",
    "predict2('테스트 해볼까?')\n",
    "predict2('와이어프레임 구성 완료했습니다')\n",
    "predict2('오늘 3시까지 백엔드 일정추가 기능 완료해주세요!')\n",
    "predict2('오늘까지 기획안 올려주세요')\n",
    "predict2('피드백받은 부분 반영해서 ppt 수정하였습니다. ')\n",
    "predict2('스토리 만들고, 스토리포인트 지정하고, 스프린트 시작해 주셔야 합니다! ')\n",
    "predict2('스토리 만들고, 스토리포인트 지정하고, 스프린트 시작하겠습니다! ')\n",
    "predict2('배고파 쩝쩝')"
   ]
  }
 ],
 "metadata": {
  "kernelspec": {
   "display_name": "Python 3",
   "language": "python",
   "name": "python3"
  },
  "language_info": {
   "codemirror_mode": {
    "name": "ipython",
    "version": 3
   },
   "file_extension": ".py",
   "mimetype": "text/x-python",
   "name": "python",
   "nbconvert_exporter": "python",
   "pygments_lexer": "ipython3",
   "version": "3.8.3"
  }
 },
 "nbformat": 4,
 "nbformat_minor": 4
}
