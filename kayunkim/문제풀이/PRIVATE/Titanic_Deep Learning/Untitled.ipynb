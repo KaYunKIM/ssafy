{
 "cells": [
  {
   "cell_type": "code",
   "execution_count": null,
   "metadata": {},
   "outputs": [],
   "source": [
    "import numpy as np\n",
    "import pandas as pd\n",
    "import tensorflow as tf"
   ]
  },
  {
   "cell_type": "code",
   "execution_count": null,
   "metadata": {},
   "outputs": [],
   "source": [
    "#먼저 자료 보기\n",
    "tain_data = pd.read_csv('./titanic/train.csv')\n",
    "train_data.head()"
   ]
  },
  {
   "cell_type": "code",
   "execution_count": null,
   "metadata": {},
   "outputs": [],
   "source": [
    "#데이터 불러오기\n",
    "train_data = pd.read_csv('./titanic/train.csv').as_matrix()\n",
    "test_data = pd.read_csv('./titanic/test.csv').as_matrix()\n",
    "test_subdata = pd.read_csv('./titanic/gender_submission.csv').as_matrix()"
   ]
  },
  {
   "cell_type": "code",
   "execution_count": null,
   "metadata": {},
   "outputs": [],
   "source": [
    "#데이터 전처리 => male, female 데이터 변환\n",
    "for i in range(len(train_data)):\n",
    "    if tain_data[i,4] == 'male':\n",
    "        train_data[i,4] = 1\n",
    "    else:\n",
    "        train_data[i,4] = 0\n",
    "        \n",
    "#test_data도 동일하게 시행        \n",
    "for i in range(len(test_data)):\n",
    "    if tain_data[i,3] == 'male':\n",
    "        train_data[i,3] = 1\n",
    "    else:\n",
    "        train_data[i,3] = 0"
   ]
  },
  {
   "cell_type": "code",
   "execution_count": null,
   "metadata": {},
   "outputs": [],
   "source": [
    "#데이터 전처리 => 승선정보 변경\n",
    "for i in range(len(train_data)):\n",
    "    if train_data[i,11] == 'S':\n",
    "        train_data[i,11] = 1\n",
    "    elif train_data[i,11] == 'C':\n",
    "        train_data[i,11] = 2\n",
    "    elif train_data[i,11] == 'Q':\n",
    "        train_data[i,11] = 3\n",
    "    if np.isnan(train_data[i,11]):\n",
    "        train_data[i,11] = 0\n",
    "        \n",
    "for i in range(len(test_data)):\n",
    "    if train_data[i,10] == 'S':\n",
    "        train_data[i,10] = 1\n",
    "    elif train_data[i,10] == 'C':\n",
    "        train_data[i,10] = 2\n",
    "    elif train_data[i,10] == 'Q':\n",
    "        train_data[i,10] = 3\n",
    "    if np.isnan(train_data[i,10]):\n",
    "        train_data[i,10] = 0"
   ]
  },
  {
   "cell_type": "code",
   "execution_count": null,
   "metadata": {},
   "outputs": [],
   "source": [
    "# 필요한 데이터만 추출(지위,성별,가족 수 ,가족관계,승선정보)\n",
    "X_passdata = train_data[:, [2, #pclass, 승선정보\n",
    "                            4, #sex\n",
    "                            6, #SibSp, (형제,배우자)\n",
    "                            7, #Parch, (부모,자녀)\n",
    "                            11\n",
    "                           ] ]\n",
    "Y_survive = train_data[:,1:2]\n",
    "text_x = text_data[:, [1, #pclass\n",
    "                       3, #sex\n",
    "                       5, #sibsp\n",
    "                       6, #parch\n",
    "                       10 #embarked   \n",
    "                      ]]\n",
    "test_y = test_subdata[:,1:2]"
   ]
  },
  {
   "cell_type": "code",
   "execution_count": null,
   "metadata": {},
   "outputs": [],
   "source": [
    "#Placeholder\n",
    "X = tf.placeholder(tf.float32, shape = [None,5])\n",
    "Y = tf.placeholder(tf.float32, shape = [None,1])\n",
    "W = tf.Variable(tf.random_normal([5,1]), name = 'weight')\n",
    "b = tf.Variable(tf.random_normal([1]), name = 'bias')\n",
    "\n",
    "#cost function(Y=1, 생존일 경우)\n",
    "cost = -tf.reduce_mean(Y*tf.log(hypothesis) + (1-Y)* tf.log(1-hypothesis))\n",
    "\n",
    "#optimizer\n",
    "train = tf.train.GradientDescentOptimizer(learning_rate = 0.1).minimize(cost)\n",
    "\n",
    "#Accuracy\n",
    "#True if hypothesis > 0.5 else False\n",
    "pred = tf.cast(hypothesis > 0.5, dtype = tf.float32)\n",
    "accuracy = tf.reduce_mean(tf.cast(tf.equal(pred, Y), dtype = tf.float32))\n",
    "previous_cost = 0\n",
    "\n",
    "with tf.Session() as sess:\n",
    "    sess.run(tf.global_variables_initializer())\n",
    "    \n",
    "    for step in range(10000):\n",
    "        cost_val, _ = sess.run([cost, train], feed_dict = {X:X_passdata, Y:Y_survive})\n",
    "        if step%500 == 0:\n",
    "            print(\"Step =\", step, \", Cost:\", cost_val)\n",
    "            \n",
    "        #cost 진척이 없으면 조기종료(trick)\n",
    "        if previou_cost == cost_val:\n",
    "            print('found best hypothesis when step : ', step , \"\\n\")\n",
    "            break\n",
    "        else:\n",
    "                previous_cost = cost_val\n",
    "    #가설검증(설명력)\n",
    "    h,c,a = sess.run([hypothesis, pred, accuracy], feed_dict = {X:X_passdata, Y:Y_survive})\n",
    "    print(\"\\n Accurac: \" , a)\n",
    "    print(\"\\n Test CSV runningResult\")\n",
    "    h2,c2,a2 = sess.run([hypothesis, pred, accuracy], feed_dict={X:test_x, Y:test_y})\n",
    "    print(\"\\n Accuracy: \" , a2) "
   ]
  }
 ],
 "metadata": {
  "kernelspec": {
   "display_name": "Python 3",
   "language": "python",
   "name": "python3"
  },
  "language_info": {
   "codemirror_mode": {
    "name": "ipython",
    "version": 3
   },
   "file_extension": ".py",
   "mimetype": "text/x-python",
   "name": "python",
   "nbconvert_exporter": "python",
   "pygments_lexer": "ipython3",
   "version": "3.7.3"
  }
 },
 "nbformat": 4,
 "nbformat_minor": 4
}
