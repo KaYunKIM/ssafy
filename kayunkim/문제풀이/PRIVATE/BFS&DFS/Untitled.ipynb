{
 "cells": [
  {
   "cell_type": "code",
   "execution_count": 15,
   "metadata": {},
   "outputs": [
    {
     "name": "stdout",
     "output_type": "stream",
     "text": [
      "['A', 'B', 'C', 'H', 'D', 'I', 'J', 'M', 'E', 'G', 'K', 'F', 'L']\n"
     ]
    }
   ],
   "source": [
    "graph = {\n",
    "    'A':['B'],\n",
    "    'B':['A','C','H'],\n",
    "    'C':['B','D'],\n",
    "    'D':['C','E','G'],\n",
    "    'E':['D','F'],\n",
    "    'F':['E'],\n",
    "    'G':['D'],\n",
    "    'H':['B','I','J','M'],\n",
    "    'I':['H'],\n",
    "    'J':['H','K'],\n",
    "    'K':['J','L'],\n",
    "    'L':['K'],\n",
    "    'M':['H'], \n",
    "}\n",
    "\n",
    "def bfs(gragph,start):\n",
    "    visited = []\n",
    "    queue = [start]\n",
    "    \n",
    "    while queue:\n",
    "        current = queue.pop(0)\n",
    "        if current not in visited:\n",
    "            visited.append(current)\n",
    "            queue.extend(graph[current])\n",
    "            \n",
    "    return visited\n",
    "\n",
    "print(bfs(graph,'A'))"
   ]
  },
  {
   "cell_type": "code",
   "execution_count": 6,
   "metadata": {},
   "outputs": [
    {
     "name": "stdout",
     "output_type": "stream",
     "text": [
      "['A', 'B', 'C', 'H', 'D', 'I', 'J', 'M', 'E', 'G', 'K', 'F', 'L']\n"
     ]
    }
   ],
   "source": [
    "graph = {\n",
    "    'A':['B'],\n",
    "    'B':['A','C','H'],\n",
    "    'C':['B','D'],\n",
    "    'D':['C','E','G'],\n",
    "    'E':['D','F'],\n",
    "    'F':['E'],\n",
    "    'G':['D'],\n",
    "    'H':['B','I','J','M'],\n",
    "    'I':['H'],\n",
    "    'J':['H','K'],\n",
    "    'K':['J','L'],\n",
    "    'L':['K'],\n",
    "    'M':['H'], \n",
    "}\n",
    "\n",
    "\n",
    "def bfs(graph,k):\n",
    "    visited = []\n",
    "    queue = [k]\n",
    "    \n",
    "    while queue:\n",
    "        ans = queue.pop(0)\n",
    "        if ans not in visited:\n",
    "            visited.append(ans)\n",
    "            queue.extend(graph[ans])\n",
    "            \n",
    "    return visited\n",
    "\n",
    "print(bfs(graph,'A'))\n"
   ]
  },
  {
   "cell_type": "code",
   "execution_count": 2,
   "metadata": {},
   "outputs": [
    {
     "name": "stdout",
     "output_type": "stream",
     "text": [
      "['A', 'B', 'C', 'D', 'E', 'F', 'G', 'H', 'I', 'J', 'K', 'L', 'M']\n"
     ]
    }
   ],
   "source": [
    "graph = {\n",
    "    'A':['B'],\n",
    "    'B':['A','C','H'],\n",
    "    'C':['B','D'],\n",
    "    'D':['C','E','G'],\n",
    "    'E':['D','F'],\n",
    "    'F':['E'],\n",
    "    'G':['D'],\n",
    "    'H':['B','I','J','M'],\n",
    "    'I':['H'],\n",
    "    'J':['H','K'],\n",
    "    'K':['J','L'],\n",
    "    'L':['K'],\n",
    "    'M':['H'], \n",
    "}\n",
    "\n",
    "def dfs(graph, start):\n",
    "    visited = []\n",
    "    stack = [start]\n",
    "    \n",
    "    while stack:\n",
    "        cur = stack.pop()\n",
    "        if cur not in visited:\n",
    "            visited.append(cur)\n",
    "            stack.extend(reversed(graph[cur]))\n",
    "    return visited\n",
    "\n",
    "    \n",
    "print(dfs(graph, 'A'))    "
   ]
  },
  {
   "cell_type": "code",
   "execution_count": 17,
   "metadata": {},
   "outputs": [
    {
     "name": "stdout",
     "output_type": "stream",
     "text": [
      "['A', 'B', 'C', 'D', 'E', 'F', 'G', 'H', 'I', 'J', 'K', 'L', 'M']\n"
     ]
    }
   ],
   "source": [
    "graph = {\n",
    "    'A':['B'],\n",
    "    'B':['A','C','H'],\n",
    "    'C':['B','D'],\n",
    "    'D':['C','E','G'],\n",
    "    'E':['D','F'],\n",
    "    'F':['E'],\n",
    "    'G':['D'],\n",
    "    'H':['B','I','J','M'],\n",
    "    'I':['H'],\n",
    "    'J':['H','K'],\n",
    "    'K':['J','L'],\n",
    "    'L':['K'],\n",
    "    'M':['H'], \n",
    "}\n",
    "v\n",
    "def dfs(graph,s):\n",
    "    visited= []\n",
    "    stack= [s]\n",
    "    \n",
    "    while stack:\n",
    "        cur = stack.pop()\n",
    "        if cur not in visited:\n",
    "            visited.append(cur)\n",
    "            stack.extend(reversed(graph[cur]))\n",
    "    return visited\n",
    "    \n",
    "print(dfs(graph,'A'))"
   ]
  }
 ],
 "metadata": {
  "kernelspec": {
   "display_name": "Python 3",
   "language": "python",
   "name": "python3"
  },
  "language_info": {
   "codemirror_mode": {
    "name": "ipython",
    "version": 3
   },
   "file_extension": ".py",
   "mimetype": "text/x-python",
   "name": "python",
   "nbconvert_exporter": "python",
   "pygments_lexer": "ipython3",
   "version": "3.7.3"
  }
 },
 "nbformat": 4,
 "nbformat_minor": 4
}
