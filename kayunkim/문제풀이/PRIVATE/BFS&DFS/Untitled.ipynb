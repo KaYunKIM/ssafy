{
 "cells": [
  {
   "cell_type": "code",
   "execution_count": 4,
   "metadata": {},
   "outputs": [
    {
     "name": "stdout",
     "output_type": "stream",
     "text": [
      "['A', 'B', 'H', 'C', 'M', 'J', 'I', 'D', 'K', 'G', 'E', 'L', 'F']\n"
     ]
    }
   ],
   "source": [
    "graph = {\n",
    "    'A':['B'],\n",
    "    'B':['A','C','H'],\n",
    "    'C':['B','D'],\n",
    "    'D':['C','E','G'],\n",
    "    'E':['D','F'],\n",
    "    'F':['E'],\n",
    "    'G':['D'],\n",
    "    'H':['B','I','J','M'],\n",
    "    'I':['H'],\n",
    "    'J':['H','K'],\n",
    "    'K':['J','L'],\n",
    "    'L':['K'],\n",
    "    'M':['H'], \n",
    "}\n",
    "\n",
    "def bfs(gragph,start):\n",
    "    visited = []\n",
    "    queue = [start]\n",
    "    \n",
    "    while queue:\n",
    "        current = queue.pop(0)\n",
    "        if current not in visited:\n",
    "            visited.append(current)\n",
    "            queue.extend(reversed(graph[current]))\n",
    "            \n",
    "    return visited\n",
    "\n",
    "print(bfs(graph,'A'))"
   ]
  },
  {
   "cell_type": "code",
   "execution_count": 2,
   "metadata": {},
   "outputs": [
    {
     "name": "stdout",
     "output_type": "stream",
     "text": [
      "['A', 'B', 'C', 'D', 'E', 'F', 'G', 'H', 'I', 'J', 'K', 'L', 'M']\n"
     ]
    }
   ],
   "source": [
    "graph = {\n",
    "    'A':['B'],\n",
    "    'B':['A','C','H'],\n",
    "    'C':['B','D'],\n",
    "    'D':['C','E','G'],\n",
    "    'E':['D','F'],\n",
    "    'F':['E'],\n",
    "    'G':['D'],\n",
    "    'H':['B','I','J','M'],\n",
    "    'I':['H'],\n",
    "    'J':['H','K'],\n",
    "    'K':['J','L'],\n",
    "    'L':['K'],\n",
    "    'M':['H'], \n",
    "}\n",
    "\n",
    "def dfs(graph, start):\n",
    "    visited = []\n",
    "    stack = [start]\n",
    "    \n",
    "    while stack:\n",
    "        cur = stack.pop()\n",
    "        if cur not in visited:\n",
    "            visited.append(cur)\n",
    "            stack.extend(reversed(graph[cur]))\n",
    "    return visited\n",
    "\n",
    "    \n",
    "print(dfs(graph, 'A'))    "
   ]
  },
  {
   "cell_type": "code",
   "execution_count": null,
   "metadata": {},
   "outputs": [],
   "source": []
  }
 ],
 "metadata": {
  "kernelspec": {
   "display_name": "Python 3",
   "language": "python",
   "name": "python3"
  },
  "language_info": {
   "codemirror_mode": {
    "name": "ipython",
    "version": 3
   },
   "file_extension": ".py",
   "mimetype": "text/x-python",
   "name": "python",
   "nbconvert_exporter": "python",
   "pygments_lexer": "ipython3",
   "version": "3.7.3"
  }
 },
 "nbformat": 4,
 "nbformat_minor": 4
}
