{
 "cells": [
  {
   "cell_type": "code",
   "execution_count": 8,
   "metadata": {},
   "outputs": [
    {
     "name": "stdout",
     "output_type": "stream",
     "text": [
      "3\n",
      "32850\n",
      "#1\n",
      "0 3 0 2 1 3 1 0 \n",
      "160\n",
      "#2\n",
      "0 0 0 0 0 1 1 1 \n",
      "1234\n",
      "#3\n",
      "0 0 0 1 0 2 0 3 \n"
     ]
    }
   ],
   "source": [
    "T = int(input())\n",
    "for tc in range(1,T+1):\n",
    "    N = int(input())\n",
    "    if str(N)[-1] != 0:\n",
    "        N = N- int(str(N)[-1])\n",
    "    bin = {50000:0, 10000:0, 5000:0, 1000:0, 500:0, 100:0, 50:0, 10:0}\n",
    "    while N !=0:\n",
    "        if N >= 50000:\n",
    "            bin[50000]+=1\n",
    "            N-= 50000\n",
    "        elif N>= 10000:\n",
    "            bin[10000]+=1\n",
    "            N-=10000\n",
    "        elif N >= 5000:\n",
    "            bin[5000]+=1\n",
    "            N-=5000\n",
    "        elif N >= 1000:\n",
    "            bin[1000]+=1\n",
    "            N-=1000\n",
    "        elif N >= 500:\n",
    "            bin[500]+=1\n",
    "            N-=500\n",
    "        elif N>= 100:\n",
    "            bin[100]+=1\n",
    "            N-=100\n",
    "        elif N >= 50:\n",
    "            bin[50]+=1\n",
    "            N-=50\n",
    "        elif N >= 10:\n",
    "            bin[10]+=1\n",
    "            N-=10\n",
    "    print('#{}'.format(tc))\n",
    "    for i in bin:\n",
    "        print(bin[i], end = ' ')\n",
    "    print()"
   ]
  }
 ],
 "metadata": {
  "kernelspec": {
   "display_name": "Python 3",
   "language": "python",
   "name": "python3"
  },
  "language_info": {
   "codemirror_mode": {
    "name": "ipython",
    "version": 3
   },
   "file_extension": ".py",
   "mimetype": "text/x-python",
   "name": "python",
   "nbconvert_exporter": "python",
   "pygments_lexer": "ipython3",
   "version": "3.7.3"
  }
 },
 "nbformat": 4,
 "nbformat_minor": 4
}
