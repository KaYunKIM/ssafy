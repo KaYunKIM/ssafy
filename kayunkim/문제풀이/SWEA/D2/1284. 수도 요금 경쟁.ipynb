{
 "cells": [
  {
   "cell_type": "code",
   "execution_count": null,
   "metadata": {},
   "outputs": [],
   "source": [
    "T = int(input())\n",
    "for tc in range(1,T+1):\n",
    "    P,Q,R,S,W = list(map(int,input().split()))\n",
    "    A = P*W\n",
    "    if W <= R:\n",
    "        B = Q\n",
    "    else:\n",
    "        B = Q+(W-R)*S\n",
    "    if A>=B:\n",
    "        print('#{} {}'.format(tc,B))\n",
    "    else:\n",
    "        print('#{} {}'.format(tc,A))"
   ]
  }
 ],
 "metadata": {
  "kernelspec": {
   "display_name": "Python 3",
   "language": "python",
   "name": "python3"
  },
  "language_info": {
   "codemirror_mode": {
    "name": "ipython",
    "version": 3
   },
   "file_extension": ".py",
   "mimetype": "text/x-python",
   "name": "python",
   "nbconvert_exporter": "python",
   "pygments_lexer": "ipython3",
   "version": "3.7.3"
  }
 },
 "nbformat": 4,
 "nbformat_minor": 4
}
