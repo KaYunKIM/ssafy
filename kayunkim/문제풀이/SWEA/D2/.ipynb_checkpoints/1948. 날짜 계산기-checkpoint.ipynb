{
 "cells": [
  {
   "cell_type": "code",
   "execution_count": 3,
   "metadata": {},
   "outputs": [
    {
     "name": "stdout",
     "output_type": "stream",
     "text": [
      "1\n",
      "5 5 8 15\n",
      "#1 103\n"
     ]
    }
   ],
   "source": [
    "T = int(input())\n",
    "for tc in range(1,T+1):\n",
    "    M,D,M2,D2 = list(map(int,input().split()))\n",
    "    TO = [1,3,5,7,8,10,12]\n",
    "    T = [4,6,9,11]\n",
    "    ans = 0\n",
    "    if M == M2:\n",
    "        ans = D2-D+1\n",
    "    else:\n",
    "        h = 1\n",
    "        while M2-h >= M:\n",
    "            if M2-h in TO:\n",
    "                ans+=31\n",
    "            elif M2-h in T:\n",
    "                ans+=30\n",
    "            else:\n",
    "                ans+=28\n",
    "            h+=1\n",
    "        ans = ans+D2-D+1\n",
    "    print('#{} {}'.format(tc,ans))"
   ]
  },
  {
   "cell_type": "code",
   "execution_count": null,
   "metadata": {},
   "outputs": [],
   "source": []
  }
 ],
 "metadata": {
  "kernelspec": {
   "display_name": "Python 3",
   "language": "python",
   "name": "python3"
  },
  "language_info": {
   "codemirror_mode": {
    "name": "ipython",
    "version": 3
   },
   "file_extension": ".py",
   "mimetype": "text/x-python",
   "name": "python",
   "nbconvert_exporter": "python",
   "pygments_lexer": "ipython3",
   "version": "3.7.3"
  }
 },
 "nbformat": 4,
 "nbformat_minor": 4
}
