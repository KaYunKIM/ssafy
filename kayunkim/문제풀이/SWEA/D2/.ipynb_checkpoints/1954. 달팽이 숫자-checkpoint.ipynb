{
 "cells": [
  {
   "cell_type": "code",
   "execution_count": 7,
   "metadata": {},
   "outputs": [
    {
     "ename": "IndentationError",
     "evalue": "unindent does not match any outer indentation level (<tokenize>, line 21)",
     "output_type": "error",
     "traceback": [
      "\u001b[0;36m  File \u001b[0;32m\"<tokenize>\"\u001b[0;36m, line \u001b[0;32m21\u001b[0m\n\u001b[0;31m    h+=1\u001b[0m\n\u001b[0m    ^\u001b[0m\n\u001b[0;31mIndentationError\u001b[0m\u001b[0;31m:\u001b[0m unindent does not match any outer indentation level\n"
     ]
    }
   ],
   "source": [
    "di = [0,1,0,-1]\n",
    "dj = [1,0,-1,0]\n",
    "\n",
    "T = int(input())\n",
    "for tc in range(1,T+1):\n",
    "    N = int(input())\n",
    "    bin = [[0]*N for _ in range(N)]\n",
    "    i,j = 0,0\n",
    "    bin[i][j] = 1\n",
    "\n",
    "    h = 1\n",
    "    while h!= N*N:\n",
    "        for d in range(4):\n",
    "            ni = i + di[d]\n",
    "            nj = j + dj[d]\n",
    "            if 0<= ni < N and 0<= nj < N:\n",
    "                if ni\n",
    "                if bin[ni][nj] == 0:\n",
    "                    bin[ni][nj] = h+1\n",
    "                    break\n",
    "        i,j = ni,nj\n",
    "        h+=1\n",
    "    print(bin)"
   ]
  },
  {
   "cell_type": "code",
   "execution_count": 14,
   "metadata": {
    "scrolled": true
   },
   "outputs": [
    {
     "name": "stdout",
     "output_type": "stream",
     "text": [
      "1\n",
      "3\n",
      "0 2\n",
      "1 2\n",
      "2 2\n",
      "[[1, 2, 4], [0, 0, 1], [0, 0, 1]]\n"
     ]
    }
   ],
   "source": [
    "di = [0,1,0,-1]\n",
    "dj = [1,0,-1,0]\n",
    "\n",
    "T = int(input())\n",
    "for tc in range(1,T+1):\n",
    "    N = int(input())\n",
    "    bin = [[0]*N for _ in range(N)]\n",
    "    num = [i for i in range(1,N*N+1)]\n",
    "#     for i in range(1,N*N+1,N):\n",
    "#         bin[i][]\n",
    "    \n",
    "#     print(num)\n",
    "    \n",
    "    \n",
    "    for i in range(N):\n",
    "        a = 0\n",
    "        if i == 0:\n",
    "            for j in range(N):\n",
    "                bin[i][j] = num[a]\n",
    "                a+=1\n",
    "        print(i,j)\n",
    "        bin[i][j] = num[a]\n",
    "        a+=1\n",
    "    print(bin)\n",
    "    \n",
    "    \n",
    "#     i,j = 0,0\n",
    "#     bin[i][j] = 1\n",
    "\n",
    "#     h = 1\n",
    "#     while h!= N*N:\n",
    "#         for d in range(4):\n",
    "#             ni = i + di[d]\n",
    "#             nj = j + dj[d]\n",
    "#             if 0<= ni < N and 0<= nj < N:\n",
    "#                 if ni\n",
    "#                 if bin[ni][nj] == 0:\n",
    "#                     bin[ni][nj] = h+1\n",
    "#                     break\n",
    "#         i,j = ni,nj\n",
    "#         h+=1\n",
    "#     print(bin)"
   ]
  },
  {
   "cell_type": "code",
   "execution_count": 61,
   "metadata": {
    "scrolled": true
   },
   "outputs": [
    {
     "ename": "IndentationError",
     "evalue": "unexpected indent (<ipython-input-61-64fb2d44240c>, line 10)",
     "output_type": "error",
     "traceback": [
      "\u001b[0;36m  File \u001b[0;32m\"<ipython-input-61-64fb2d44240c>\"\u001b[0;36m, line \u001b[0;32m10\u001b[0m\n\u001b[0;31m    j = 0\u001b[0m\n\u001b[0m    ^\u001b[0m\n\u001b[0;31mIndentationError\u001b[0m\u001b[0;31m:\u001b[0m unexpected indent\n"
     ]
    }
   ],
   "source": [
    "di = [0,1,0,-1]\n",
    "dj = [1,0,-1,0]\n",
    "\n",
    "T = int(input())\n",
    "for tc in range(1,T+1):\n",
    "    N = int(input())\n",
    "    bin = [[0]*N for _ in range(N)]\n",
    "    num = [i for i in range(1,N*N+1)]\n",
    "    ans = 0\n",
    "    while sum(bin) != (N*N)*(N*N+1)//2:\n",
    "        j = 0\n",
    "        for i in range(N):\n",
    "            while j != N-1:\n",
    "                bin[i][j] = num[ans]\n",
    "                j+=1\n",
    "                ans+=1\n",
    "            bin[i][j] = num[ans]\n",
    "            ans+=1\n",
    "        print(bin)\n",
    "        print(i,j)\n",
    "        while j !=0:\n",
    "            bin[i][j] = num[ans]\n",
    "            ans+=1\n",
    "            j-=1\n",
    "        for i in range(N,0,-1):\n",
    "            bin[i][j] = num[ans]\n",
    "            ans+=1\n",
    "\n",
    "        \n",
    "    \n",
    "\n",
    "#     i,j = 0,0\n",
    "#     bin[i][j] = 1\n",
    "\n",
    "#     h = 1\n",
    "#     while h!= N*N:\n",
    "#         for d in range(4):\n",
    "#             ni = i + di[d]\n",
    "#             nj = j + dj[d]\n",
    "#             if 0<= ni < N and 0<= nj < N:\n",
    "#                 nj = dj[d]\n",
    "                \n",
    "                \n",
    "#                 if ni\n",
    "#                 if bin[ni][nj] == 0:\n",
    "#                     bin[ni][nj] = h+1\n",
    "#                     break\n",
    "#         i,j = ni,nj\n",
    "#         h+=1\n",
    "#     print(bin)"
   ]
  },
  {
   "cell_type": "code",
   "execution_count": 62,
   "metadata": {},
   "outputs": [
    {
     "name": "stdout",
     "output_type": "stream",
     "text": [
      "2\n",
      "3\n",
      "[[1, 2, 3], [0, 0, 4], [0, 0, 5]]\n",
      "4\n",
      "[[1, 2, 3, 4], [0, 0, 0, 5], [0, 0, 0, 6], [0, 0, 0, 7]]\n"
     ]
    }
   ],
   "source": [
    "di = [0,1,0,-1]\n",
    "dj = [1,0,-1,0]\n",
    "\n",
    "T = int(input())\n",
    "for tc in range(1,T+1):\n",
    "    N = int(input())\n",
    "    bin = [[0]*N for _ in range(N)]\n",
    "    num = [i for i in range(1,N*N+1)]\n",
    "    ans = 0\n",
    "    j = 0\n",
    "    for i in range(N):\n",
    "        while j != N-1:\n",
    "            bin[i][j] = num[ans]\n",
    "            j+=1\n",
    "            ans+=1\n",
    "        bin[i][j] = num[ans]\n",
    "        ans+=1\n",
    "    print(bin)\n"
   ]
  },
  {
   "cell_type": "code",
   "execution_count": null,
   "metadata": {},
   "outputs": [],
   "source": []
  }
 ],
 "metadata": {
  "kernelspec": {
   "display_name": "Python 3",
   "language": "python",
   "name": "python3"
  }
 },
 "nbformat": 4,
 "nbformat_minor": 4
}
