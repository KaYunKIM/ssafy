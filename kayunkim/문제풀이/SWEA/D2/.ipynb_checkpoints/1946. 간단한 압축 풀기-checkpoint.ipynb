{
 "cells": [
  {
   "cell_type": "code",
   "execution_count": 27,
   "metadata": {},
   "outputs": [
    {
     "name": "stdout",
     "output_type": "stream",
     "text": [
      "1\n",
      "3\n",
      "A 10\n",
      "B 7\n",
      "C 5\n",
      "#1\n",
      "AAAAAAAAAA\n",
      "BBBBBBBCCC\n",
      "CC\n"
     ]
    }
   ],
   "source": [
    "T = int(input())\n",
    "for tc in range(1,T+1):\n",
    "    N = int(input())\n",
    "    mtx = [list(input().split()) for _ in range(N)]\n",
    "    bin = []\n",
    "    for i in mtx:\n",
    "        h = 0\n",
    "        while h != int(i[1]):\n",
    "            bin.append(i[0])\n",
    "            h+=1\n",
    "    print('#{}'.format(tc))\n",
    "    for i in range(0,len(bin),10):\n",
    "        print(''.join(bin[i:i+10]))"
   ]
  }
 ],
 "metadata": {
  "kernelspec": {
   "display_name": "Python 3",
   "language": "python",
   "name": "python3"
  },
  "language_info": {
   "codemirror_mode": {
    "name": "ipython",
    "version": 3
   },
   "file_extension": ".py",
   "mimetype": "text/x-python",
   "name": "python",
   "nbconvert_exporter": "python",
   "pygments_lexer": "ipython3",
   "version": "3.7.3"
  }
 },
 "nbformat": 4,
 "nbformat_minor": 4
}
