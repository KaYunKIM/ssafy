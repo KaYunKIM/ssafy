{
 "cells": [
  {
   "cell_type": "code",
   "execution_count": null,
   "metadata": {},
   "outputs": [],
   "source": [
    "#풀이1\n",
    "T = int(input())\n",
    "for tc in range(1,T+1):\n",
    "    word = input()\n",
    "    for i in range(len(word)//2):    #길이의 반으로 나눠서\n",
    "        if word[i] == word[-(i+1)]:  #앞과 뒤에서 하나씩 오면서 비교\n",
    "            ans = 1\n",
    "        else:\n",
    "            ans = 0\n",
    "    print('#{} {}'.format(tc,ans))"
   ]
  },
  {
   "cell_type": "code",
   "execution_count": 2,
   "metadata": {},
   "outputs": [
    {
     "name": "stdout",
     "output_type": "stream",
     "text": [
      "1\n",
      "samsung\n",
      "gnusmas\n"
     ]
    }
   ],
   "source": [
    "#풀이2\n",
    "T = int(input())\n",
    "for tc in range(1,T+1):\n",
    "    word = input()\n",
    "    ans = 0\n",
    "    if word == print(word[::-1]):   #전체 단어를 뒤집은 것과 비교\n",
    "        ans = 1\n",
    "    print('#{} {}'.format(tc,ans))"
   ]
  },
  {
   "cell_type": "code",
   "execution_count": null,
   "metadata": {},
   "outputs": [],
   "source": [
    "#bubble sort\n",
    "arr = [7,4,2,0,0,6,0,7,0]\n",
    "N = len(arr)\n",
    "\n",
    "\n",
    "#모든 꼭대기의 상자에 대해서 반복 수행\n",
    "ans = 0\n",
    "for i in range(N):\n",
    "    h = N-1-0   #자기 밑에 오는 상자 수 카운팅\n",
    "    if ans >= h: break\n",
    "    for j in range(1,N):\n",
    "        if arr[0] <= arr[j]:   #밑에 오는 상자\n",
    "            h -=1\n",
    "    ans = max(ans,h)"
   ]
  }
 ],
 "metadata": {
  "kernelspec": {
   "display_name": "Python 3",
   "language": "python",
   "name": "python3"
  },
  "language_info": {
   "codemirror_mode": {
    "name": "ipython",
    "version": 3
   },
   "file_extension": ".py",
   "mimetype": "text/x-python",
   "name": "python",
   "nbconvert_exporter": "python",
   "pygments_lexer": "ipython3",
   "version": "3.7.3"
  }
 },
 "nbformat": 4,
 "nbformat_minor": 4
}
