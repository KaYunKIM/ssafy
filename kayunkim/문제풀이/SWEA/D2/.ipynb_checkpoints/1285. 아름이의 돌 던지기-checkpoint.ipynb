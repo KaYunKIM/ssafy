{
 "cells": [
  {
   "cell_type": "code",
   "execution_count": 4,
   "metadata": {},
   "outputs": [
    {
     "name": "stdout",
     "output_type": "stream",
     "text": [
      "2\n",
      "2\n",
      "-100 100\n",
      "100\n",
      "2\n",
      "3\n",
      "-5 -1 3\n",
      "1\n",
      "2\n"
     ]
    }
   ],
   "source": [
    "T = int(input())\n",
    "for tc in range(1,T+1):\n",
    "    N = int(input())\n",
    "    stone = list(map(int,input().split()))\n",
    "    min = 100001\n",
    "    cnt = 1\n",
    "    for i in stone:\n",
    "        if i <0:\n",
    "            i*=-1\n",
    "        if min > i:\n",
    "            min = i\n",
    "        if i == min:\n",
    "            cnt += 1\n",
    "    print(min, cnt)"
   ]
  }
 ],
 "metadata": {
  "kernelspec": {
   "display_name": "Python 3",
   "language": "python",
   "name": "python3"
  },
  "language_info": {
   "codemirror_mode": {
    "name": "ipython",
    "version": 3
   },
   "file_extension": ".py",
   "mimetype": "text/x-python",
   "name": "python",
   "nbconvert_exporter": "python",
   "pygments_lexer": "ipython3",
   "version": "3.7.3"
  }
 },
 "nbformat": 4,
 "nbformat_minor": 4
}
