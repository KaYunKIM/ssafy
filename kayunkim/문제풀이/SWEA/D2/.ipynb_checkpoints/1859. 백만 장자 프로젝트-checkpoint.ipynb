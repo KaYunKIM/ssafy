{
 "cells": [
  {
   "cell_type": "code",
   "execution_count": null,
   "metadata": {},
   "outputs": [],
   "source": [
    "T = int(input())\n",
    "for tc in range(1,T+1):\n",
    "    N = int(input())\n",
    "    price = list(map(int,input().split()))\n",
    "    maxV = 0\n",
    "    sum = 0\n",
    "    for i in range(N-1,-1,-1):\n",
    "        if maxV < price[i]:\n",
    "            maxV = price[i]\n",
    "        else:\n",
    "            sum+=(maxV-price[i])\n",
    "    print('#{} {}'.format(tc,sum))"
   ]
  }
 ],
 "metadata": {
  "kernelspec": {
   "display_name": "Python 3",
   "language": "python",
   "name": "python3"
  },
  "language_info": {
   "codemirror_mode": {
    "name": "ipython",
    "version": 3
   },
   "file_extension": ".py",
   "mimetype": "text/x-python",
   "name": "python",
   "nbconvert_exporter": "python",
   "pygments_lexer": "ipython3",
   "version": "3.7.3"
  }
 },
 "nbformat": 4,
 "nbformat_minor": 4
}
