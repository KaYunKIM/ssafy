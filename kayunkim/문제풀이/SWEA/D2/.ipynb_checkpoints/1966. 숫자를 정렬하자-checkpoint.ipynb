{
 "cells": [
  {
   "cell_type": "code",
   "execution_count": 2,
   "metadata": {},
   "outputs": [
    {
     "name": "stdout",
     "output_type": "stream",
     "text": [
      "1\n",
      "5\n",
      "1 4 7 8 0\n",
      "[0, 1, 4, 7, 8]\n"
     ]
    }
   ],
   "source": [
    "#bubblesort\n",
    "T = int(input())\n",
    "for tc in range(1,T+1):\n",
    "    N = int(input())\n",
    "    num = list(map(int,input().split()))\n",
    "    for _ in range(N-1):\n",
    "        for i in range(N-1):\n",
    "            if num[i] > num[i+1]:\n",
    "                num[i], num[i+1] = num[i+1], num[i]\n",
    "    print('#{} {}'.format(tc,' '.join(map(str,num))))"
   ]
  },
  {
   "cell_type": "code",
   "execution_count": null,
   "metadata": {},
   "outputs": [],
   "source": [
    "#sort함수\n",
    "T = int(input())\n",
    "for tc in range(1,T+1):\n",
    "    N = int(input())\n",
    "    num = list(map(int,input().split()))\n",
    "    print('#{} {}'.format(tc,' '.join(map(str,sorted(num)))))"
   ]
  }
 ],
 "metadata": {
  "kernelspec": {
   "display_name": "Python 3",
   "language": "python",
   "name": "python3"
  },
  "language_info": {
   "codemirror_mode": {
    "name": "ipython",
    "version": 3
   },
   "file_extension": ".py",
   "mimetype": "text/x-python",
   "name": "python",
   "nbconvert_exporter": "python",
   "pygments_lexer": "ipython3",
   "version": "3.7.3"
  }
 },
 "nbformat": 4,
 "nbformat_minor": 4
}
