{
 "cells": [
  {
   "cell_type": "code",
   "execution_count": null,
   "metadata": {},
   "outputs": [],
   "source": [
    "T = int(input())\n",
    "for tc in range(1,T+1):\n",
    "    N,K = list(map(int,input().split()))\n",
    "    mtx = [list(map(int,input().split())) for _ in range(N)]\n",
    "    mtx+= [[mtx[x][y] for x in range(N)] for y in range(N)]\n",
    "    ans = 0\n",
    "    for i in range(2*N):\n",
    "        cnt = 0\n",
    "        for j in range(N):\n",
    "            if mtx[i][j] == 1:\n",
    "                cnt+=1\n",
    "            else:\n",
    "                if cnt == K:\n",
    "                    ans +=1\n",
    "                cnt = 0\n",
    "        if cnt == K:\n",
    "            ans+=1\n",
    "    print('3; {}'.format(ans))"
   ]
  }
 ],
 "metadata": {
  "kernelspec": {
   "display_name": "Python 3",
   "language": "python",
   "name": "python3"
  },
  "language_info": {
   "codemirror_mode": {
    "name": "ipython",
    "version": 3
   },
   "file_extension": ".py",
   "mimetype": "text/x-python",
   "name": "python",
   "nbconvert_exporter": "python",
   "pygments_lexer": "ipython3",
   "version": "3.7.3"
  }
 },
 "nbformat": 4,
 "nbformat_minor": 4
}
