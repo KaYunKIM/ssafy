{
 "cells": [
  {
   "cell_type": "code",
   "execution_count": 14,
   "metadata": {},
   "outputs": [
    {
     "name": "stdout",
     "output_type": "stream",
     "text": [
      "1\n",
      "3 17 1 39 8 41 2 32 99 2 \n",
      "18\n"
     ]
    }
   ],
   "source": [
    "T = int(input())\n",
    "for tc in range(1,T+1):\n",
    "    num = list(map(int,input().split()))\n",
    "    maxV = 0\n",
    "    minV = 10001\n",
    "    for i in num:\n",
    "        if maxV < i:\n",
    "            maxV = i\n",
    "        if minV > i:\n",
    "            minV = i\n",
    "    sum = 0\n",
    "    for j in num:\n",
    "        if j != maxV and j!= minV:\n",
    "            sum+=j\n",
    "    ans = sum/8\n",
    "    print('#{} {}'.format(tc,round(ans)))"
   ]
  },
  {
   "cell_type": "code",
   "execution_count": 33,
   "metadata": {},
   "outputs": [
    {
     "name": "stdout",
     "output_type": "stream",
     "text": [
      "1\n",
      "3 17 1 39 8 41 2 32 99 2 \n",
      "#1 18\n"
     ]
    }
   ],
   "source": [
    "T = int(input())\n",
    "for tc in range(1,T+1):\n",
    "    num = list(map(int,input().split()))\n",
    "    num.remove(max(num))\n",
    "    num.remove(min(num))\n",
    "    sum = 0\n",
    "    for i in num:\n",
    "        sum+=i\n",
    "    ans = sum/8\n",
    "    print('#{} {}'.format(tc,round(ans)))"
   ]
  }
 ],
 "metadata": {
  "kernelspec": {
   "display_name": "Python 3",
   "language": "python",
   "name": "python3"
  },
  "language_info": {
   "codemirror_mode": {
    "name": "ipython",
    "version": 3
   },
   "file_extension": ".py",
   "mimetype": "text/x-python",
   "name": "python",
   "nbconvert_exporter": "python",
   "pygments_lexer": "ipython3",
   "version": "3.7.3"
  }
 },
 "nbformat": 4,
 "nbformat_minor": 4
}
