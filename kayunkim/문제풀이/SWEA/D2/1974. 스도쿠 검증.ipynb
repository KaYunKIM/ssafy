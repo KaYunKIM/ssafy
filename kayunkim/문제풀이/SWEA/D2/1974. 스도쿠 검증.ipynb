{
 "cells": [
  {
   "cell_type": "code",
   "execution_count": null,
   "metadata": {},
   "outputs": [],
   "source": [
    "T = int(input())\n",
    "for tc in range(1,T+1):\n",
    "    mtx = [list(map(int,input().split())) for _ in range(9)]\n",
    "    mtxT = mtx+[[mtx[x][y] for x in range(9)] for y in range(9)]\n",
    "    ans = []\n",
    "    for i in range(18):\n",
    "        bin = []\n",
    "        for j in range(9):\n",
    "            if mtxT[i][j] not in bin:\n",
    "                bin.append(mtxT[i][j])\n",
    "                ans.append(1)\n",
    "            else:\n",
    "                ans.append(0)\n",
    "        if 0 in ans:\n",
    "            break\n",
    "    if 0 in ans:\n",
    "        f = 0\n",
    "    else:\n",
    "        ansb = []\n",
    "        for i in range(0,9,3):\n",
    "            for j in range(0,9,3):\n",
    "                binm = []\n",
    "                for bi in range(i,3+i):\n",
    "                    for bj in range(j,3+j):\n",
    "                        if mtx[bi][bj] not in binm:\n",
    "                            binm.append(mtx[bi][bj])\n",
    "                            ansb.append(1)\n",
    "                        else:\n",
    "                            ansb.append(0)\n",
    "        if 0 in ansb:\n",
    "            f = 0\n",
    "        else:\n",
    "            f = 1\n",
    "    print('#{} {}'.format(tc,f))"
   ]
  }
 ],
 "metadata": {
  "kernelspec": {
   "display_name": "Python 3",
   "language": "python",
   "name": "python3"
  },
  "language_info": {
   "codemirror_mode": {
    "name": "ipython",
    "version": 3
   },
   "file_extension": ".py",
   "mimetype": "text/x-python",
   "name": "python",
   "nbconvert_exporter": "python",
   "pygments_lexer": "ipython3",
   "version": "3.7.3"
  }
 },
 "nbformat": 4,
 "nbformat_minor": 4
}
