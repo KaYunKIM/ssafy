{
 "cells": [
  {
   "cell_type": "code",
   "execution_count": 5,
   "metadata": {},
   "outputs": [
    {
     "name": "stdout",
     "output_type": "stream",
     "text": [
      "1\n",
      "3 17 1 39\n",
      "#1 4 56\n"
     ]
    }
   ],
   "source": [
    "T = int(input())\n",
    "for tc in range(1,T+1):\n",
    "    h1,m1,h2,m2 = list(map(int,input().split()))\n",
    "    H = h1+h2\n",
    "    M = m1+m2\n",
    "    if M >= 60:\n",
    "        H+=1\n",
    "        M-=60\n",
    "    if H >= 13:\n",
    "        H-=12\n",
    "    print('#{} {} {}'.format(tc,H,M))"
   ]
  }
 ],
 "metadata": {
  "kernelspec": {
   "display_name": "Python 3",
   "language": "python",
   "name": "python3"
  },
  "language_info": {
   "codemirror_mode": {
    "name": "ipython",
    "version": 3
   },
   "file_extension": ".py",
   "mimetype": "text/x-python",
   "name": "python",
   "nbconvert_exporter": "python",
   "pygments_lexer": "ipython3",
   "version": "3.7.3"
  }
 },
 "nbformat": 4,
 "nbformat_minor": 4
}
