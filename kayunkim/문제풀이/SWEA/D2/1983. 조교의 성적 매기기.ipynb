{
 "cells": [
  {
   "cell_type": "code",
   "execution_count": null,
   "metadata": {},
   "outputs": [],
   "source": [
    "T = int(input())\n",
    "for tc in range(1,T+1):\n",
    "    N,K = list(map(int,input().split()))\n",
    "    mtx = [list(map(int,input().split())) for _ in range(N)]\n",
    "    grade = ['A+', 'A0', 'A-', 'B+', 'B0', 'B-', 'C+', 'C0', 'C-', 'D0']\n",
    "    s = []\n",
    "    for i in mtx:\n",
    "        s.append(i[0]*0.35+ i[1]*0.45+ i[2]*0.2)\n",
    "    ans = s[K-1]\n",
    "    s.sort(reverse = True)\n",
    "    bin = {}\n",
    "    for i in range(10):\n",
    "        h = 0\n",
    "        while h != N//10:\n",
    "            bin[s[i*(N//10)+h]] = grade[i]\n",
    "            h+=1\n",
    "    for k in bin:\n",
    "        if k == ans:\n",
    "             print('#{} {}'.format(tc,bin[k]))"
   ]
  }
 ],
 "metadata": {
  "kernelspec": {
   "display_name": "Python 3",
   "language": "python",
   "name": "python3"
  },
  "language_info": {
   "codemirror_mode": {
    "name": "ipython",
    "version": 3
   },
   "file_extension": ".py",
   "mimetype": "text/x-python",
   "name": "python",
   "nbconvert_exporter": "python",
   "pygments_lexer": "ipython3",
   "version": "3.7.3"
  }
 },
 "nbformat": 4,
 "nbformat_minor": 4
}
