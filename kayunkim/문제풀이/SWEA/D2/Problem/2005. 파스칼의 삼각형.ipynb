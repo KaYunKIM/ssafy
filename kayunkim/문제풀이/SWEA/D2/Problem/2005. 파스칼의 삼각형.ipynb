{
 "cells": [
  {
   "cell_type": "code",
   "execution_count": 9,
   "metadata": {
    "scrolled": true
   },
   "outputs": [
    {
     "name": "stdout",
     "output_type": "stream",
     "text": [
      "1\n",
      "4\n",
      "#1\n",
      "1\n",
      "1 1\n",
      "1 2 1\n",
      "1 3 3 1\n"
     ]
    }
   ],
   "source": [
    "T = int(input())\n",
    "for tc in range(1,T+1):\n",
    "    N = int(input())\n",
    "    ans = [[1]*i for i in range(1,N+1)]\n",
    "    for i in range(2,N):\n",
    "        for j in range(1,i):\n",
    "            ans[i][j] = ans[i-1][j-1]+ans[i-1][j]\n",
    "    print('#{}'.format(tc))\n",
    "    for i in ans:\n",
    "        print(' '.join(map(str,i)))"
   ]
  }
 ],
 "metadata": {
  "kernelspec": {
   "display_name": "Python 3",
   "language": "python",
   "name": "python3"
  },
  "language_info": {
   "codemirror_mode": {
    "name": "ipython",
    "version": 3
   },
   "file_extension": ".py",
   "mimetype": "text/x-python",
   "name": "python",
   "nbconvert_exporter": "python",
   "pygments_lexer": "ipython3",
   "version": "3.7.3"
  }
 },
 "nbformat": 4,
 "nbformat_minor": 4
}
