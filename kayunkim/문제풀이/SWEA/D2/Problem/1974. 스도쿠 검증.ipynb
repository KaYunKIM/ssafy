{
 "cells": [
  {
   "cell_type": "code",
   "execution_count": null,
   "metadata": {},
   "outputs": [],
   "source": [
    "T = int(input())\n",
    "for tc in range(1,T+1):\n",
    "    ans = 1\n",
    "    sudoku = [list(map(int,input().split())) for _ in range(9)]\n",
    "    for i in sudoku:   # 가로탐색\n",
    "        if len(set(i)) != 9:\n",
    "            ans = 0\n",
    "            break\n",
    "             \n",
    "    sudoku_rotate = [[sudoku[j][i] for j in range(9)] for i in range(9)]\n",
    "    for i in sudoku_rotate:   # 세로탐색\n",
    "        if len(set(i)) != 9:\n",
    "            ans = 0\n",
    "            break\n",
    "             \n",
    "    for i in range(0,9,3):   # 3X3탐색\n",
    "        for j in range(0,9,3):\n",
    "            square = []\n",
    "            # print(i,j)\n",
    "            for k in range(3):\n",
    "                for l in range(3):\n",
    "                    square.append(sudoku[i+k][j+l])\n",
    "            if len(set(square)) != 9:\n",
    "                ans = 0\n",
    "                break\n",
    "            break\n",
    " \n",
    "    print('#{} {}'.format(tc,ans))"
   ]
  }
 ],
 "metadata": {
  "kernelspec": {
   "display_name": "Python 3",
   "language": "python",
   "name": "python3"
  },
  "language_info": {
   "codemirror_mode": {
    "name": "ipython",
    "version": 3
   },
   "file_extension": ".py",
   "mimetype": "text/x-python",
   "name": "python",
   "nbconvert_exporter": "python",
   "pygments_lexer": "ipython3",
   "version": "3.7.3"
  },
  "pycharm": {
   "stem_cell": {
    "cell_type": "raw",
    "source": [],
    "metadata": {
     "collapsed": false
    }
   }
  }
 },
 "nbformat": 4,
 "nbformat_minor": 4
}