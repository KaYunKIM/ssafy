{
 "cells": [
  {
   "cell_type": "code",
   "execution_count": 4,
   "metadata": {},
   "outputs": [
    {
     "name": "stdout",
     "output_type": "stream",
     "text": [
      "1\n",
      "SAMSUNGSAMSUNGSAMSUNGSAMSUNGSA\n",
      "#1 7\n"
     ]
    }
   ],
   "source": [
    "T = int(input())\n",
    "for tc in range(1,T+1):\n",
    "    word = list(input())\n",
    "    bin = [0]*30\n",
    "    for i in range(30):\n",
    "        if word[i] != bin[0]:\n",
    "            bin[i] = word[i]\n",
    "        else:\n",
    "            if word[i+1] != bin[1]:\n",
    "                bin[i] = word[i]\n",
    "            else:\n",
    "                break\n",
    "                \n",
    "    cnt = 0\n",
    "    for i in bin:\n",
    "        if i !=0:\n",
    "            cnt +=1\n",
    "    print('#{} {}'.format(tc,cnt))"
   ]
  },
  {
   "cell_type": "code",
   "execution_count": null,
   "metadata": {},
   "outputs": [],
   "source": [
    "T = int(input())\n",
    "for tc in range(1,T+1):\n",
    "    word = input()\n",
    "    for i in range(1,30):      #2번째 글자부터 마지막까지 비교!\n",
    "        if word[0] == word[i]:\n",
    "            if word[:i] == word[i:i*2]:\n",
    "                print('#{} {}'.format(tc,i))\n",
    "                break"
   ]
  },
  {
   "cell_type": "code",
   "execution_count": 1,
   "metadata": {},
   "outputs": [
    {
     "name": "stdout",
     "output_type": "stream",
     "text": [
      "1\n",
      "SAMSUNGSAMSUNGSAMSUNGSAMSUNGSA\n",
      "[]\n",
      "['S']\n",
      "['S']\n",
      "['S', 'A']\n",
      "['S', 'A']\n",
      "['S', 'A', 'M']\n",
      "['S', 'A', 'M']\n",
      "['S', 'A', 'M', 'S']\n",
      "['S', 'A', 'M', 'S']\n",
      "['S', 'A', 'M', 'S', 'U']\n",
      "['S', 'A', 'M', 'S', 'U']\n",
      "['S', 'A', 'M', 'S', 'U', 'N']\n",
      "['S', 'A', 'M', 'S', 'U', 'N']\n",
      "['S', 'A', 'M', 'S', 'U', 'N', 'G']\n",
      "['S', 'A', 'M', 'S', 'U', 'N', 'G']\n",
      "['S', 'A', 'M', 'S', 'U', 'N', 'G', 'S']\n",
      "['S', 'A', 'M', 'S', 'U', 'N', 'G', 'S']\n",
      "['S', 'A', 'M', 'S', 'U', 'N', 'G', 'S', 'A']\n",
      "['S', 'A', 'M', 'S', 'U', 'N', 'G', 'S', 'A']\n",
      "['S', 'A', 'M', 'S', 'U', 'N', 'G', 'S', 'A', 'M']\n",
      "['S', 'A', 'M', 'S', 'U', 'N', 'G', 'S', 'A', 'M']\n",
      "['S', 'A', 'M', 'S', 'U', 'N', 'G', 'S', 'A', 'M', 'S']\n",
      "['S', 'A', 'M', 'S', 'U', 'N', 'G', 'S', 'A', 'M', 'S']\n",
      "['S', 'A', 'M', 'S', 'U', 'N', 'G', 'S', 'A', 'M', 'S', 'U']\n",
      "['S', 'A', 'M', 'S', 'U', 'N', 'G', 'S', 'A', 'M', 'S', 'U']\n",
      "['S', 'A', 'M', 'S', 'U', 'N', 'G', 'S', 'A', 'M', 'S', 'U', 'N']\n",
      "['S', 'A', 'M', 'S', 'U', 'N', 'G', 'S', 'A', 'M', 'S', 'U', 'N']\n",
      "['S', 'A', 'M', 'S', 'U', 'N', 'G', 'S', 'A', 'M', 'S', 'U', 'N', 'G']\n",
      "['S', 'A', 'M', 'S', 'U', 'N', 'G', 'S', 'A', 'M', 'S', 'U', 'N', 'G']\n",
      "['S', 'A', 'M', 'S', 'U', 'N', 'G', 'S', 'A', 'M', 'S', 'U', 'N', 'G', 'S']\n",
      "['S', 'A', 'M', 'S', 'U', 'N', 'G', 'S', 'A', 'M', 'S', 'U', 'N', 'G', 'S']\n",
      "['S', 'A', 'M', 'S', 'U', 'N', 'G', 'S', 'A', 'M', 'S', 'U', 'N', 'G', 'S', 'A']\n",
      "['S', 'A', 'M', 'S', 'U', 'N', 'G', 'S', 'A', 'M', 'S', 'U', 'N', 'G', 'S', 'A']\n",
      "['S', 'A', 'M', 'S', 'U', 'N', 'G', 'S', 'A', 'M', 'S', 'U', 'N', 'G', 'S', 'A', 'M']\n",
      "['S', 'A', 'M', 'S', 'U', 'N', 'G', 'S', 'A', 'M', 'S', 'U', 'N', 'G', 'S', 'A', 'M']\n",
      "['S', 'A', 'M', 'S', 'U', 'N', 'G', 'S', 'A', 'M', 'S', 'U', 'N', 'G', 'S', 'A', 'M', 'S']\n",
      "['S', 'A', 'M', 'S', 'U', 'N', 'G', 'S', 'A', 'M', 'S', 'U', 'N', 'G', 'S', 'A', 'M', 'S']\n",
      "['S', 'A', 'M', 'S', 'U', 'N', 'G', 'S', 'A', 'M', 'S', 'U', 'N', 'G', 'S', 'A', 'M', 'S', 'U']\n",
      "['S', 'A', 'M', 'S', 'U', 'N', 'G', 'S', 'A', 'M', 'S', 'U', 'N', 'G', 'S', 'A', 'M', 'S', 'U']\n",
      "['S', 'A', 'M', 'S', 'U', 'N', 'G', 'S', 'A', 'M', 'S', 'U', 'N', 'G', 'S', 'A', 'M', 'S', 'U', 'N']\n",
      "['S', 'A', 'M', 'S', 'U', 'N', 'G', 'S', 'A', 'M', 'S', 'U', 'N', 'G', 'S', 'A', 'M', 'S', 'U', 'N']\n",
      "['S', 'A', 'M', 'S', 'U', 'N', 'G', 'S', 'A', 'M', 'S', 'U', 'N', 'G', 'S', 'A', 'M', 'S', 'U', 'N', 'G']\n",
      "['S', 'A', 'M', 'S', 'U', 'N', 'G', 'S', 'A', 'M', 'S', 'U', 'N', 'G', 'S', 'A', 'M', 'S', 'U', 'N', 'G']\n",
      "['S', 'A', 'M', 'S', 'U', 'N', 'G', 'S', 'A', 'M', 'S', 'U', 'N', 'G', 'S', 'A', 'M', 'S', 'U', 'N', 'G', 'S']\n",
      "['S', 'A', 'M', 'S', 'U', 'N', 'G', 'S', 'A', 'M', 'S', 'U', 'N', 'G', 'S', 'A', 'M', 'S', 'U', 'N', 'G', 'S']\n",
      "['S', 'A', 'M', 'S', 'U', 'N', 'G', 'S', 'A', 'M', 'S', 'U', 'N', 'G', 'S', 'A', 'M', 'S', 'U', 'N', 'G', 'S', 'A']\n",
      "['S', 'A', 'M', 'S', 'U', 'N', 'G', 'S', 'A', 'M', 'S', 'U', 'N', 'G', 'S', 'A', 'M', 'S', 'U', 'N', 'G', 'S', 'A']\n",
      "['S', 'A', 'M', 'S', 'U', 'N', 'G', 'S', 'A', 'M', 'S', 'U', 'N', 'G', 'S', 'A', 'M', 'S', 'U', 'N', 'G', 'S', 'A', 'M']\n",
      "['S', 'A', 'M', 'S', 'U', 'N', 'G', 'S', 'A', 'M', 'S', 'U', 'N', 'G', 'S', 'A', 'M', 'S', 'U', 'N', 'G', 'S', 'A', 'M']\n",
      "['S', 'A', 'M', 'S', 'U', 'N', 'G', 'S', 'A', 'M', 'S', 'U', 'N', 'G', 'S', 'A', 'M', 'S', 'U', 'N', 'G', 'S', 'A', 'M', 'S']\n",
      "['S', 'A', 'M', 'S', 'U', 'N', 'G', 'S', 'A', 'M', 'S', 'U', 'N', 'G', 'S', 'A', 'M', 'S', 'U', 'N', 'G', 'S', 'A', 'M', 'S']\n",
      "['S', 'A', 'M', 'S', 'U', 'N', 'G', 'S', 'A', 'M', 'S', 'U', 'N', 'G', 'S', 'A', 'M', 'S', 'U', 'N', 'G', 'S', 'A', 'M', 'S', 'U']\n",
      "['S', 'A', 'M', 'S', 'U', 'N', 'G', 'S', 'A', 'M', 'S', 'U', 'N', 'G', 'S', 'A', 'M', 'S', 'U', 'N', 'G', 'S', 'A', 'M', 'S', 'U']\n",
      "['S', 'A', 'M', 'S', 'U', 'N', 'G', 'S', 'A', 'M', 'S', 'U', 'N', 'G', 'S', 'A', 'M', 'S', 'U', 'N', 'G', 'S', 'A', 'M', 'S', 'U', 'N']\n",
      "['S', 'A', 'M', 'S', 'U', 'N', 'G', 'S', 'A', 'M', 'S', 'U', 'N', 'G', 'S', 'A', 'M', 'S', 'U', 'N', 'G', 'S', 'A', 'M', 'S', 'U', 'N']\n",
      "['S', 'A', 'M', 'S', 'U', 'N', 'G', 'S', 'A', 'M', 'S', 'U', 'N', 'G', 'S', 'A', 'M', 'S', 'U', 'N', 'G', 'S', 'A', 'M', 'S', 'U', 'N', 'G']\n",
      "['S', 'A', 'M', 'S', 'U', 'N', 'G', 'S', 'A', 'M', 'S', 'U', 'N', 'G', 'S', 'A', 'M', 'S', 'U', 'N', 'G', 'S', 'A', 'M', 'S', 'U', 'N', 'G']\n",
      "['S', 'A', 'M', 'S', 'U', 'N', 'G', 'S', 'A', 'M', 'S', 'U', 'N', 'G', 'S', 'A', 'M', 'S', 'U', 'N', 'G', 'S', 'A', 'M', 'S', 'U', 'N', 'G', 'S']\n",
      "['S', 'A', 'M', 'S', 'U', 'N', 'G', 'S', 'A', 'M', 'S', 'U', 'N', 'G', 'S', 'A', 'M', 'S', 'U', 'N', 'G', 'S', 'A', 'M', 'S', 'U', 'N', 'G', 'S']\n",
      "['S', 'A', 'M', 'S', 'U', 'N', 'G', 'S', 'A', 'M', 'S', 'U', 'N', 'G', 'S', 'A', 'M', 'S', 'U', 'N', 'G', 'S', 'A', 'M', 'S', 'U', 'N', 'G', 'S', 'A']\n",
      "['S', 'A', 'M', 'S', 'U', 'N', 'G', 'S', 'A', 'M', 'S', 'U', 'N', 'G', 'S', 'A', 'M', 'S', 'U', 'N', 'G', 'S', 'A', 'M', 'S', 'U', 'N', 'G', 'S', 'A']\n"
     ]
    }
   ],
   "source": [
    "#실패코드\n",
    "T = int(input())\n",
    "for tc in range(1,T+1):\n",
    "    word = list(input())\n",
    "    bin = []\n",
    "    for i in range(30):\n",
    "        if word[:i+1] != bin:\n",
    "            bin.append(word[i])\n",
    "        elif word[:i+1] == bin:    #이 경우로는 break되지 않는다\n",
    "            break\n",
    "    print(bin)"
   ]
  }
 ],
 "metadata": {
  "kernelspec": {
   "display_name": "Python 3",
   "language": "python",
   "name": "python3"
  },
  "language_info": {
   "codemirror_mode": {
    "name": "ipython",
    "version": 3
   },
   "file_extension": ".py",
   "mimetype": "text/x-python",
   "name": "python",
   "nbconvert_exporter": "python",
   "pygments_lexer": "ipython3",
   "version": "3.7.3"
  }
 },
 "nbformat": 4,
 "nbformat_minor": 4
}
