{
 "cells": [
  {
   "cell_type": "code",
   "execution_count": 50,
   "metadata": {},
   "outputs": [
    {
     "name": "stdout",
     "output_type": "stream",
     "text": [
      "1\n",
      "8575\n",
      "#1 0 0 2 3 0\n"
     ]
    }
   ],
   "source": [
    "import math\n",
    "T = int(input())\n",
    "for tc in range(1,T+1):\n",
    "    N = int(input())\n",
    "    lst = [2,3,5,7,11]\n",
    "    ans = [0]*5\n",
    "    while N != 1:\n",
    "        for i in range(5):\n",
    "            if N%lst[i] == 0:\n",
    "                ans[i]+=1\n",
    "                N = N//lst[i]\n",
    "    print('#{} {}'.format(tc,' '.join(map(str,ans))))"
   ]
  },
  {
   "cell_type": "code",
   "execution_count": 51,
   "metadata": {},
   "outputs": [
    {
     "name": "stdout",
     "output_type": "stream",
     "text": [
      "5.627185865366504\n"
     ]
    }
   ],
   "source": [
    "import math\n",
    "print(math.log(8575,5))"
   ]
  },
  {
   "cell_type": "code",
   "execution_count": 45,
   "metadata": {},
   "outputs": [
    {
     "name": "stdout",
     "output_type": "stream",
     "text": [
      "2.0\n"
     ]
    }
   ],
   "source": [
    "#로그사용방법 참고\n",
    "import math\n",
    "print(math.log(25,5))"
   ]
  }
 ],
 "metadata": {
  "kernelspec": {
   "display_name": "Python 3",
   "language": "python",
   "name": "python3"
  },
  "language_info": {
   "codemirror_mode": {
    "name": "ipython",
    "version": 3
   },
   "file_extension": ".py",
   "mimetype": "text/x-python",
   "name": "python",
   "nbconvert_exporter": "python",
   "pygments_lexer": "ipython3",
   "version": "3.7.3"
  }
 },
 "nbformat": 4,
 "nbformat_minor": 4
}
