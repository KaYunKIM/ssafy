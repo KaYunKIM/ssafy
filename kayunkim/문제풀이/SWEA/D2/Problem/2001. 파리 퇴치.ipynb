{
 "cells": [
  {
   "cell_type": "code",
   "execution_count": 9,
   "metadata": {},
   "outputs": [
    {
     "name": "stdout",
     "output_type": "stream",
     "text": [
      "1\n",
      "5 2\n",
      "1 3 3 6 7\n",
      "8 13 9 12 8\n",
      "4 16 11 12 6\n",
      "2 4 1 23 2\n",
      "9 13 4 7 3\n",
      "#1 49\n"
     ]
    }
   ],
   "source": [
    "T = int(input())\n",
    "for tc in range(1,T+1):\n",
    "    N,M= list(map(int,input().split()))\n",
    "    mtx = [list(map(int,input().split())) for _ in range(N)]\n",
    "\n",
    "    maxV = 0\n",
    "    for i in range(N-M+1):\n",
    "        for j in range(N-M+1):\n",
    "            sum = 0\n",
    "            for ib in range(i,M+i):\n",
    "                for jb in range(j,M+j):\n",
    "                    sum+=mtx[ib][jb]\n",
    "            if maxV<sum :\n",
    "                maxV = sum\n",
    "    print('#{} {}'.format(tc,maxV))"
   ]
  },
  {
   "cell_type": "code",
   "execution_count": null,
   "metadata": {},
   "outputs": [],
   "source": [
    "di = [-1,0,1,0]\n",
    "dj = [0,1,0,-1] \n",
    "\n",
    "T = int(input())\n",
    "for tc in range(1,T+1):\n",
    "    N,M= list(map(int,input().split()))\n",
    "    mtx = [list(map(int,input().split())) for _ in range(N)]\n",
    "    bin = [[0]*M for _ in range(M)]\n",
    "    for i in range(N-M+1):\n",
    "        for j in range(N-M+1):\n",
    "            sum = 0\n",
    "            for ib in range(M):\n",
    "                for jb in range(M):\n",
    "                    sum+=mtx[ib][jb]\n",
    "            print(sum)\n",
    "                    \n",
    "            \n",
    "            \n",
    "    \n",
    "#         sum = 0\n",
    "        \n",
    "#             ni = i\n",
    "#             nj = j\n",
    "#             while 0<=ni< N and 0<= nj < N:\n",
    "#                 sum+= mtx[ni][nj]\n",
    "#                 ni+=1\n",
    "#                 nj+=1\n",
    "#         print(sum)"
   ]
  }
 ],
 "metadata": {
  "kernelspec": {
   "display_name": "Python 3",
   "language": "python",
   "name": "python3"
  },
  "language_info": {
   "codemirror_mode": {
    "name": "ipython",
    "version": 3
   },
   "file_extension": ".py",
   "mimetype": "text/x-python",
   "name": "python",
   "nbconvert_exporter": "python",
   "pygments_lexer": "ipython3",
   "version": "3.7.3"
  }
 },
 "nbformat": 4,
 "nbformat_minor": 4
}
