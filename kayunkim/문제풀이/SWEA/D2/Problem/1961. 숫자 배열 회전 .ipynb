{
 "cells": [
  {
   "cell_type": "code",
   "execution_count": 4,
   "metadata": {},
   "outputs": [
    {
     "name": "stdout",
     "output_type": "stream",
     "text": [
      "1\n",
      "3\n",
      "1 2 3\n",
      "4 5 6\n",
      "7 8 9\n",
      "741 987 369\n",
      "852 654 258\n",
      "963 321 147\n",
      "[[7, 4, 1], [8, 5, 2], [9, 6, 3]]\n",
      "[[9, 8, 7], [6, 5, 4], [3, 2, 1]]\n",
      "[[3, 6, 9], [2, 5, 8], [1, 4, 7]]\n"
     ]
    }
   ],
   "source": [
    "T = int(input())\n",
    "for tc in range(1,T+1):\n",
    "    N = int(input())\n",
    "    mtx = [list(map(int,input().split())) for _ in range(N)]\n",
    "    mtx90 = [[mtx[i][j] for i in range(N-1,-1,-1)] for j in range(N)]\n",
    "    mtx180 = [[mtx90[i][j] for i in range(N-1,-1,-1)] for j in range(N)]\n",
    "    mtx270 = [[mtx180[i][j] for i in range(N-1,-1,-1)] for j in range(N)]\n",
    "    print('#{}'.format(tc))\n",
    "    for i in range(N):\n",
    "        print(''.join(map(str,mtx90[i])), ''.join(map(str,mtx180[i])), ''.join(map(str,mtx270[i])))"
   ]
  },
  {
   "cell_type": "code",
   "execution_count": 5,
   "metadata": {},
   "outputs": [
    {
     "name": "stdout",
     "output_type": "stream",
     "text": [
      "1\n",
      "3\n",
      "1 2 3\n",
      "4 5 6\n",
      "7 8 9\n",
      "[[1, 2, 3], [4, 5, 6], [7, 8, 9], [1, 4, 7], [2, 5, 8], [3, 6, 9]]\n"
     ]
    }
   ],
   "source": [
    "T = int(input())\n",
    "for tc in range(1,T+1):\n",
    "    N = int(input())\n",
    "    mtx = [list(map(int,input().split())) for _ in range(N)]\n",
    "    mtx+= [[mtx[i][j] for i in range(N)] for j in range(N)]\n",
    "    print(mtx)"
   ]
  }
 ],
 "metadata": {
  "kernelspec": {
   "display_name": "Python 3",
   "language": "python",
   "name": "python3"
  },
  "language_info": {
   "codemirror_mode": {
    "name": "ipython",
    "version": 3
   },
   "file_extension": ".py",
   "mimetype": "text/x-python",
   "name": "python",
   "nbconvert_exporter": "python",
   "pygments_lexer": "ipython3",
   "version": "3.7.3"
  }
 },
 "nbformat": 4,
 "nbformat_minor": 4
}
