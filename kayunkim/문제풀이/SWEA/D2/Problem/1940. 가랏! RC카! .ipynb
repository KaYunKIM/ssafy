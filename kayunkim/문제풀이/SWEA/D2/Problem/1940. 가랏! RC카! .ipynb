{
 "cells": [
  {
   "cell_type": "code",
   "execution_count": null,
   "metadata": {},
   "outputs": [],
   "source": [
    "T = int(input())\n",
    "for tc in range(1,T+1):\n",
    "    N = int(input())\n",
    "    mtx = [list(map(int,input().split())) for _ in range(N)]\n",
    "    v = 0\n",
    "    d = 0\n",
    "    for i in range(N):\n",
    "        if mtx[i][0]== 1:\n",
    "            v+= mtx[i][1]\n",
    "        elif mtx[i][0] == 2:\n",
    "            v-= mtx[i][1]\n",
    "            if v <0:\n",
    "                v = 0\n",
    "        else:\n",
    "            pass\n",
    "        d+=v\n",
    "    print(d)"
   ]
  }
 ],
 "metadata": {
  "kernelspec": {
   "display_name": "Python 3",
   "language": "python",
   "name": "python3"
  },
  "language_info": {
   "codemirror_mode": {
    "name": "ipython",
    "version": 3
   },
   "file_extension": ".py",
   "mimetype": "text/x-python",
   "name": "python",
   "nbconvert_exporter": "python",
   "pygments_lexer": "ipython3",
   "version": "3.7.3"
  }
 },
 "nbformat": 4,
 "nbformat_minor": 4
}
