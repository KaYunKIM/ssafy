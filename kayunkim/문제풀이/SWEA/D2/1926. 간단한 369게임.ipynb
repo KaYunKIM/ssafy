{
 "cells": [
  {
   "cell_type": "code",
   "execution_count": 37,
   "metadata": {
    "scrolled": true
   },
   "outputs": [
    {
     "name": "stdout",
     "output_type": "stream",
     "text": [
      "38\n",
      "1 2 - 4 5 - 7 8 - 10 11 12 - 14 15 - 17 18 - 20 21 22 - 24 25 - 27 28 - - - - -- - - -- - -\n"
     ]
    }
   ],
   "source": [
    "T = int(input())\n",
    "bin = []\n",
    "for i in range(1,T+1):\n",
    "    bin.append(i)\n",
    "    cnt = 0\n",
    "    for j in range(len(str(i))):\n",
    "        if str(i)[j] == '3' or str(i)[j] == '6' or str(i)[j] == '9':\n",
    "            cnt+=1\n",
    "            bin[i-1] = '-'*cnt\n",
    "print(' '.join(map(str,bin)))"
   ]
  }
 ],
 "metadata": {
  "kernelspec": {
   "display_name": "Python 3",
   "language": "python",
   "name": "python3"
  },
  "language_info": {
   "codemirror_mode": {
    "name": "ipython",
    "version": 3
   },
   "file_extension": ".py",
   "mimetype": "text/x-python",
   "name": "python",
   "nbconvert_exporter": "python",
   "pygments_lexer": "ipython3",
   "version": "3.7.3"
  }
 },
 "nbformat": 4,
 "nbformat_minor": 4
}
