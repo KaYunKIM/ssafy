{
 "cells": [
  {
   "cell_type": "code",
   "execution_count": 6,
   "metadata": {},
   "outputs": [
    {
     "name": "stdout",
     "output_type": "stream",
     "text": [
      "1\n",
      "3 5\n",
      "1 5 3\n",
      "3 6 -7 5 4\n",
      "[3, 30, -21]\n",
      "12\n",
      "[6, -35, 15]\n",
      "-14\n",
      "[-7, 25, 12]\n",
      "30\n"
     ]
    }
   ],
   "source": [
    "T = int(input())\n",
    "for tc in range(1,T+1):\n",
    "    N,M = list(map(int,input().split()))\n",
    "    A = list(map(int,input().split()))\n",
    "    B = list(map(int,input().split()))\n",
    "    maxV = 0\n",
    "    if len(A) < len(B):\n",
    "        for i in range(len(B)-len(A)+1):\n",
    "            ans = []\n",
    "            for j in range(len(A)):\n",
    "                ans.append(B[i+j]*A[j])\n",
    "            if maxV < sum(ans):\n",
    "                maxV = sum(ans)\n",
    "    else:                                #A와 B길이 비교 후 작은길이 숫자열로 옮기기\n",
    "        for i in range(len(A)-len(B)+1):\n",
    "            ans = []\n",
    "            for j in range(len(B)):\n",
    "                ans.append(A[i+j]*B[j])\n",
    "            if maxV < sum(ans):\n",
    "                maxV = sum(ans)\n",
    "    print('#{} {}'.format(tc,maxV))"
   ]
  }
 ],
 "metadata": {
  "kernelspec": {
   "display_name": "Python 3",
   "language": "python",
   "name": "python3"
  },
  "language_info": {
   "codemirror_mode": {
    "name": "ipython",
    "version": 3
   },
   "file_extension": ".py",
   "mimetype": "text/x-python",
   "name": "python",
   "nbconvert_exporter": "python",
   "pygments_lexer": "ipython3",
   "version": "3.7.3"
  }
 },
 "nbformat": 4,
 "nbformat_minor": 4
}
