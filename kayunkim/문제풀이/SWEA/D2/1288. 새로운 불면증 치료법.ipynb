{
 "cells": [
  {
   "cell_type": "code",
   "execution_count": null,
   "metadata": {},
   "outputs": [],
   "source": [
    "T = int(input())\n",
    "for tc in range(1,T+1):\n",
    "    N = int(input())\n",
    "    bin = []\n",
    "    j = 1\n",
    "    while len(bin)!= 10:\n",
    "        a= str(N*j)\n",
    "        for i in a:\n",
    "            if i not in bin:\n",
    "                bin.append(i)\n",
    "        j+=1\n",
    "    print('#{} {}'.format(tc,(j-1)*N))"
   ]
  }
 ],
 "metadata": {
  "kernelspec": {
   "display_name": "Python 3",
   "language": "python",
   "name": "python3"
  }
 },
 "nbformat": 4,
 "nbformat_minor": 4
}
