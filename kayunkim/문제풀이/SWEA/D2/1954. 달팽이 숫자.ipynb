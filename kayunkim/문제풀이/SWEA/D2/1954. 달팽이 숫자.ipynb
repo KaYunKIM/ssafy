{
 "cells": [
  {
   "cell_type": "code",
   "execution_count": 32,
   "metadata": {},
   "outputs": [
    {
     "name": "stdout",
     "output_type": "stream",
     "text": [
      "2\n",
      "3\n",
      "#1\n",
      "1 2 3\n",
      "8 9 4\n",
      "7 6 5\n",
      "4\n",
      "#2\n",
      "1 2 3 4\n",
      "12 13 14 5\n",
      "11 16 15 6\n",
      "10 9 8 7\n"
     ]
    }
   ],
   "source": [
    "di = [0,1,0,-1]\n",
    "dj = [1,0,-1,0]\n",
    "\n",
    "T = int(input())\n",
    "for tc in range(1,T+1):\n",
    "    N = int(input())\n",
    "    bin = [[0]*N for _ in range(N)]\n",
    "    num = [i for i in range(1,N*N+1)]\n",
    "    bin[0][0] = 1\n",
    "    i,j = 0,0\n",
    "    h = 1\n",
    "    while h!=N*N:\n",
    "        for d in range(4):\n",
    "            ni = i+di[d]\n",
    "            nj = j+dj[d]\n",
    "\n",
    "            while 0<=ni<N and 0<=nj<N and bin[ni][nj] ==0:\n",
    "                i = ni\n",
    "                j = nj\n",
    "                bin[ni][nj] = num[h]\n",
    "                ni+= di[d]\n",
    "                nj+= dj[d]\n",
    "                h+=1\n",
    "    print('#{}'.format(tc))\n",
    "    for i in bin:\n",
    "        print(' '.join(map(str,i)))"
   ]
  },
  {
   "cell_type": "code",
   "execution_count": 14,
   "metadata": {
    "scrolled": true
   },
   "outputs": [
    {
     "name": "stdout",
     "output_type": "stream",
     "text": [
      "1\n",
      "3\n",
      "0 2\n",
      "1 2\n",
      "2 2\n",
      "[[1, 2, 4], [0, 0, 1], [0, 0, 1]]\n"
     ]
    }
   ],
   "source": [
    "#1st trial\n",
    "di = [0,1,0,-1]\n",
    "dj = [1,0,-1,0]\n",
    "\n",
    "T = int(input())\n",
    "for tc in range(1,T+1):\n",
    "    N = int(input())\n",
    "    bin = [[0]*N for _ in range(N)]\n",
    "    num = [i for i in range(1,N*N+1)]\n",
    "#     for i in range(1,N*N+1,N):\n",
    "#         bin[i][]\n",
    "    \n",
    "#     print(num)\n",
    "    \n",
    "    \n",
    "    for i in range(N):\n",
    "        a = 0\n",
    "        if i == 0:\n",
    "            for j in range(N):\n",
    "                bin[i][j] = num[a]\n",
    "                a+=1\n",
    "        print(i,j)\n",
    "        bin[i][j] = num[a]\n",
    "        a+=1\n",
    "    print(bin)\n",
    "    \n",
    "    \n",
    "#     i,j = 0,0\n",
    "#     bin[i][j] = 1\n",
    "\n",
    "#     h = 1\n",
    "#     while h!= N*N:\n",
    "#         for d in range(4):\n",
    "#             ni = i + di[d]\n",
    "#             nj = j + dj[d]\n",
    "#             if 0<= ni < N and 0<= nj < N:\n",
    "#                 if ni\n",
    "#                 if bin[ni][nj] == 0:\n",
    "#                     bin[ni][nj] = h+1\n",
    "#                     break\n",
    "#         i,j = ni,nj\n",
    "#         h+=1\n",
    "#     print(bin)"
   ]
  },
  {
   "cell_type": "code",
   "execution_count": 62,
   "metadata": {},
   "outputs": [
    {
     "name": "stdout",
     "output_type": "stream",
     "text": [
      "2\n",
      "3\n",
      "[[1, 2, 3], [0, 0, 4], [0, 0, 5]]\n",
      "4\n",
      "[[1, 2, 3, 4], [0, 0, 0, 5], [0, 0, 0, 6], [0, 0, 0, 7]]\n"
     ]
    }
   ],
   "source": [
    "#2nd trial\n",
    "di = [0,1,0,-1]\n",
    "dj = [1,0,-1,0]\n",
    "\n",
    "T = int(input())\n",
    "for tc in range(1,T+1):\n",
    "    N = int(input())\n",
    "    bin = [[0]*N for _ in range(N)]\n",
    "    num = [i for i in range(1,N*N+1)]\n",
    "    ans = 0\n",
    "    j = 0\n",
    "    for i in range(N):\n",
    "        while j != N-1:\n",
    "            bin[i][j] = num[ans]\n",
    "            j+=1\n",
    "            ans+=1\n",
    "        bin[i][j] = num[ans]\n",
    "        ans+=1\n",
    "    print(bin)\n"
   ]
  }
 ],
 "metadata": {
  "kernelspec": {
   "display_name": "Python 3",
   "language": "python",
   "name": "python3"
  },
  "language_info": {
   "codemirror_mode": {
    "name": "ipython",
    "version": 3
   },
   "file_extension": ".py",
   "mimetype": "text/x-python",
   "name": "python",
   "nbconvert_exporter": "python",
   "pygments_lexer": "ipython3",
   "version": "3.7.3"
  }
 },
 "nbformat": 4,
 "nbformat_minor": 4
}
