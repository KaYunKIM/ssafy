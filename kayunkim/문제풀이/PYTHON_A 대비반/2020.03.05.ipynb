{
 "cells": [
  {
   "cell_type": "code",
   "execution_count": null,
   "metadata": {},
   "outputs": [],
   "source": [
    "#2819. 격자판의 숫자 이어 붙이기_1번\n",
    "di = [-1,0,1,0]\n",
    "dj = [0,1,0,-1]\n",
    "\n",
    "def num(n,i,j):\n",
    "    if n == 7:\n",
    "        a = 0           #s배열에서 하나씩 뽑아서 7자리의 숫자 1개로 만들기\n",
    "        for i in range(7):\n",
    "            a = a*10+s[i]\n",
    "        T.add(a)\n",
    "    else:\n",
    "        for d in range(4):\n",
    "            newi = i+di[d]\n",
    "            newj = j+dj[d]\n",
    "            if 0<= newi< 4 and 0<= newj <4:\n",
    "                s[n] = mtx[i][j]     #newi, newj 와 i,j 모두 동일함: 어차피 중복을 제거하니깐??\n",
    "                num(n+1,newi,newj)\n",
    "                \n",
    "T = int(input())\n",
    "for tc in range(1,T+1):\n",
    "    mtx = [list(map(int,input().split())) for _ in range(4)]\n",
    "    s = [0]*7   \n",
    "    T = set()\n",
    "    for i in range(4):\n",
    "        for j in range(4):\n",
    "            num(0,i,j)\n",
    "    print('#{} {}'.format(tc,len(T)))"
   ]
  },
  {
   "cell_type": "code",
   "execution_count": 44,
   "metadata": {},
   "outputs": [
    {
     "name": "stdout",
     "output_type": "stream",
     "text": [
      "1\n",
      "1 1 1 1\n",
      "1 1 1 2\n",
      "1 1 2 1\n",
      "1 1 1 1\n",
      "#1 23\n",
      "{2111111, 2111112, 2121111, 2121112, 1111211, 1111212, 1112111, 1112121, 1121211, 1121212, 1111111, 1111112, 1212111, 1111121, 1121111, 1121112, 1212121, 1211111, 2111211, 2111212, 1211121, 2121211, 2121212}\n"
     ]
    }
   ],
   "source": [
    "#2819. 격자판의 숫자 이어 붙이기_2번\n",
    "di = [-1,0,1,0]\n",
    "dj = [0,1,0,-1]\n",
    "\n",
    "def num(n,i,j,s):\n",
    "    if n == 6:\n",
    "        T.add(s)    #거꾸로 들어감\n",
    "        return\n",
    "    else:\n",
    "        for d in range(4):\n",
    "            ni = i+di[d]\n",
    "            nj = j+dj[d]\n",
    "            if 0<= ni< 4 and 0<= nj < 4:\n",
    "                num(n+1,ni,nj,s*10+mtx[ni][nj])    #바로 7자리 숫자의 1자리씩 만들기\n",
    "\n",
    "T = int(input())\n",
    "for tc in range(1,T+1):\n",
    "    mtx = [list(map(int,input().split())) for _ in range(4)]\n",
    "    v = [0]*7\n",
    "    T = set()\n",
    "    for i in range(4):\n",
    "        for j in range(4):\n",
    "            num(0,i,j,mtx[i][j])\n",
    "    print('#{} {}'.format(tc,len(T)))\n",
    "    print(T)"
   ]
  },
  {
   "cell_type": "code",
   "execution_count": null,
   "metadata": {},
   "outputs": [],
   "source": [
    "di = [-1,0,1,0]\n",
    "dj = [0,1,0,-1]\n",
    "\n",
    "\n",
    "def num(n,i,j,s):\n",
    "    if n == 7:\n",
    "        return 1\n",
    "    else:\n",
    "        for d in range(4):\n",
    "            newi = i+di[d]\n",
    "            newj = j+dj[d]\n",
    "                \n",
    "            if 0<= newi< 4 and 0<= newj <4:\n",
    "                num(n+1,newi,newj+1,s*10+mtx[newi][newj])\n",
    "                num(n+1,newi+1,newj,s*10+mtx[newi][newj])\n",
    "                num(n+1,newi,newj-1,s*10+mtx[newi][newj])\n",
    "                num(n+1,newi-1,newj,s*10+mtx[newi][newj])     #=> 이 방법은 위에서 d로 돌려준 for문과 중복됨\n",
    "\n",
    "T = int(input())\n",
    "for tc in range(1,T+1):\n",
    "    mtx = [list(map(int,input().split())) for _ in range(4)]\n",
    "    cnt = 0\n",
    "    for i in range(4):\n",
    "        for j in range(4):\n",
    "            num(0,i,j,0)\n",
    "            if num == 1:\n",
    "                cnt+=1\n",
    "    print(cnt)"
   ]
  },
  {
   "cell_type": "code",
   "execution_count": null,
   "metadata": {},
   "outputs": [],
   "source": [
    "# num(n+1,ni,nj, s*10+mtx[newi][newj]\n",
    "\n",
    "# a = 1\n",
    "T =set()\n",
    "T.add(a)    #=> 원소를 하나씩 더해줄 때는 set에다가 add해줌/ 여러개를 추가할 때는 .update()를 이용한다\n",
    "b = 2\n",
    "T.add(b)\n",
    "c = 2\n",
    "T.add(c)\n",
    "print(T)\n",
    "\n",
    "# print(T1)"
   ]
  }
 ],
 "metadata": {
  "kernelspec": {
   "display_name": "Python 3",
   "language": "python",
   "name": "python3"
  },
  "language_info": {
   "codemirror_mode": {
    "name": "ipython",
    "version": 3
   },
   "file_extension": ".py",
   "mimetype": "text/x-python",
   "name": "python",
   "nbconvert_exporter": "python",
   "pygments_lexer": "ipython3",
   "version": "3.7.3"
  }
 },
 "nbformat": 4,
 "nbformat_minor": 4
}
