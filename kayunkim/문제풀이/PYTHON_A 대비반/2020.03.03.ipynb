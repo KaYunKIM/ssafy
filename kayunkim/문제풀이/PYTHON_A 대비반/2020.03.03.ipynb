{
 "cells": [
  {
   "cell_type": "code",
   "execution_count": null,
   "metadata": {},
   "outputs": [],
   "source": [
    "#1861 .정사각형 방\n",
    "#단순탐색방법\n",
    "\n",
    "di = [-1,0,1,0]\n",
    "dj = [0,1,0,-1]\n",
    "\n",
    "T = int(input())\n",
    "for tc in range(1,T+1):\n",
    "    N = int(input())\n",
    "    room_no = [list(map(int,input().split())) for _ in range(N)]\n",
    "    V = [0]*(N*N+1)\n",
    "    \n",
    "    for i in range(N):\n",
    "        for j in range(N):\n",
    "            for d in range(4):\n",
    "                newi = i + di[d]\n",
    "                newj = j + dj[d]\n",
    "                if 0<= newi< N and 0<= newj < N and room_no[newi][newj] == room_no[i][j]+1:\n",
    "                    V[room_no[i][j]] =1\n",
    "\n",
    "    sumV = 1\n",
    "    maxV = 0\n",
    "    for i,j in enumerate(V):\n",
    "        if j == 1:\n",
    "            sumV+=1\n",
    "        else:\n",
    "            if maxV < sumV:\n",
    "                maxV = sumV\n",
    "                num =i-maxV+1\n",
    "            sumV = 1\n",
    "            \n",
    "    print('#{} {} {}'.format(tc,num,maxV))"
   ]
  }
 ],
 "metadata": {
  "kernelspec": {
   "display_name": "Python 3",
   "language": "python",
   "name": "python3"
  },
  "language_info": {
   "codemirror_mode": {
    "name": "ipython",
    "version": 3
   },
   "file_extension": ".py",
   "mimetype": "text/x-python",
   "name": "python",
   "nbconvert_exporter": "python",
   "pygments_lexer": "ipython3",
   "version": "3.7.3"
  }
 },
 "nbformat": 4,
 "nbformat_minor": 4
}
