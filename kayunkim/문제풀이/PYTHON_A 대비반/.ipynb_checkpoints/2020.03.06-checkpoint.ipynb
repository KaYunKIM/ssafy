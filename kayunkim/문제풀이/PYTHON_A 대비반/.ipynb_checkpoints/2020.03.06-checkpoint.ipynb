{
 "cells": [
  {
   "cell_type": "code",
   "execution_count": null,
   "metadata": {},
   "outputs": [],
   "source": [
    "#3752. 가능한 시험 점수"
   ]
  },
  {
   "cell_type": "code",
   "execution_count": 3,
   "metadata": {
    "scrolled": false
   },
   "outputs": [
    {
     "name": "stdout",
     "output_type": "stream",
     "text": [
      "2\n",
      "3\n",
      "2 3 5\n"
     ]
    },
    {
     "ename": "NameError",
     "evalue": "name 'ans' is not defined",
     "output_type": "error",
     "traceback": [
      "\u001b[0;31m---------------------------------------------------------------------------\u001b[0m",
      "\u001b[0;31mNameError\u001b[0m                                 Traceback (most recent call last)",
      "\u001b[0;32m<ipython-input-3-7bd737c6683c>\u001b[0m in \u001b[0;36m<module>\u001b[0;34m\u001b[0m\n\u001b[1;32m     12\u001b[0m             \u001b[0mnum\u001b[0m\u001b[0;34m.\u001b[0m\u001b[0madd\u001b[0m\u001b[0;34m(\u001b[0m\u001b[0mi\u001b[0m\u001b[0;34m+\u001b[0m\u001b[0mj\u001b[0m\u001b[0;34m)\u001b[0m\u001b[0;34m\u001b[0m\u001b[0;34m\u001b[0m\u001b[0m\n\u001b[1;32m     13\u001b[0m         \u001b[0mv\u001b[0m \u001b[0;34m=\u001b[0m \u001b[0mset\u001b[0m\u001b[0;34m(\u001b[0m\u001b[0mlist\u001b[0m\u001b[0;34m(\u001b[0m\u001b[0mv\u001b[0m\u001b[0;34m)\u001b[0m\u001b[0;34m+\u001b[0m\u001b[0mlist\u001b[0m\u001b[0;34m(\u001b[0m\u001b[0mnum\u001b[0m\u001b[0;34m)\u001b[0m\u001b[0;34m)\u001b[0m\u001b[0;34m\u001b[0m\u001b[0;34m\u001b[0m\u001b[0m\n\u001b[0;32m---> 14\u001b[0;31m     \u001b[0mprint\u001b[0m\u001b[0;34m(\u001b[0m\u001b[0;34m'#{} {}'\u001b[0m\u001b[0;34m.\u001b[0m\u001b[0mformat\u001b[0m\u001b[0;34m(\u001b[0m\u001b[0mtc\u001b[0m\u001b[0;34m,\u001b[0m\u001b[0mlen\u001b[0m\u001b[0;34m(\u001b[0m\u001b[0mset\u001b[0m\u001b[0;34m(\u001b[0m\u001b[0mans\u001b[0m\u001b[0;34m)\u001b[0m\u001b[0;34m)\u001b[0m\u001b[0;34m)\u001b[0m\u001b[0;34m)\u001b[0m\u001b[0;34m\u001b[0m\u001b[0;34m\u001b[0m\u001b[0m\n\u001b[0m",
      "\u001b[0;31mNameError\u001b[0m: name 'ans' is not defined"
     ]
    }
   ],
   "source": [
    "# def score(n,):\n",
    "\n",
    "T = int(input())\n",
    "for tc in range(1,T+1):\n",
    "    N = int(input())\n",
    "    points = list(map(int,input().split()))\n",
    "    v = set([0])\n",
    "    for i in points:\n",
    "        num = set()\n",
    "        for j in v:\n",
    "            num.add(i+j)\n",
    "        v = set(list(v)+list(num))\n",
    "    print('#{} {}'.format(tc,len(set(v))))"
   ]
  },
  {
   "cell_type": "code",
   "execution_count": 30,
   "metadata": {},
   "outputs": [
    {
     "name": "stdout",
     "output_type": "stream",
     "text": [
      "1 2 3 4 \n",
      "1 2 3 \n",
      "1 2 4 \n",
      "1 2 \n",
      "1 3 4 \n",
      "1 3 \n",
      "1 4 \n",
      "1 \n",
      "2 3 4 \n",
      "2 3 \n",
      "2 4 \n",
      "2 \n",
      "3 4 \n",
      "3 \n",
      "4 \n",
      "\n"
     ]
    }
   ],
   "source": [
    "def powerSet(n, k):\n",
    "    if n == k:\n",
    "        for i in range(n):\n",
    "            if A[i] == 1:\n",
    "                print(arr[i], end=' ')\n",
    "        print()\n",
    "    else:\n",
    "        A[k] = 1\n",
    "        powerSet(n, k+1)\n",
    "        A[k] = 0\n",
    "        powerSet(n, k+1)\n",
    "\n",
    "\n",
    "arr = [1, 2, 3, 4]\n",
    "A = [0]*4\n",
    "powerSet(4, 0)"
   ]
  },
  {
   "cell_type": "code",
   "execution_count": 35,
   "metadata": {},
   "outputs": [
    {
     "name": "stdout",
     "output_type": "stream",
     "text": [
      "1234\n",
      "123\n",
      "124\n",
      "12\n",
      "134\n",
      "13\n",
      "14\n",
      "1\n",
      "234\n",
      "23\n",
      "24\n",
      "2\n",
      "34\n",
      "3\n",
      "4\n",
      "\n"
     ]
    }
   ],
   "source": [
    "def set(n,k):\n",
    "    if n == k:\n",
    "        for i in range(n):\n",
    "            if A[i] == 1:\n",
    "                print(arr[i], end ='')\n",
    "        print()\n",
    "        \n",
    "    else:\n",
    "        A[n] =1\n",
    "        set(n+1,k)\n",
    "        A[n]= 0\n",
    "        set(n+1,k)\n",
    "\n",
    "arr = [1,2,3,4]\n",
    "A = [0]*4\n",
    "set(0,4)"
   ]
  },
  {
   "cell_type": "code",
   "execution_count": 16,
   "metadata": {
    "scrolled": true
   },
   "outputs": [
    {
     "name": "stdout",
     "output_type": "stream",
     "text": [
      "2\n",
      "3\n",
      "2 3 5\n",
      "7\n",
      "10\n",
      "1 1 1 1 1 1 1 1 1 1\n",
      "11\n"
     ]
    }
   ],
   "source": [
    "#제한시간초과1\n",
    "T = int(input())\n",
    "for tc in range(1,T+1):\n",
    "    N = int(input())\n",
    "    mtx = list(map(int,input().split()))\n",
    "    lst = [i for i in range(N)]\n",
    "    ans = []\n",
    "    visited = []\n",
    "    for i in range(1<<N):\n",
    "        bin = []\n",
    "        for j in range(N):\n",
    "            if i&(1<<j):\n",
    "                bin.append(mtx[j])\n",
    "        if sum(bin) not in visited:\n",
    "            ans.append(bin)\n",
    "            visited.append(sum(bin))\n",
    "    print('#{} {}'.format(tc,len(ans)))"
   ]
  },
  {
   "cell_type": "code",
   "execution_count": 39,
   "metadata": {},
   "outputs": [
    {
     "name": "stdout",
     "output_type": "stream",
     "text": [
      "1\n",
      "3\n",
      "2 3 5\n",
      "#1 7\n"
     ]
    }
   ],
   "source": [
    "#제한시간초과2\n",
    "T = int(input())\n",
    "for tc in range(1,T+1):\n",
    "    N = int(input())\n",
    "    mtx = list(map(int,input().split()))\n",
    "    lst = [i for i in range(N)]\n",
    "    ans = set()\n",
    "    for i in range(1<<N):\n",
    "        bin = []\n",
    "        for j in range(N):\n",
    "            if i&(1<<j):\n",
    "                bin.append(mtx[j])\n",
    "        if sum(bin) not in ans:\n",
    "            ans.add(sum(bin))\n",
    "    print('#{} {}'.format(tc,len(ans)))"
   ]
  },
  {
   "cell_type": "code",
   "execution_count": 73,
   "metadata": {},
   "outputs": [
    {
     "name": "stdout",
     "output_type": "stream",
     "text": [
      "1\n",
      "3\n",
      "2 3 5\n",
      "i,j:2 0\n",
      "[0, 2]\n",
      "j:0\n",
      "1:2\n",
      "i+j:2\n",
      "i,j:3 0\n",
      "[0, 2, 3]\n",
      "j:0\n",
      "1:3\n",
      "i+j:3\n",
      "i,j:5 0\n",
      "[0, 2, 3, 5]\n",
      "j:0\n",
      "1:5\n",
      "i+j:5\n",
      "[1, 0, 1, 1, 0, 1, 0, 0, 0, 0, 0]\n"
     ]
    }
   ],
   "source": [
    "T = int(input())\n",
    "for tc in range(1,T+1):\n",
    "    N = int(input())\n",
    "    mtx = list(map(int,input().split()))\n",
    "    A = [1]+[0]*(sum(mtx))\n",
    "    s = [0]\n",
    "    for i in mtx:\n",
    "        for j in A:\n",
    "            print('i,j:{} {}'.format(i,j))\n",
    "            if A[i+j] == 0:\n",
    "                A[i+j] = 1\n",
    "                s.append(i+j)\n",
    "                print(s)\n",
    "                print('j:{}'.format(j))\n",
    "                print('1:{}'.format(i+j))\n",
    "            break\n",
    "#         s.append(i+j)\n",
    "        print('i+j:{}'.format(i+j))\n",
    "                \n",
    "    print(A)    \n",
    "#     print('#{} {}'.format(tc,len(ans)))"
   ]
  },
  {
   "cell_type": "code",
   "execution_count": null,
   "metadata": {},
   "outputs": [],
   "source": []
  }
 ],
 "metadata": {
  "kernelspec": {
   "display_name": "Python 3",
   "language": "python",
   "name": "python3"
  },
  "language_info": {
   "codemirror_mode": {
    "name": "ipython",
    "version": 3
   },
   "file_extension": ".py",
   "mimetype": "text/x-python",
   "name": "python",
   "nbconvert_exporter": "python",
   "pygments_lexer": "ipython3",
   "version": "3.7.3"
  }
 },
 "nbformat": 4,
 "nbformat_minor": 4
}
