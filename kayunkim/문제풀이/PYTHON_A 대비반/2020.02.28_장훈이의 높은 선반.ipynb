{
 "cells": [
  {
   "cell_type": "code",
   "execution_count": null,
   "metadata": {},
   "outputs": [],
   "source": [
    "#1486. 장훈이의 높은 선반\n",
    "def bs(i,sum):\n",
    "    global minV\n",
    "    if sum >= B:\n",
    "        diff = sum -B\n",
    "        if minV > diff:\n",
    "            minV = diff\n",
    "        return\n",
    "    else:\n",
    "        for j in range(i,N):\n",
    "            visited[j] =True\n",
    "            bs(j+1,sum+mtx[j])\n",
    "            visited[j] = False\n",
    "             \n",
    "T = int(input())\n",
    "for tc in range(1,T+1):\n",
    "    N,B = map(int,input().split())\n",
    "    mtx = list(map(int,input().split()))\n",
    "    visited = [0]*N\n",
    "    minV = B\n",
    "    mtx.sort(reverse = True)\n",
    "    bs(0,0)\n",
    "    print('#{} {}'.format(tc,minV))"
   ]
  }
 ],
 "metadata": {
  "kernelspec": {
   "display_name": "Python 3",
   "language": "python",
   "name": "python3"
  },
  "language_info": {
   "codemirror_mode": {
    "name": "ipython",
    "version": 3
   },
   "file_extension": ".py",
   "mimetype": "text/x-python",
   "name": "python",
   "nbconvert_exporter": "python",
   "pygments_lexer": "ipython3",
   "version": "3.7.3"
  }
 },
 "nbformat": 4,
 "nbformat_minor": 4
}
