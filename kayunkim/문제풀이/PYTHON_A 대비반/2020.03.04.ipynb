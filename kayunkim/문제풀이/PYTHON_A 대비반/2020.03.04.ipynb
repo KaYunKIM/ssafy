{
 "cells": [
  {
   "cell_type": "code",
   "execution_count": null,
   "metadata": {},
   "outputs": [],
   "source": [
    "#1865.동철이의 일 분배\n",
    "def tasks(n,s):\n",
    "    global maxV\n",
    "    if maxV>= s:\n",
    "        return\n",
    "    \n",
    "    if n == N:\n",
    "        if maxV < s:\n",
    "            maxV = s\n",
    "    else:\n",
    "        for k in range(N):\n",
    "            if visited[k] == 0:\n",
    "                visited[k] = 1\n",
    "                tasks(n+1,s*0.01*mtx[n][k])\n",
    "                visited[k] = 0\n",
    "\n",
    "T = int(input())\n",
    "for tc in range(1,T+1):\n",
    "    N = int(input())\n",
    "    mtx = [list(map(int,input().split())) for _ in range(N)]\n",
    "    maxV = 0\n",
    "    visited = [0]*N\n",
    "    tasks(0,1)\n",
    "    print('#{} {:.6f}'.format(tc,maxV*100))        "
   ]
  },
  {
   "cell_type": "code",
   "execution_count": null,
   "metadata": {},
   "outputs": [],
   "source": [
    "#맨 처음 dfs만 나오는 경우\n",
    "def tasks(n,i,j,s):\n",
    "    global maxV\n",
    "    if n ==N:\n",
    "        if maxV < s:\n",
    "            maxV = s\n",
    "    else:\n",
    "        bin.append(j)\n",
    "        for k in range(N):\n",
    "            if k not in bin:\n",
    "                tasks(n+1,i+1,j*0+k,s*0.01*mtx[i+1][j*0+k])\n",
    "\n",
    "T = int(input())\n",
    "for tc in range(1,T+1):\n",
    "    N = int(input())\n",
    "    mtx = [list(map(int,input().split())) for _ in range(N)]\n",
    "    maxV = 0\n",
    "    bin = []\n",
    "    for j in range(N):\n",
    "        tasks(1,0,j,0.01*mtx[0][j])\n",
    "    print('#{} {:.6f}'.format(tc,maxV*100))"
   ]
  }
 ],
 "metadata": {
  "kernelspec": {
   "display_name": "Python 3",
   "language": "python",
   "name": "python3"
  },
  "language_info": {
   "codemirror_mode": {
    "name": "ipython",
    "version": 3
   },
   "file_extension": ".py",
   "mimetype": "text/x-python",
   "name": "python",
   "nbconvert_exporter": "python",
   "pygments_lexer": "ipython3",
   "version": "3.7.3"
  }
 },
 "nbformat": 4,
 "nbformat_minor": 4
}
