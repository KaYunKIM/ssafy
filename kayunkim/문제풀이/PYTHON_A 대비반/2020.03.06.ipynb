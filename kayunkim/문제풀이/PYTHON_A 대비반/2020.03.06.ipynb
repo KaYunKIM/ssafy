{
 "cells": [
  {
   "cell_type": "code",
   "execution_count": null,
   "metadata": {},
   "outputs": [],
   "source": [
    "#3752. 가능한 시험 점수\n",
    "T = int(input())\n",
    "for tc in range(1,T+1):\n",
    "    N = int(input())\n",
    "    mtx = list(map(int,input().split()))\n",
    "    ans = set([0])\n",
    "    for i in mtx:\n",
    "        bin = set()\n",
    "        for j in ans:\n",
    "            bin.add(i+j)\n",
    "        print(bin)\n",
    "        ans = set(list(ans)+list(bin))\n",
    "    print('#{} {}'.format(tc,len(ans)))"
   ]
  },
  {
   "cell_type": "code",
   "execution_count": 86,
   "metadata": {},
   "outputs": [
    {
     "name": "stdout",
     "output_type": "stream",
     "text": [
      "1\n",
      "3\n",
      "2 3 5\n",
      "#1 11\n"
     ]
    }
   ],
   "source": [
    "#3752. 가능한 시험 점수_2\n",
    "T = int(input())\n",
    "for tc in range(1,T+1):\n",
    "    N = int(input())\n",
    "    mtx = list(map(int,input().split()))\n",
    "    lst = [1]+[0]*sum(mtx)\n",
    "    for i in mtx:\n",
    "        for j in range(sum(mtx),-1,-1):\n",
    "            if lst[j] == 1:\n",
    "                lst[i+j] = 1\n",
    "    print('#{} {}'.format(tc,sum(lst)))"
   ]
  },
  {
   "cell_type": "code",
   "execution_count": 30,
   "metadata": {},
   "outputs": [
    {
     "name": "stdout",
     "output_type": "stream",
     "text": [
      "1 2 3 4 \n",
      "1 2 3 \n",
      "1 2 4 \n",
      "1 2 \n",
      "1 3 4 \n",
      "1 3 \n",
      "1 4 \n",
      "1 \n",
      "2 3 4 \n",
      "2 3 \n",
      "2 4 \n",
      "2 \n",
      "3 4 \n",
      "3 \n",
      "4 \n",
      "\n"
     ]
    }
   ],
   "source": [
    "#부분집합 구하기\n",
    "def powerSet(n, k):\n",
    "    if n == k:\n",
    "        for i in range(n):\n",
    "            if A[i] == 1:\n",
    "                print(arr[i], end=' ')\n",
    "        print()\n",
    "    else:\n",
    "        A[k] = 1\n",
    "        powerSet(n, k+1)\n",
    "        A[k] = 0\n",
    "        powerSet(n, k+1)\n",
    "\n",
    "\n",
    "arr = [1, 2, 3, 4]\n",
    "A = [0]*4\n",
    "powerSet(4, 0)"
   ]
  },
  {
   "cell_type": "code",
   "execution_count": 16,
   "metadata": {
    "scrolled": true
   },
   "outputs": [
    {
     "name": "stdout",
     "output_type": "stream",
     "text": [
      "2\n",
      "3\n",
      "2 3 5\n",
      "7\n",
      "10\n",
      "1 1 1 1 1 1 1 1 1 1\n",
      "11\n"
     ]
    }
   ],
   "source": [
    "#제한시간초과1\n",
    "T = int(input())\n",
    "for tc in range(1,T+1):\n",
    "    N = int(input())\n",
    "    mtx = list(map(int,input().split()))\n",
    "    lst = [i for i in range(N)]\n",
    "    ans = []\n",
    "    visited = []\n",
    "    for i in range(1<<N):\n",
    "        bin = []\n",
    "        for j in range(N):\n",
    "            if i&(1<<j):\n",
    "                bin.append(mtx[j])\n",
    "        if sum(bin) not in visited:\n",
    "            ans.append(bin)\n",
    "            visited.append(sum(bin))\n",
    "    print('#{} {}'.format(tc,len(ans)))"
   ]
  },
  {
   "cell_type": "code",
   "execution_count": 39,
   "metadata": {},
   "outputs": [
    {
     "name": "stdout",
     "output_type": "stream",
     "text": [
      "1\n",
      "3\n",
      "2 3 5\n",
      "#1 7\n"
     ]
    }
   ],
   "source": [
    "#제한시간초과2\n",
    "T = int(input())\n",
    "for tc in range(1,T+1):\n",
    "    N = int(input())\n",
    "    mtx = list(map(int,input().split()))\n",
    "    lst = [i for i in range(N)]\n",
    "    ans = set()\n",
    "    for i in range(1<<N):\n",
    "        bin = []\n",
    "        for j in range(N):\n",
    "            if i&(1<<j):\n",
    "                bin.append(mtx[j])\n",
    "        if sum(bin) not in ans:\n",
    "            ans.add(sum(bin))\n",
    "    print('#{} {}'.format(tc,len(ans)))"
   ]
  },
  {
   "cell_type": "code",
   "execution_count": null,
   "metadata": {},
   "outputs": [],
   "source": [
    "#실패코드\n",
    "T = int(input())\n",
    "for tc in range(1,T+1):\n",
    "    N = int(input())\n",
    "    mtx = list(map(int,input().split()))\n",
    "    A = [1]+[0]*(sum(mtx))\n",
    "    s = [0]\n",
    "    for i in mtx:\n",
    "        for j in ans:\n",
    "            print('i,j:{} {}'.format(i,j))\n",
    "            if A[i+j] == 0:\n",
    "                A[i+j] = 1\n",
    "                s.append(i+j)\n",
    "                print(s)\n",
    "                print('j:{}'.format(j))\n",
    "                print('1:{}'.format(i+j))\n",
    "            break\n",
    "#         s.append(i+j)\n",
    "        print('i+j:{}'.format(i+j))\n",
    "                \n",
    "    print(A)    \n",
    "#     print('#{} {}'.format(tc,len(ans)))"
   ]
  }
 ],
 "metadata": {
  "kernelspec": {
   "display_name": "Python 3",
   "language": "python",
   "name": "python3"
  },
  "language_info": {
   "codemirror_mode": {
    "name": "ipython",
    "version": 3
   },
   "file_extension": ".py",
   "mimetype": "text/x-python",
   "name": "python",
   "nbconvert_exporter": "python",
   "pygments_lexer": "ipython3",
   "version": "3.7.3"
  }
 },
 "nbformat": 4,
 "nbformat_minor": 4
}
