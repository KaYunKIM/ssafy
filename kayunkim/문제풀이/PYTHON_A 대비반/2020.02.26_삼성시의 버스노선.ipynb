{
 "cells": [
  {
   "cell_type": "code",
   "execution_count": null,
   "metadata": {},
   "outputs": [],
   "source": [
    "#6485. 삼성시의 버스 노선\n",
    "T = int(input())\n",
    "for tc in range(1,T+1):\n",
    "    N = int(input())\n",
    "    BN = [list(map(int,input().split())) for _ in range(N)]\n",
    "    P = int(input())\n",
    "    BS = [int(input()) for _ in range(P)]\n",
    "    V = [0]*P\n",
    "\n",
    "    for i in range(N):\n",
    "        for j in range(P):\n",
    "            if BN[i][0] <=  BS[j] <= BN[i][1]:\n",
    "                V[j] +=1       #해당 번 정류장 지나는 버스노선 개수 => 정류장 리스트와 동일한 인덱스 적용\n",
    "       \n",
    "    print('#{} '.format(tc), end ='')    \n",
    "    print(' '.join(map(str,V)))"
   ]
  }
 ],
 "metadata": {
  "kernelspec": {
   "display_name": "Python 3",
   "language": "python",
   "name": "python3"
  },
  "language_info": {
   "codemirror_mode": {
    "name": "ipython",
    "version": 3
   },
   "file_extension": ".py",
   "mimetype": "text/x-python",
   "name": "python",
   "nbconvert_exporter": "python",
   "pygments_lexer": "ipython3",
   "version": "3.7.3"
  }
 },
 "nbformat": 4,
 "nbformat_minor": 4
}
