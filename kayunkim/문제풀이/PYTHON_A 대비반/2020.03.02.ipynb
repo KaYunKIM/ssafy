{
 "cells": [
  {
   "cell_type": "code",
   "execution_count": null,
   "metadata": {},
   "outputs": [],
   "source": [
    "#[모의 SW 역량테스트] 숫자 만들기\n",
    "def cal(n,k,s,a,b,c,d):\n",
    "    global maxV\n",
    "    global minV\n",
    "    if n >= k:\n",
    "        if maxV < s:\n",
    "            maxV = s\n",
    "        if minV > s:\n",
    "            minV = s\n",
    "        return\n",
    "    else:   \n",
    "        if a > 0:\n",
    "            cal(n+1,k,s+num[n],a-1,b,c,d)\n",
    "        if b > 0:\n",
    "            cal(n+1,k,s-num[n],a,b-1,c,d)\n",
    "        if c > 0:\n",
    "            cal(n+1,k,s*num[n],a,b,c-1,d)\n",
    "        if d > 0:\n",
    "            cal(n+1,k,int(s/num[n]),a,b,c,d-1)\n",
    "\n",
    "T = int(input())\n",
    "for tc in range(1,T+1):\n",
    "    N = int(input())\n",
    "    a,b,c,d = list(map(int,input().split()))\n",
    "    num = list(map(int,input().split()))\n",
    "    maxV = -100000000\n",
    "    minV = 100000000\n",
    "    cal(1,N,num[0],a,b,c,d)\n",
    "    print('#{} {}'.format(tc, maxV-minV))"
   ]
  },
  {
   "cell_type": "code",
   "execution_count": null,
   "metadata": {},
   "outputs": [],
   "source": [
    "#[모의 SW 역량테스트] 수영장\n",
    "def pool(n,s,D,M,T):\n",
    "    global minV\n",
    "    if n > 12:\n",
    "        if minV > s:\n",
    "            minV = s\n",
    "        return minV\n",
    "    else:\n",
    "        pool(n+1,s+months[n]*D,D,M,T)\n",
    "        pool(n+1,s+M,D,M,T)\n",
    "        pool(n+3,s+T,D,M,T)\n",
    "        \n",
    "T = int(input())\n",
    "for tc in range(1,T+1):\n",
    "    D,M,T,Y = list(map(int,input().split()))\n",
    "    months = [0]+list(map(int,input().split()))\n",
    "    minV = Y\n",
    "    pool(1,0,D,M,T)\n",
    "    print('#{} {}'.format(tc,minV))"
   ]
  }
 ],
 "metadata": {
  "kernelspec": {
   "display_name": "Python 3",
   "language": "python",
   "name": "python3"
  },
  "language_info": {
   "codemirror_mode": {
    "name": "ipython",
    "version": 3
   },
   "file_extension": ".py",
   "mimetype": "text/x-python",
   "name": "python",
   "nbconvert_exporter": "python",
   "pygments_lexer": "ipython3",
   "version": "3.7.3"
  }
 },
 "nbformat": 4,
 "nbformat_minor": 4
}
