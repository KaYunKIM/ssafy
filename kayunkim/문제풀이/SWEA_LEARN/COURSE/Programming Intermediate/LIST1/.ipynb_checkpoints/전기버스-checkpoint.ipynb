{
 "cells": [
  {
   "cell_type": "code",
   "execution_count": null,
   "metadata": {},
   "outputs": [],
   "source": [
    "#전기버스\n",
    "T = int(input())\n",
    "for tc in range(1,T+1):\n",
    "    K,N,M = list(map(int,input().split()))\n",
    "    stn = list(map(int,input().split()))\n",
    "    mtx = []\n",
    "    for i in range(1,N+1):\n",
    "        if i in stn:\n",
    "            mtx.append(1)\n",
    "        else:\n",
    "            mtx.append(0)\n",
    "            \n",
    "    ans = [0]+ mtx\n",
    "    cur = 0\n",
    "    cnt = 0\n",
    "    while cur < N-K:\n",
    "        zero = 0\n",
    "        for n in range(K,0,-1):\n",
    "            if ans[cur+n] == 1:\n",
    "                cnt += 1\n",
    "                break \n",
    "            else:\n",
    "                zero += 1\n",
    "        if zero == K:\n",
    "            cnt = 0\n",
    "            break\n",
    "        else:\n",
    "            cur = cur+n\n",
    "    print('#{} {}'.format(tc,cnt))"
   ]
  }
 ],
 "metadata": {
  "kernelspec": {
   "display_name": "Python 3",
   "language": "python",
   "name": "python3"
  },
  "language_info": {
   "codemirror_mode": {
    "name": "ipython",
    "version": 3
   },
   "file_extension": ".py",
   "mimetype": "text/x-python",
   "name": "python",
   "nbconvert_exporter": "python",
   "pygments_lexer": "ipython3",
   "version": "3.7.3"
  }
 },
 "nbformat": 4,
 "nbformat_minor": 4
}
