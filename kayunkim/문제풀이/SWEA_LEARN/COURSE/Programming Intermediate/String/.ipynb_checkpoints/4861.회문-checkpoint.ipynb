{
 "cells": [
  {
   "cell_type": "code",
   "execution_count": null,
   "metadata": {},
   "outputs": [],
   "source": [
    "def palin(N,M):\n",
    "    for i in range(len(mtx)):\n",
    "        for j in range(N-M+1):\n",
    "            if j == 0:\n",
    "                if mtx[i][j:j+M] == mtx[i][j+M-1::-1]:    #인덱싱주의!!\n",
    "                    return mtx[i][j:j+M]\n",
    "                    break\n",
    "            else:\n",
    "                if mtx[i][j:j+M] == mtx[i][j+M-1:j-1:-1]:\n",
    "                    return mtx[i][j:j+M]\n",
    "                    break\n",
    "T = int(input())\n",
    "for tc in range(1,T+1):\n",
    "    N,M = list(map(int,input().split()))\n",
    "    mtx = [list(input()) for _ in range(N)]\n",
    "    mtx+= [[mtx[x][y] for x in range(N)] for y in range(N)]\n",
    "    print('#{} {}'.format(tc,''.join(palin(N,M))))"
   ]
  },
  {
   "cell_type": "code",
   "execution_count": 30,
   "metadata": {},
   "outputs": [
    {
     "name": "stdout",
     "output_type": "stream",
     "text": [
      "[1, 2, 3, 4, 5]\n",
      "[5, 4, 3, 2, 1]\n"
     ]
    }
   ],
   "source": [
    "mtx = [1,2,3,4,5]\n",
    "print(mtx[0:6])\n",
    "print(mtx[6::-1])"
   ]
  }
 ],
 "metadata": {
  "kernelspec": {
   "display_name": "Python 3",
   "language": "python",
   "name": "python3"
  },
  "language_info": {
   "codemirror_mode": {
    "name": "ipython",
    "version": 3
   },
   "file_extension": ".py",
   "mimetype": "text/x-python",
   "name": "python",
   "nbconvert_exporter": "python",
   "pygments_lexer": "ipython3",
   "version": "3.7.3"
  }
 },
 "nbformat": 4,
 "nbformat_minor": 4
}
