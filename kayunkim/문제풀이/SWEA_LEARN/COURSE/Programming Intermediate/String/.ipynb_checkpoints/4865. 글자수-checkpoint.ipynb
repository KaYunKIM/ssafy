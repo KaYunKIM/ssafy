{
 "cells": [
  {
   "cell_type": "code",
   "execution_count": 5,
   "metadata": {},
   "outputs": [
    {
     "name": "stdout",
     "output_type": "stream",
     "text": [
      "1\n",
      "XYPV\n",
      "EOGGXYPVSY\n",
      "2\n"
     ]
    }
   ],
   "source": [
    "T = int(input())\n",
    "for tc in range(1,T+1):\n",
    "    N = input()\n",
    "    M = input()\n",
    "    bin = {}\n",
    "    for i in N:\n",
    "        if i not in bin:\n",
    "            for j in M:\n",
    "                if i in j:\n",
    "                    if i not in bin:\n",
    "                        bin[i]=1\n",
    "                    else:\n",
    "                        bin[i]+=1\n",
    "    maxV = 0\n",
    "    for i in bin:\n",
    "        if maxV < bin[i]:\n",
    "            maxV = bin[i]\n",
    "    print('#{} {}'.format(tc,maxV))"
   ]
  },
  {
   "cell_type": "code",
   "execution_count": null,
   "metadata": {},
   "outputs": [],
   "source": [
    "#함수사용\n",
    "def f(N,M): \n",
    "    global maxV\n",
    "    for i in N:\n",
    "        if i not in bin:\n",
    "            for j in M:\n",
    "                if i in j:\n",
    "                    if i not in bin:\n",
    "                        bin[i]=1\n",
    "                    else:\n",
    "                        bin[i]+=1\n",
    "    for i in bin:\n",
    "        if maxV < bin[i]:\n",
    "            maxV = bin[i]\n",
    "    return maxV\n",
    "\n",
    "T = int(input())\n",
    "for tc in range(1,T+1):\n",
    "    N = input()\n",
    "    M = input()\n",
    "    bin = {}\n",
    "    maxV = 0\n",
    "    print('#{} {}'.format(tc,f(N,M)))"
   ]
  }
 ],
 "metadata": {
  "kernelspec": {
   "display_name": "Python 3",
   "language": "python",
   "name": "python3"
  },
  "language_info": {
   "codemirror_mode": {
    "name": "ipython",
    "version": 3
   },
   "file_extension": ".py",
   "mimetype": "text/x-python",
   "name": "python",
   "nbconvert_exporter": "python",
   "pygments_lexer": "ipython3",
   "version": "3.7.3"
  }
 },
 "nbformat": 4,
 "nbformat_minor": 4
}
