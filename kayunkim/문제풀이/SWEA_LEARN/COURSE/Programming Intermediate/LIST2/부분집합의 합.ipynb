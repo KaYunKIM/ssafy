{
 "cells": [
  {
   "cell_type": "code",
   "execution_count": null,
   "metadata": {},
   "outputs": [],
   "source": [
    "T = int(input())\n",
    "for tc in range(1,T+1):\n",
    "    N,K = list(map(int,input().split())) \n",
    "    mtx = [i for i in range(1,13)]\n",
    "    \n",
    "    sub = []\n",
    "    for i in range(1<<12):\n",
    "        bin = []\n",
    "        for j in range(12):\n",
    "            if i&(1<<j):\n",
    "                bin.append(mtx[j])\n",
    "        sub.append(bin)\n",
    "    \n",
    "    ans = []\n",
    "    for i in sub:\n",
    "        if len(i) == N and sum(i) == K:\n",
    "            ans.append(i)\n",
    "    print('#{} {}'.format(tc, len(ans)))\n",
    "        "
   ]
  },
  {
   "cell_type": "code",
   "execution_count": 1,
   "metadata": {},
   "outputs": [
    {
     "name": "stdout",
     "output_type": "stream",
     "text": [
      "2\n",
      "4\n",
      "8\n",
      "16\n",
      "32\n",
      "64\n",
      "128\n",
      "256\n",
      "512\n",
      "1024\n",
      "2048\n",
      "4096\n"
     ]
    }
   ],
   "source": [
    "#실패 => TestCase 10개 중 4개 오류\n",
    "T = int(input())\n",
    "for tc in range(1,T+1):\n",
    "    N,K = list(map(int,input().split())) \n",
    "    mtx = [i for i in range(1,13)]\n",
    "\n",
    "    bin1 = []\n",
    "    for i in range(1<<N):      #전체 집합의 개수 설정 필요!!\n",
    "        bin = []\n",
    "        for j in range(13):    #동일하게 12로 설정해야함\n",
    "            if i&(1<<j):\n",
    "                bin.append(mtx[j])\n",
    "        bin1.append(bin)\n",
    "    \n",
    "    cnt = 0\n",
    "    for i in bin1:\n",
    "        sum = 0\n",
    "        if len(i) == N:\n",
    "            for j in range(len(i)):\n",
    "                sum+= i[j]\n",
    "            if sum == K:\n",
    "                cnt +=1\n",
    "    print('#{} {}'.format(tc,cnt))"
   ]
  }
 ],
 "metadata": {
  "kernelspec": {
   "display_name": "Python 3",
   "language": "python",
   "name": "python3"
  },
  "language_info": {
   "codemirror_mode": {
    "name": "ipython",
    "version": 3
   },
   "file_extension": ".py",
   "mimetype": "text/x-python",
   "name": "python",
   "nbconvert_exporter": "python",
   "pygments_lexer": "ipython3",
   "version": "3.7.3"
  }
 },
 "nbformat": 4,
 "nbformat_minor": 4
}
