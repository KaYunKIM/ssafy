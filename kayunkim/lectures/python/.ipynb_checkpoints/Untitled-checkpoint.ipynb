{
 "cells": [
  {
   "cell_type": "code",
   "execution_count": 81,
   "metadata": {
    "scrolled": true
   },
   "outputs": [
    {
     "name": "stdout",
     "output_type": "stream",
     "text": [
      "#++++\n",
      "+#+++\n",
      "++#++\n",
      "+++#+\n",
      "++++#\n"
     ]
    }
   ],
   "source": [
    "a = '+'*25\n",
    "b = '#'\n",
    "ls = []\n",
    "\n",
    "for i in range(0,25):\n",
    "    ls.append(a[i])\n",
    "\n",
    "for x in range(0,25,6):\n",
    "    ls[x] = b\n",
    "    \n",
    "for y in range(0,5): \n",
    "    c = ls[y*5:(y+1)*5]\n",
    "    print(''.join(c))\n",
    "    \n",
    "    "
   ]
  },
  {
   "cell_type": "code",
   "execution_count": 83,
   "metadata": {},
   "outputs": [
    {
     "name": "stdout",
     "output_type": "stream",
     "text": [
      "#++++\n",
      "+#+++\n",
      "++#++\n",
      "+++#+\n",
      "++++#\n"
     ]
    }
   ],
   "source": [
    "for i in range(0,5):\n",
    "    print('+'*i + '#' + '+'*(4-i))"
   ]
  },
  {
   "cell_type": "code",
   "execution_count": null,
   "metadata": {},
   "outputs": [
    {
     "name": "stdout",
     "output_type": "stream",
     "text": [
      "5\n",
      "22220228\n",
      "-1\n",
      "#1 2222/02/28\n",
      "1\n",
      "#2 1//\n",
      "1\n",
      "#3 1//\n",
      "1\n",
      "#4 1//\n"
     ]
    }
   ],
   "source": [
    "t = int(input())\n",
    "\n",
    "for i in range(1, t+1):\n",
    "    ai = input()\n",
    "    if len(ai) == 8:\n",
    "        for x in range(1, 13):\n",
    "            if ai[4:6] == x:\n",
    "                if x == 1 or 3 or 5 or 7 or 8 or 10 or 12:\n",
    "                    for y in range(1, 32):\n",
    "                        ai[6:] == y\n",
    "                elif x== 4 or 6 or 9 or 11:\n",
    "                    for y in range(1,31):\n",
    "                        ai[6:] == y\n",
    "                elif x == 2:\n",
    "                    for y in range(1,29):\n",
    "                        ai[6:] == y\n",
    "     \n",
    "               \n",
    "        else:\n",
    "            print('-1')         \n",
    "    print('#' + str(i) + ' ' + ai[0:4] + '/' + ai[4:6] + '/' + ai[6:])         \n"
   ]
  },
  {
   "cell_type": "code",
   "execution_count": 86,
   "metadata": {},
   "outputs": [
    {
     "name": "stdout",
     "output_type": "stream",
     "text": [
      "ABCDEFGHIJKLMNOPQRSTUVWXYZ\n",
      "1 2 3 4 5 6 7 8 9 10 11 12 13 14 15 16 17 18 19 20 21 22 23 24 25 26 "
     ]
    }
   ],
   "source": [
    "a = input()\n",
    "list = []\n",
    "if len(a) <= 200:\n",
    "    for i in range(0, len(a)):\n",
    "        list.append(a[i])\n",
    "        b = ord(list[i])\n",
    "        print((b-64), end= ' ')"
   ]
  },
  {
   "cell_type": "markdown",
   "metadata": {},
   "source": [
    "for i in range (1, 11):\n",
    "    W = int(input())\n",
    "    H = list(map(int, input().split()))\n",
    "    print(max(H))"
   ]
  },
  {
   "cell_type": "code",
   "execution_count": 2,
   "metadata": {},
   "outputs": [
    {
     "name": "stdout",
     "output_type": "stream",
     "text": [
      "100\n",
      "0 0 225 214 82 73 241 233 179 219 135 62 36 13 6 71 179 77 67 139 31 90 9 37 93 203 150 69 19 137 28 174 32 80 64 54 18 0 158 73 173 20 0 102 107 48 50 161 246 145 225 31 0 153 185 157 44 126 153 233 0 201 83 103 191 0 45 0 131 87 97 105 97 209 157 22 0 29 132 74 2 232 44 203 0 51 0 244 212 212 89 53 50 244 207 144 72 143 0 0 \n",
      "246\n"
     ]
    }
   ],
   "source": [
    "arr = []\n",
    "\n",
    "for i in range (1,2):\n",
    "    W = int(input())\n",
    "    H = list(map(int, input().split()))\n",
    "    print(max(H))\n",
    "    max_H = max(H)\n",
    "    array = \n",
    "\n",
    "    \n",
    "matrix = [[0]*max_H for i in range(max_H)]\n",
    "list2[0][0] = 1\n",
    "print list2 # [[1,0,0],[0,0,0],[0,0,0]]\n",
    "\n",
    "matrix = [[0 for col in range(10)] for row in range(10)]\n",
    "\n"
   ]
  },
  {
   "cell_type": "code",
   "execution_count": null,
   "metadata": {},
   "outputs": [],
   "source": [
    "t = input()\n",
    "for i in range(1, t+1):\n",
    "    i = input()\n",
    "    if len(i) == 8:\n",
    "        for x in range(1, 13):\n",
    "            if i[4:5] == x:\n",
    "                continue\n",
    "            else: \n",
    "                print(&apos;-1&apos;)   \n",
    "            if x == 1,3,5,7,8,10,12:\n",
    "                for y in range(1, 32):\n",
    "                    if i[6:7] == y:\n",
    "                        print(&apos;#&apos; + str(i) + &apos; &apos; + i[0:3] + &apos;/&apos; + i[4:5] + &apos;/&apos; + i[6:7])\n",
    "                    else:\n",
    "                        print(&apos;-1&apos;)\n",
    "            elif x== 4,6,9,11:\n",
    "                for y in range(1,31):\n",
    "                    if i[6:7] == y:\n",
    "                        print(&apos;#&apos; + str(i) + &apos; &apos; + i[0:3] + &apos;/&apos; + i[4:5] + &apos;/&apos; + i[6:7])\n",
    "                    else:\n",
    "                        print(&apos;-1&apos;)\n",
    "            elif x == 2:\n",
    "                for y in range(1,29):\n",
    "                    if i[6:7] == y:\n",
    "                        print(&apos;#&apos; + str(i) + &apos; &apos; + i[0:3] + &apos;/&apos; + i[4:5] + &apos;/&apos; + i[6:7])\n",
    "                    else:\n",
    "                        print(&apos;-1&apos;)                       \n",
    "                        \n",
    "                        \n",
    "                        \n",
    "calendar = {1: 31, 2: 28, 3: 31, 4: 30, 5: 31,6: 30, \n",
    "            7: 31, 8: 31, 9: 30, 10: 31, 11: 30, 12: 31} \n",
    "\n",
    "t = int(input())\n",
    "\n",
    "month = []\n",
    "for i in range(1, t+1):\n",
    "    ai = input()\n",
    "    if len(ai) == 8:\n",
    "        month.append(calendar.keys())\n",
    "        print(month)\n",
    "        for i in int(calendar.keys()):\n",
    "            print(i)\n",
    "        if int(ai[4:6]) == i:\n",
    "            print(&apos;ok&apos;)\n",
    "            for m, d in int(calendar.items()):\n",
    "                if int(ai[4:6])== m:\n",
    "                    if m == 1 or 3 or 5 or 7 or 8 or 10 or 12:\n",
    "                        for d in range(1,int(calendar[m])+1):\n",
    "                            if int(ai[6:]) == d:\n",
    "                                print(&apos;#&apos; + str(i) + &apos; &apos; + ai[0:4] + &apos;/&apos; + ai[4:6] + &apos;/&apos; + ai[6:])\n",
    "\n",
    "#         else:\n",
    "#             print(&apos;-1&apos;)"
   ]
  },
  {
   "cell_type": "code",
   "execution_count": null,
   "metadata": {},
   "outputs": [],
   "source": [
    "for i in range(1,2 ):                                                    \n",
    "    Wi = int(input())                                                        \n",
    "    Hi = list(map(int, input().split()))           \n",
    "    sum = 0\n",
    "    for x in range(2, Wi-2):\n",
    "\n",
    "matrix= [[0]*(Wi) for i in range(Hi)]\n"
   ]
  }
 ],
 "metadata": {
  "kernelspec": {
   "display_name": "Python 3",
   "language": "python",
   "name": "python3"
  },
  "language_info": {
   "codemirror_mode": {
    "name": "ipython",
    "version": 3
   },
   "file_extension": ".py",
   "mimetype": "text/x-python",
   "name": "python",
   "nbconvert_exporter": "python",
   "pygments_lexer": "ipython3",
   "version": "3.7.3"
  }
 },
 "nbformat": 4,
 "nbformat_minor": 4
}
