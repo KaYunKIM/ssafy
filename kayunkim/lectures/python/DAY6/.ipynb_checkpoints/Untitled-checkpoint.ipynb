{
 "cells": [
  {
   "cell_type": "code",
   "execution_count": 9,
   "metadata": {},
   "outputs": [
    {
     "name": "stdout",
     "output_type": "stream",
     "text": [
      "Collecting numpy\n",
      "\u001b[?25l  Downloading https://files.pythonhosted.org/packages/a0/3b/9e23c7e8a313a7e03e960d9cd1542cadb7c8633a2eb42b48a8731e387a42/numpy-1.18.3-cp37-cp37m-macosx_10_9_x86_64.whl (15.1MB)\n",
      "\u001b[K    100% |████████████████████████████████| 15.1MB 777kB/s ta 0:00:01    31% |██████████                      | 4.8MB 701kB/s eta 0:00:15    39% |████████████▌                   | 5.9MB 640kB/s eta 0:00:15\n",
      "\u001b[?25hInstalling collected packages: numpy\n",
      "Successfully installed numpy-1.18.3\n",
      "\u001b[33mYou are using pip version 19.0.3, however version 20.1b1 is available.\n",
      "You should consider upgrading via the 'pip install --upgrade pip' command.\u001b[0m\n",
      "Note: you may need to restart the kernel to use updated packages.\n"
     ]
    }
   ],
   "source": [
    "pip install numpy"
   ]
  },
  {
   "cell_type": "code",
   "execution_count": 8,
   "metadata": {},
   "outputs": [
    {
     "ename": "ModuleNotFoundError",
     "evalue": "No module named 'numpy'",
     "output_type": "error",
     "traceback": [
      "\u001b[0;31m---------------------------------------------------------------------------\u001b[0m",
      "\u001b[0;31mModuleNotFoundError\u001b[0m                       Traceback (most recent call last)",
      "\u001b[0;32m<ipython-input-8-67c42c7475a9>\u001b[0m in \u001b[0;36m<module>\u001b[0;34m\u001b[0m\n\u001b[1;32m      1\u001b[0m \u001b[0;32mimport\u001b[0m \u001b[0mos\u001b[0m\u001b[0;34m\u001b[0m\u001b[0;34m\u001b[0m\u001b[0m\n\u001b[1;32m      2\u001b[0m \u001b[0;32mfrom\u001b[0m \u001b[0mos\u001b[0m\u001b[0;34m.\u001b[0m\u001b[0mpath\u001b[0m \u001b[0;32mimport\u001b[0m \u001b[0mjoin\u001b[0m\u001b[0;34m\u001b[0m\u001b[0;34m\u001b[0m\u001b[0m\n\u001b[0;32m----> 3\u001b[0;31m \u001b[0;32mimport\u001b[0m \u001b[0mnumpy\u001b[0m \u001b[0;32mas\u001b[0m \u001b[0mnp\u001b[0m\u001b[0;34m\u001b[0m\u001b[0;34m\u001b[0m\u001b[0m\n\u001b[0m\u001b[1;32m      4\u001b[0m \u001b[0;32mfrom\u001b[0m \u001b[0mtqdm\u001b[0m\u001b[0;34m.\u001b[0m\u001b[0mnotebook\u001b[0m \u001b[0;32mimport\u001b[0m \u001b[0mtqdm\u001b[0m\u001b[0;34m\u001b[0m\u001b[0;34m\u001b[0m\u001b[0m\n\u001b[1;32m      5\u001b[0m \u001b[0;32mimport\u001b[0m \u001b[0mmultiprocessing\u001b[0m\u001b[0;34m\u001b[0m\u001b[0;34m\u001b[0m\u001b[0m\n",
      "\u001b[0;31mModuleNotFoundError\u001b[0m: No module named 'numpy'"
     ]
    }
   ],
   "source": [
    "import os\n",
    "from os.path import join\n",
    "import numpy as np\n",
    "from tqdm.notebook import tqdm\n",
    "import multiprocessing\n",
    "\n",
    "import numpy as np\n",
    "import pandas as pd\n",
    "\n",
    "# Path\n",
    "ROOT_DIR_PATH = '/home/ydj/data'\n",
    "TRAIN_DIR_PATH = join(ROOT_DIR_PATH, 'train')\n",
    "TEST_DIR_PATH = join(ROOT_DIR_PATH, 'test')\n",
    "TRAIN_FEATHER_PATH = join(ROOT_DIR_PATH, 'train.ftr')\n",
    "TEST_FEATHER_PATH = join(ROOT_DIR_PATH, 'test.ftr')\n",
    "\n",
    "# Column(feature) names\n",
    "INPUT_COL = [f\"temp{i}\" for i in range(1, 10)] + ['type', 'long_GMI', 'lat_GMI', 'long_DPR', 'lat_DPR']\n",
    "TARGET_COL = ['precipitation']\n",
    "TEST_COL = INPUT_COL\n",
    "TRAIN_COL = INPUT_COL + TARGET_COL\n",
    "\n",
    "# Name column (optional)\n",
    "IS_PAD_NAME_COL = False\n",
    "NAME_COL = ['orbit', 'subset', 'pixel']\n",
    "PIXEL_COL = np.arange(1, 1601)[:, None]\n",
    "\n",
    "\n",
    "def pad_name_cols(nd, file_name):\n",
    "    orbit, subset = file_name.split('_')[1:]\n",
    "    subset = subset[:2]\n",
    "    nd = np.pad(nd, ((0, 0), (0, 1)), constant_values=int(orbit))\n",
    "    nd = np.pad(nd, ((0, 0), (0, 1)), constant_values=int(subset))\n",
    "    return np.c_[nd, PIXEL_COL]\n",
    "\n",
    "def generate_ndarray_from_file_name(file_name, dir_path):\n",
    "    file_path = join(dir_path, file_name)\n",
    "    nd = np.load(file_path).astype(np.float32)  # 40 x 40 x ?\n",
    "    dim = nd.shape[-1]\n",
    "    nd = nd.reshape(-1, dim)                    # 1600    x ?\n",
    "    if IS_PAD_NAME_COL:\n",
    "        nd = pad_name_col(nd, file_name)\n",
    "    return nd\n",
    "    \n",
    "def generate_ndarray_from_dir_path(dir_path):\n",
    "    pool = multiprocessing.Pool()\n",
    "    nds = pool.starmap(generate_ndarray_from_file_name, [(file_name, dir_path) for file_name in tqdm(os.listdir(dir_path))])\n",
    "    return np.concatenate(nds)\n",
    "\n",
    "\n",
    "def generate_dataframe_from_dir_path(dir_path):\n",
    "    nd = generate_ndarray_from_dir_path(dir_path)\n",
    "    dim = nd.shape[-1]\n",
    "    df =  pd.DataFrame(nd,\n",
    "                       columns=TRAIN_COL if dim == len(TRAIN_COL) else TEST_COL,\n",
    "                       dtype=np.float32\n",
    "                      )\n",
    "    if IS_PAD_NAME_COL:\n",
    "        df[['orbit', 'subset', 'pixel']] = df[['orbit', 'subset', 'pixel']].astype(np.int32)\n",
    "        df.sort_values(by=['orbit', 'subset', 'pixel'], ignore_index=True, inplace=True)\n",
    "    return df\n",
    "\n",
    "\n",
    "def main():\n",
    "    global TRAIN_COL, TEST_COL\n",
    "    TRAIN_COL, TEST_COL = (TRAIN_COL, TEST_COL) if not IS_PAD_NAME_COL else (TRAIN_COL + NAME_COL, TEST_COL + NAME_COL)\n",
    "    for dir_path in (TRAIN_DIR_PATH, TEST_DIR_PATH):\n",
    "        df = generate_dataframe_from_dir_path(dir_path)\n",
    "        if len(df.columns) == len(TRAIN_COL):\n",
    "            train_df = df\n",
    "        else:\n",
    "            test_df = df\n",
    "    return train_df, test_df\n",
    "\n",
    "def to_feather(train_df, test_df):\n",
    "    train_df.to_feather(TRAIN_FEATHER_PATH)\n",
    "    test_df.to_feather(TEST_FEATHER_PATH)\n",
    "\n",
    "def read_feather():\n",
    "    train_df = pd.read_feather(TRAIN_FEATHER_PATH)\n",
    "    test_df = pd.read_feather(TEST_FEATHER_PATH)\n",
    "    return train_df, test_df"
   ]
  },
  {
   "cell_type": "code",
   "execution_count": 7,
   "metadata": {},
   "outputs": [
    {
     "ename": "ModuleNotFoundError",
     "evalue": "No module named 'tqdm'",
     "output_type": "error",
     "traceback": [
      "\u001b[0;31m---------------------------------------------------------------------------\u001b[0m",
      "\u001b[0;31mModuleNotFoundError\u001b[0m                       Traceback (most recent call last)",
      "\u001b[0;32m<ipython-input-7-4fb637b1f1db>\u001b[0m in \u001b[0;36m<module>\u001b[0;34m\u001b[0m\n\u001b[1;32m      1\u001b[0m \u001b[0;32mimport\u001b[0m \u001b[0mos\u001b[0m\u001b[0;34m\u001b[0m\u001b[0;34m\u001b[0m\u001b[0m\n\u001b[1;32m      2\u001b[0m \u001b[0;32mimport\u001b[0m \u001b[0mglob\u001b[0m\u001b[0;34m\u001b[0m\u001b[0;34m\u001b[0m\u001b[0m\n\u001b[0;32m----> 3\u001b[0;31m \u001b[0;32mfrom\u001b[0m \u001b[0mtqdm\u001b[0m \u001b[0;32mimport\u001b[0m \u001b[0mtqdm\u001b[0m\u001b[0;34m\u001b[0m\u001b[0;34m\u001b[0m\u001b[0m\n\u001b[0m\u001b[1;32m      4\u001b[0m \u001b[0;32mimport\u001b[0m \u001b[0mnumpy\u001b[0m \u001b[0;32mas\u001b[0m \u001b[0mnp\u001b[0m\u001b[0;34m\u001b[0m\u001b[0;34m\u001b[0m\u001b[0m\n\u001b[1;32m      5\u001b[0m \u001b[0;32mimport\u001b[0m \u001b[0mpandas\u001b[0m \u001b[0;32mas\u001b[0m \u001b[0mpd\u001b[0m\u001b[0;34m\u001b[0m\u001b[0;34m\u001b[0m\u001b[0m\n",
      "\u001b[0;31mModuleNotFoundError\u001b[0m: No module named 'tqdm'"
     ]
    }
   ],
   "source": [
    "import os\n",
    "import glob\n",
    "from tqdm import tqdm\n",
    "import numpy as np\n",
    "import pandas as pd\n",
    "import matplotlib.pylab as plt\n",
    "import seaborn as sns\n",
    "import matplotlib.pyplot as plt\n",
    "import tensorflow as tf\n",
    "import random\n",
    "from tensorflow.keras.layers import Dense, Conv2D, Dropout, Conv2DTranspose, MaxPooling2D, BatchNormalization, Activation, concatenate, Input, GlobalAveragePooling2D\n",
    "from tensorflow.keras import Model\n",
    "import warnings\n",
    " \n",
    "warnings.filterwarnings(\"ignore\")"
   ]
  },
  {
   "cell_type": "code",
   "execution_count": 6,
   "metadata": {},
   "outputs": [
    {
     "ename": "NameError",
     "evalue": "name 'np' is not defined",
     "output_type": "error",
     "traceback": [
      "\u001b[0;31m---------------------------------------------------------------------------\u001b[0m",
      "\u001b[0;31mNameError\u001b[0m                                 Traceback (most recent call last)",
      "\u001b[0;32m<ipython-input-6-7107f29b8f53>\u001b[0m in \u001b[0;36m<module>\u001b[0;34m\u001b[0m\n\u001b[0;32m----> 1\u001b[0;31m \u001b[0mnp\u001b[0m\u001b[0;34m.\u001b[0m\u001b[0mrandom\u001b[0m\u001b[0;34m.\u001b[0m\u001b[0mseed\u001b[0m\u001b[0;34m(\u001b[0m\u001b[0;36m7\u001b[0m\u001b[0;34m)\u001b[0m\u001b[0;34m\u001b[0m\u001b[0;34m\u001b[0m\u001b[0m\n\u001b[0m\u001b[1;32m      2\u001b[0m \u001b[0mrandom\u001b[0m\u001b[0;34m.\u001b[0m\u001b[0mseed\u001b[0m\u001b[0;34m(\u001b[0m\u001b[0;36m7\u001b[0m\u001b[0;34m)\u001b[0m\u001b[0;34m\u001b[0m\u001b[0;34m\u001b[0m\u001b[0m\n\u001b[1;32m      3\u001b[0m \u001b[0mtf\u001b[0m\u001b[0;34m.\u001b[0m\u001b[0mrandom\u001b[0m\u001b[0;34m.\u001b[0m\u001b[0mset_seed\u001b[0m\u001b[0;34m(\u001b[0m\u001b[0;36m7\u001b[0m\u001b[0;34m)\u001b[0m\u001b[0;34m\u001b[0m\u001b[0;34m\u001b[0m\u001b[0m\n",
      "\u001b[0;31mNameError\u001b[0m: name 'np' is not defined"
     ]
    }
   ],
   "source": [
    "np.random.seed(7)\n",
    "random.seed(7)\n",
    "tf.random.set_seed(7)"
   ]
  },
  {
   "cell_type": "code",
   "execution_count": null,
   "metadata": {},
   "outputs": [],
   "source": []
  }
 ],
 "metadata": {
  "kernelspec": {
   "display_name": "Python 3",
   "language": "python",
   "name": "python3"
  },
  "language_info": {
   "codemirror_mode": {
    "name": "ipython",
    "version": 3
   },
   "file_extension": ".py",
   "mimetype": "text/x-python",
   "name": "python",
   "nbconvert_exporter": "python",
   "pygments_lexer": "ipython3",
   "version": "3.7.3"
  }
 },
 "nbformat": 4,
 "nbformat_minor": 4
}
