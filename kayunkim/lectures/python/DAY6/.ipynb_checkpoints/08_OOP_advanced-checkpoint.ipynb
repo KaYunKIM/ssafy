{
 "cells": [
  {
   "cell_type": "markdown",
   "metadata": {},
   "source": [
    "# OOP advanced"
   ]
  },
  {
   "cell_type": "markdown",
   "metadata": {},
   "source": [
    "## 클래스 변수와 인스턴스 변수\n",
    "\n",
    "### 클래스 변수\n",
    "* 클래스의 속성\n",
    "* 모든 인스턴스가 공유\n",
    "* 클래스 선언 블록 최상단에 위치\n",
    "* `Class.class_variable` 과 같이 접근(할당)\n",
    "\n",
    "---\n",
    "\n",
    "**활용법**\n",
    "\n",
    "```python\n",
    "class TestClass:\n",
    "    \n",
    "    class_variable = '클래스 변수'\n",
    "    ...\n",
    "\n",
    "TestClass.class_variable  # '클래스 변수'\n",
    "TestClass.class_variable = 'class variable'\n",
    "TestClass.class_variable  # 'class variable'\n",
    "\n",
    "tc = TestClass()\n",
    "tc.class_variable  \n",
    "# 인스턴스 => 클래스 => 전역 순서로 이름공간을 탐색하기 때문에, 접근하게 됩니다.\n",
    "```"
   ]
  },
  {
   "cell_type": "markdown",
   "metadata": {},
   "source": [
    "### 인스턴스 변수\n",
    "* 인스턴스의 속성\n",
    "* 각 인스턴스들의 고유한 변수\n",
    "* 메서드 정의에서 `self.instance_variable` 로 접근(할당)\n",
    "* 인스턴스가 생성된 이후 `instance.instance_variable` 로 접근(할당)\n",
    "\n",
    "---\n",
    "\n",
    "**활용법**\n",
    "\n",
    "```python\n",
    "class TestClass:\n",
    "    \n",
    "    def __init__(self, arg1, arg2):\n",
    "        self.instance_var1 = arg1    # 인스턴스 변수\n",
    "        self.instance_var2 = arg2\n",
    "\n",
    "    def status(self):\n",
    "        return self.instance_var1, self.instance_var2   \n",
    "\n",
    "    \n",
    "tc = TestClass(1, 2)\n",
    "tc.instance_var1  # 1\n",
    "tc.instance_var2  # 2\n",
    "tc.status()  # (1, 2)\n",
    "```"
   ]
  },
  {
   "cell_type": "code",
   "execution_count": null,
   "metadata": {},
   "outputs": [],
   "source": [
    "# 확인해봅시다."
   ]
  },
  {
   "cell_type": "code",
   "execution_count": 1,
   "metadata": {},
   "outputs": [
    {
     "ename": "NameError",
     "evalue": "name 'self' is not defined",
     "output_type": "error",
     "traceback": [
      "\u001b[0;31m---------------------------------------------------------------------------\u001b[0m",
      "\u001b[0;31mNameError\u001b[0m                                 Traceback (most recent call last)",
      "\u001b[0;32m<ipython-input-1-a6ec4c800dcf>\u001b[0m in \u001b[0;36m<module>\u001b[0;34m\u001b[0m\n\u001b[0;32m----> 1\u001b[0;31m \u001b[0;32mclass\u001b[0m \u001b[0mTestClass\u001b[0m\u001b[0;34m:\u001b[0m\u001b[0;34m\u001b[0m\u001b[0;34m\u001b[0m\u001b[0m\n\u001b[0m\u001b[1;32m      2\u001b[0m     \u001b[0mclass_variable\u001b[0m \u001b[0;34m=\u001b[0m \u001b[0;34m'클래스 변수'\u001b[0m\u001b[0;34m\u001b[0m\u001b[0;34m\u001b[0m\u001b[0m\n\u001b[1;32m      3\u001b[0m     \u001b[0mself\u001b[0m\u001b[0;34m.\u001b[0m\u001b[0minstance_variable\u001b[0m \u001b[0;34m=\u001b[0m \u001b[0;34m'이렇게는 안됩니다.'\u001b[0m\u001b[0;34m\u001b[0m\u001b[0;34m\u001b[0m\u001b[0m\n",
      "\u001b[0;32m<ipython-input-1-a6ec4c800dcf>\u001b[0m in \u001b[0;36mTestClass\u001b[0;34m()\u001b[0m\n\u001b[1;32m      1\u001b[0m \u001b[0;32mclass\u001b[0m \u001b[0mTestClass\u001b[0m\u001b[0;34m:\u001b[0m\u001b[0;34m\u001b[0m\u001b[0;34m\u001b[0m\u001b[0m\n\u001b[1;32m      2\u001b[0m     \u001b[0mclass_variable\u001b[0m \u001b[0;34m=\u001b[0m \u001b[0;34m'클래스 변수'\u001b[0m\u001b[0;34m\u001b[0m\u001b[0;34m\u001b[0m\u001b[0m\n\u001b[0;32m----> 3\u001b[0;31m     \u001b[0mself\u001b[0m\u001b[0;34m.\u001b[0m\u001b[0minstance_variable\u001b[0m \u001b[0;34m=\u001b[0m \u001b[0;34m'이렇게는 안됩니다.'\u001b[0m\u001b[0;34m\u001b[0m\u001b[0;34m\u001b[0m\u001b[0m\n\u001b[0m",
      "\u001b[0;31mNameError\u001b[0m: name 'self' is not defined"
     ]
    }
   ],
   "source": [
    "class TestClass:\n",
    "    class_variable = '클래스 변수'\n",
    "    self.instance_variable = '이렇게는 안됩니다.'"
   ]
  },
  {
   "cell_type": "code",
   "execution_count": 2,
   "metadata": {},
   "outputs": [],
   "source": [
    "class TestClass:\n",
    "    class_variable = '클래스 변수'\n",
    "    def __init__(self,arg1,arg2):\n",
    "        self.instance_var1 = arg1\n",
    "        self.instance_var2 = arg2\n",
    "        \n",
    "    def status(self):\n",
    "        return self.instance_var1, self.instance_var2\n",
    "        "
   ]
  },
  {
   "cell_type": "code",
   "execution_count": null,
   "metadata": {},
   "outputs": [],
   "source": [
    "# 클래스 변수에 접근/재할당 해봅시다."
   ]
  },
  {
   "cell_type": "code",
   "execution_count": null,
   "metadata": {},
   "outputs": [],
   "source": [
    "print(TestClass.class_variable)"
   ]
  },
  {
   "cell_type": "code",
   "execution_count": 3,
   "metadata": {
    "scrolled": true
   },
   "outputs": [
    {
     "name": "stdout",
     "output_type": "stream",
     "text": [
      "클래스 변수\n"
     ]
    }
   ],
   "source": [
    "tc = TestClass(1,2)\n",
    "print(tc.class_variable)"
   ]
  },
  {
   "cell_type": "code",
   "execution_count": 4,
   "metadata": {},
   "outputs": [
    {
     "name": "stdout",
     "output_type": "stream",
     "text": [
      "클래스 variable\n"
     ]
    }
   ],
   "source": [
    "TestClass.class_variable = '클래스 variable'\n",
    "print(TestClass.class_variable)"
   ]
  },
  {
   "cell_type": "code",
   "execution_count": null,
   "metadata": {},
   "outputs": [],
   "source": [
    "# 인스턴스를 생성하고 확인해봅시다."
   ]
  },
  {
   "cell_type": "code",
   "execution_count": 5,
   "metadata": {},
   "outputs": [
    {
     "name": "stdout",
     "output_type": "stream",
     "text": [
      "인스턴스\n",
      "변수\n"
     ]
    }
   ],
   "source": [
    "tc = TestClass('인스턴스', '변수')\n",
    "print(tc.instance_var1)\n",
    "print(tc.instance_var2)"
   ]
  },
  {
   "cell_type": "code",
   "execution_count": null,
   "metadata": {},
   "outputs": [],
   "source": [
    "# 인스턴스 변수를 재할당 해봅시다."
   ]
  },
  {
   "cell_type": "code",
   "execution_count": 6,
   "metadata": {},
   "outputs": [
    {
     "name": "stdout",
     "output_type": "stream",
     "text": [
      "instance\n",
      "var\n"
     ]
    }
   ],
   "source": [
    "tc.instance_var1 = 'instance'\n",
    "tc.instance_var2 = 'var'\n",
    "print(tc.instance_var1)\n",
    "print(tc.instance_var2)"
   ]
  },
  {
   "cell_type": "markdown",
   "metadata": {},
   "source": [
    "## 인스턴스 메서드 / 클래스 메서드 / 스태틱(정적) 메서드 \n",
    "\n",
    "### 인스턴스 메서드\n",
    "* 인스턴스가 사용할 메서드이다.\n",
    "* 메서드 정의 위에 어떠한 데코레이터도 없으면, 자동으로 인스턴스 메서드가 된다.\n",
    "* **첫 번째 인자로 `self` 를 받도록 정의합니다. 이 때, 자동으로 인스턴스 객체가 `self` 가 된다.**\n",
    "\n",
    "---\n",
    "\n",
    "**활용법**\n",
    "\n",
    "```python\n",
    "class MyClass:\n",
    "    def instance_method_name(self, arg1, arg2, ...):\n",
    "        ...\n",
    "\n",
    "my_instance = MyClass()\n",
    "# 인스턴스 생성 후 메서드를 호출하면 자동으로 첫 번째 인자로 인스턴스(my_instance)가 들어갑니다.\n",
    "my_instance.instance_method_name(.., ..)  \n",
    "```"
   ]
  },
  {
   "cell_type": "markdown",
   "metadata": {},
   "source": [
    "### 클래스 메서드\n",
    "* 클래스가 사용할 메서드다.\n",
    "* 정의 위에 `@classmethod` 데코레이터를 사용한다.\n",
    "* **첫 번째 인자로 클래스(`cls`) 를 받도록 정의합니다. 이 때, 자동으로 클래스 객체가 `cls` 가 된다.**\n",
    "\n",
    "---\n",
    "\n",
    "**활용법**\n",
    "\n",
    "```python\n",
    "class MyClass:\n",
    "    @classmethod\n",
    "    def class_method_name(cls, arg1, arg2, ...):\n",
    "        ...\n",
    "\n",
    "# 자동으로 첫 번째 인자로 클래스(MyClass)가 들어갑니다.\n",
    "MyClass.class_method_name(.., ..)  \n",
    "```"
   ]
  },
  {
   "cell_type": "markdown",
   "metadata": {},
   "source": [
    "### 스태틱(정적) 메서드\n",
    "* 클래스가 사용할 메서드다.\n",
    "* 정의 위에 `@staticmethod` 데코레이터를 사용한다.\n",
    "* 묵시적인 첫 번째 인자를 받지 않습니다. 즉, 인자 정의는 자유롭게 한다. \n",
    "* **어떠한 인자도 자동으로 넘어가지 않는다.**\n",
    "\n",
    "---\n",
    "\n",
    "**활용법**\n",
    "\n",
    "```python\n",
    "class MyClass:\n",
    "    @staticmethod\n",
    "    def static_method_name(arg1, arg2, ...):\n",
    "        ...\n",
    "\n",
    "# 아무런 일도 자동으로 일어나지 않습니다.\n",
    "MyClass.static_method_name(.., ..)\n",
    "```"
   ]
  },
  {
   "cell_type": "code",
   "execution_count": 7,
   "metadata": {},
   "outputs": [],
   "source": [
    "class MyClass:\n",
    "    name = 'john'\n",
    "    \n",
    "    def instance_method(self):\n",
    "        self.name = ''\n",
    "        return self\n",
    "    \n",
    "    @classmethod\n",
    "    def class_method(cls):\n",
    "        return cls\n",
    "    \n",
    "    @staticmethod\n",
    "    def static_method(arg):\n",
    "        return arg"
   ]
  },
  {
   "cell_type": "code",
   "execution_count": 8,
   "metadata": {},
   "outputs": [],
   "source": [
    "# 인스턴스 생성\n",
    "mc = MyClass()"
   ]
  },
  {
   "cell_type": "code",
   "execution_count": 9,
   "metadata": {},
   "outputs": [
    {
     "data": {
      "text/plain": [
       "<__main__.MyClass at 0x10f349390>"
      ]
     },
     "execution_count": 9,
     "metadata": {},
     "output_type": "execute_result"
    }
   ],
   "source": [
    "# 인스턴스 입장에서 확인해 봅시다.\n",
    "mc.instance_method()"
   ]
  },
  {
   "cell_type": "code",
   "execution_count": 139,
   "metadata": {},
   "outputs": [
    {
     "name": "stdout",
     "output_type": "stream",
     "text": [
      "<__main__.MyClass object at 0x00C90430>\n"
     ]
    }
   ],
   "source": [
    "# 인스턴스는 인스턴스 메서드에 접근 가능합니다.\n",
    "print (mc.instance_method())"
   ]
  },
  {
   "cell_type": "code",
   "execution_count": 13,
   "metadata": {},
   "outputs": [
    {
     "data": {
      "text/plain": [
       "__main__.MyClass"
      ]
     },
     "execution_count": 13,
     "metadata": {},
     "output_type": "execute_result"
    }
   ],
   "source": [
    "# 인스턴스는 클래스 메서드에 접근 가능합니다.\n",
    "mc.class_method()"
   ]
  },
  {
   "cell_type": "code",
   "execution_count": 10,
   "metadata": {},
   "outputs": [
    {
     "ename": "TypeError",
     "evalue": "static_method() missing 1 required positional argument: 'arg'",
     "output_type": "error",
     "traceback": [
      "\u001b[0;31m---------------------------------------------------------------------------\u001b[0m",
      "\u001b[0;31mTypeError\u001b[0m                                 Traceback (most recent call last)",
      "\u001b[0;32m<ipython-input-10-c9cd4dcf9ba4>\u001b[0m in \u001b[0;36m<module>\u001b[0;34m\u001b[0m\n\u001b[1;32m      1\u001b[0m \u001b[0;31m# Error => 첫 번째 인자가 없다. 위와 같이 자동으로 첫 번째 인자로 들어가는 것이 없습니다.\u001b[0m\u001b[0;34m\u001b[0m\u001b[0;34m\u001b[0m\u001b[0;34m\u001b[0m\u001b[0m\n\u001b[0;32m----> 2\u001b[0;31m \u001b[0mmc\u001b[0m\u001b[0;34m.\u001b[0m\u001b[0mstatic_method\u001b[0m\u001b[0;34m(\u001b[0m\u001b[0;34m)\u001b[0m\u001b[0;34m\u001b[0m\u001b[0;34m\u001b[0m\u001b[0m\n\u001b[0m",
      "\u001b[0;31mTypeError\u001b[0m: static_method() missing 1 required positional argument: 'arg'"
     ]
    }
   ],
   "source": [
    "# Error => 첫 번째 인자가 없다. 위와 같이 자동으로 첫 번째 인자로 들어가는 것이 없습니다.   \n",
    "mc.static_method()"
   ]
  },
  {
   "cell_type": "code",
   "execution_count": 11,
   "metadata": {},
   "outputs": [
    {
     "data": {
      "text/plain": [
       "5"
      ]
     },
     "execution_count": 11,
     "metadata": {},
     "output_type": "execute_result"
    }
   ],
   "source": [
    "# 인스턴스는 스태틱 메서드에 접근 가능합니다.\n",
    "mc.static_method(5)"
   ]
  },
  {
   "cell_type": "markdown",
   "metadata": {},
   "source": [
    "---"
   ]
  },
  {
   "cell_type": "markdown",
   "metadata": {},
   "source": [
    "### 정리 1 - 인스턴스와 메서드\n",
    "- 인스턴스는, 3가지 메서드 모두에 접근할 수 있다.\n",
    "- 하지만 인스턴스에서 클래스 메서드와 스태틱 메서드는 호출하지 않아야 한다. (가능하다 != 사용한다)\n",
    "- 인스턴스가 할 행동은 모두 인스턴스 메서드로 한정 지어서 설계한다."
   ]
  },
  {
   "cell_type": "code",
   "execution_count": null,
   "metadata": {},
   "outputs": [],
   "source": [
    "# 클래스 입장에서 확인해 봅시다."
   ]
  },
  {
   "cell_type": "code",
   "execution_count": 14,
   "metadata": {},
   "outputs": [
    {
     "data": {
      "text/plain": [
       "__main__.MyClass"
      ]
     },
     "execution_count": 14,
     "metadata": {},
     "output_type": "execute_result"
    }
   ],
   "source": [
    "MyClass.class_method()"
   ]
  },
  {
   "cell_type": "code",
   "execution_count": 15,
   "metadata": {},
   "outputs": [
    {
     "data": {
      "text/plain": [
       "5"
      ]
     },
     "execution_count": 15,
     "metadata": {},
     "output_type": "execute_result"
    }
   ],
   "source": [
    "MyClass.static_method(5)"
   ]
  },
  {
   "cell_type": "code",
   "execution_count": 21,
   "metadata": {},
   "outputs": [
    {
     "ename": "TypeError",
     "evalue": "instance_method() missing 1 required positional argument: 'self'",
     "output_type": "error",
     "traceback": [
      "\u001b[0;31m---------------------------------------------------------------------------\u001b[0m",
      "\u001b[0;31mTypeError\u001b[0m                                 Traceback (most recent call last)",
      "\u001b[0;32m<ipython-input-21-65c83cf9e6e8>\u001b[0m in \u001b[0;36m<module>\u001b[0;34m\u001b[0m\n\u001b[0;32m----> 1\u001b[0;31m \u001b[0mMyClass\u001b[0m\u001b[0;34m.\u001b[0m\u001b[0minstance_method\u001b[0m\u001b[0;34m(\u001b[0m\u001b[0;34m)\u001b[0m\u001b[0;34m\u001b[0m\u001b[0;34m\u001b[0m\u001b[0m\n\u001b[0m",
      "\u001b[0;31mTypeError\u001b[0m: instance_method() missing 1 required positional argument: 'self'"
     ]
    }
   ],
   "source": [
    "MyClass.instance_method()"
   ]
  },
  {
   "cell_type": "markdown",
   "metadata": {},
   "source": [
    "### 정리 2 - 클래스와 메서드\n",
    "- 클래스는, 3가지 메서드 모두에 접근할 수 있다.\n",
    "- 하지만 클래스에서 인스턴스 메서드는 호출하지 않다. (가능하다 != 사용한다)\n",
    "- 클래스가 할 행동은 다음 원칙에 따라 설계한다.\n",
    "    - 클래스 자체(`cls`)와 그 속성에 접근할 필요가 있다면 클래스 메서드로 정의한다.\n",
    "    - 클래스와 클래스 속성에 접근할 필요가 없다면 스태틱 메서드로 정의한다.  \n",
    "    \n",
    "---\n",
    "\n",
    "**활용법**\n",
    "\n",
    "```python\n",
    "\n",
    "@classmethod\n",
    "def methodname(cls):\n",
    "    codeblock\n",
    "```"
   ]
  },
  {
   "cell_type": "markdown",
   "metadata": {},
   "source": [
    "### 실습 1 - Doggy (같이) \n",
    "\n",
    "- Doggy 클래스의 속성에 접근하는 클래스 메서드를 생성해 봅시다.\n",
    "- 클래스 변수 `num_of_dogs`를 통해 개가 생길 때마다 증가 시키도록 하겠습니다.\n",
    "- 개들은 각자의 이름/나이를 갖고 있습니다.\n",
    "- `bark()` 메서드를 호출하면 짖을 수 있습니다."
   ]
  },
  {
   "cell_type": "markdown",
   "metadata": {},
   "source": [
    "#### 클래스 메서드\n",
    "\n",
    "```python\n",
    "\n",
    "@classmethod\n",
    "def methodname():\n",
    "    codeblock\n",
    "```"
   ]
  },
  {
   "cell_type": "code",
   "execution_count": 1,
   "metadata": {},
   "outputs": [],
   "source": [
    "class Doggy:\n",
    "    num_of_dogs = 0\n",
    "    \n",
    "    def __init__(self,name,breed):\n",
    "        self.name = name\n",
    "        self.breed = breed\n",
    "        Doggy.num_of_dogs += 1\n",
    "    \n",
    "    def __del__(self):\n",
    "        Doggy.num_of_dogs -=1\n",
    "        \n",
    "    def bark(self):\n",
    "        return '왈왈!'\n",
    "    \n",
    "    @classmethod\n",
    "    def get_status(cls):\n",
    "        return f'Current: {cls.num_of_dogs}'"
   ]
  },
  {
   "cell_type": "code",
   "execution_count": null,
   "metadata": {},
   "outputs": [],
   "source": [
    "# Doggy 3 마리를 만들어보고,"
   ]
  },
  {
   "cell_type": "code",
   "execution_count": 2,
   "metadata": {},
   "outputs": [],
   "source": [
    "dog1 = Doggy('꼬기', '웰시코기')\n",
    "dog2 = Doggy('꽁이', '말티즈')\n",
    "dog3 = Doggy('초코', '슈나우더')"
   ]
  },
  {
   "cell_type": "code",
   "execution_count": null,
   "metadata": {},
   "outputs": [],
   "source": [
    "# 함수를 호출해봅시다."
   ]
  },
  {
   "cell_type": "code",
   "execution_count": 3,
   "metadata": {},
   "outputs": [
    {
     "name": "stdout",
     "output_type": "stream",
     "text": [
      "꼬기\n",
      "꽁이\n",
      "초코\n"
     ]
    }
   ],
   "source": [
    "print(dog1.name)\n",
    "print(dog2.name)\n",
    "print(dog3.name)"
   ]
  },
  {
   "cell_type": "code",
   "execution_count": 4,
   "metadata": {},
   "outputs": [
    {
     "data": {
      "text/plain": [
       "'Current: 3'"
      ]
     },
     "execution_count": 4,
     "metadata": {},
     "output_type": "execute_result"
    }
   ],
   "source": [
    "Doggy.get_status()"
   ]
  },
  {
   "cell_type": "markdown",
   "metadata": {},
   "source": [
    "#### 스태틱 메서드\n",
    "\n",
    "```python\n",
    "\n",
    "@staticmethod\n",
    "def methodname():\n",
    "    codeblock\n",
    "```"
   ]
  },
  {
   "cell_type": "code",
   "execution_count": null,
   "metadata": {},
   "outputs": [],
   "source": [
    "# Doggy 에 어떠한 속성에도 접근하지 않는 스태틱 메서드를 만들어보겠습니다."
   ]
  },
  {
   "cell_type": "code",
   "execution_count": 5,
   "metadata": {},
   "outputs": [],
   "source": [
    "class Doggy:\n",
    "    num_of_dogs = 0\n",
    "    birth_of_dogs = 0\n",
    "    \n",
    "    def __init__(self, name, breed):\n",
    "        self.name = name\n",
    "        self.breed = breed\n",
    "        Doggy.num_of_dogs += 1\n",
    "        Doggy.birth_of_dogs += 1\n",
    "        \n",
    "    def __del__(self):\n",
    "        Doggy.num_of_dogs -= 1\n",
    "    \n",
    "    def bark(self):\n",
    "        return '왈왈!'\n",
    "    \n",
    "    @classmethod\n",
    "    def get_status(cls):\n",
    "        return f'Birth: {cls.birth_of_dogs}, Current: {cls.num_of_dogs}'\n",
    "\n",
    "    @staticmethod\n",
    "    def info():\n",
    "        return '이것은 강아지 클래스입니당....'"
   ]
  },
  {
   "cell_type": "code",
   "execution_count": null,
   "metadata": {},
   "outputs": [],
   "source": [
    "# Doggy 3 마리를 만들어보고,"
   ]
  },
  {
   "cell_type": "code",
   "execution_count": 6,
   "metadata": {},
   "outputs": [],
   "source": [
    "d1 = Doggy('초코', '푸들')\n",
    "d2 = Doggy('꽁이', '말티즈')\n",
    "d3 = Doggy('별이', '시츄')"
   ]
  },
  {
   "cell_type": "code",
   "execution_count": null,
   "metadata": {},
   "outputs": [],
   "source": [
    "# 함수를 호출해 봅시다."
   ]
  },
  {
   "cell_type": "code",
   "execution_count": 7,
   "metadata": {},
   "outputs": [
    {
     "data": {
      "text/plain": [
       "'이것은 강아지 클래스입니당....'"
      ]
     },
     "execution_count": 7,
     "metadata": {},
     "output_type": "execute_result"
    }
   ],
   "source": [
    "Doggy.info()"
   ]
  },
  {
   "cell_type": "markdown",
   "metadata": {},
   "source": [
    "### 실습 2 - Calculator (정적/스태틱 메서드)\n",
    "\n",
    "> 계산기 class인 `Calculator`를 만들어 봅시다.\n",
    "\n",
    "* 다음과 같이 정적 메서드를 구성한다. \n",
    "* 모든 정적 메서드는, 두 수를 받아서 각각의 연산을 한 결과를 리턴한다.\n",
    "* `a` 연산자 `b` 의 순서로 연산한다. (`a - b`, `a / b`)\n",
    "    1. `add(a, b)` : 덧셈\n",
    "    2. `sub(a, b)` : 뺄셈 \n",
    "    3. `mul(a, b)` : 곱셈\n",
    "    4. `div(a, b)` : 나눗셈"
   ]
  },
  {
   "cell_type": "code",
   "execution_count": null,
   "metadata": {},
   "outputs": [],
   "source": [
    "# 아래에 코드를 작성하세요."
   ]
  },
  {
   "cell_type": "code",
   "execution_count": 14,
   "metadata": {},
   "outputs": [],
   "source": [
    "#mycode\n",
    "class Calculator:\n",
    "    def __init__(self,a,b):\n",
    "        self.a = a\n",
    "        self.b = b\n",
    "    def add(self):\n",
    "        return self.a+self.b\n",
    "    def sub(self):\n",
    "        return self.a - self.b\n",
    "    def mul(self):\n",
    "        return self.a*self.b\n",
    "    def div(self):\n",
    "        return self.a//self.b "
   ]
  },
  {
   "cell_type": "code",
   "execution_count": 1,
   "metadata": {},
   "outputs": [],
   "source": [
    "class Calculator:\n",
    "    \n",
    "    def add(a,b):\n",
    "        return a+b\n",
    "    def sub(a,b):\n",
    "        return a-b\n",
    "    def mul(a,b):\n",
    "        return a*b\n",
    "    def div(a,b):\n",
    "        return a/b\n",
    "    \n",
    "#@staticmethod를 사용하지 않은 이 방법은 mycal.add(5,3) 작동 안함"
   ]
  },
  {
   "cell_type": "code",
   "execution_count": 6,
   "metadata": {},
   "outputs": [],
   "source": [
    "class Calculator:\n",
    "    @staticmethod\n",
    "    def add(a,b):\n",
    "        return a+b\n",
    "    \n",
    "    @staticmethod\n",
    "    def sub(a,b):\n",
    "        return a-b\n",
    "    \n",
    "    @staticmethod\n",
    "    def mul(a,b):\n",
    "        return a*b\n",
    "    \n",
    "    @staticmethod\n",
    "    def div(a,b):\n",
    "        return a/b"
   ]
  },
  {
   "cell_type": "code",
   "execution_count": null,
   "metadata": {},
   "outputs": [],
   "source": [
    "# 정적 메서드를 호출하세요."
   ]
  },
  {
   "cell_type": "code",
   "execution_count": 7,
   "metadata": {},
   "outputs": [],
   "source": [
    "mycal = Calculator()"
   ]
  },
  {
   "cell_type": "code",
   "execution_count": 8,
   "metadata": {},
   "outputs": [
    {
     "data": {
      "text/plain": [
       "8"
      ]
     },
     "execution_count": 8,
     "metadata": {},
     "output_type": "execute_result"
    }
   ],
   "source": [
    "mycal.add(5,3)"
   ]
  },
  {
   "cell_type": "code",
   "execution_count": 11,
   "metadata": {},
   "outputs": [
    {
     "data": {
      "text/plain": [
       "4"
      ]
     },
     "execution_count": 11,
     "metadata": {},
     "output_type": "execute_result"
    }
   ],
   "source": [
    "Calculator.add(1,3)"
   ]
  },
  {
   "cell_type": "markdown",
   "metadata": {},
   "source": [
    "# 상속 \n",
    "\n",
    "## 기초\n",
    "\n",
    "클래스에서 가장 큰 특징은 '상속' 기능을 가지고 있다는 것입니다. \n",
    "\n",
    "부모 클래스의 모든 속성이 자식 클래스에게 상속 되므로 코드 재사용성이 높아집니다.\n",
    "\n",
    "---\n",
    "\n",
    "**활용법**\n",
    "\n",
    "\n",
    "```python\n",
    "class DerivedClassName(BaseClassName):\n",
    "    code block\n",
    "```"
   ]
  },
  {
   "cell_type": "code",
   "execution_count": null,
   "metadata": {},
   "outputs": [],
   "source": [
    "# 인사만 할 수 있는 간단한 Person 클래스를 만들어 봅시다."
   ]
  },
  {
   "cell_type": "code",
   "execution_count": 13,
   "metadata": {},
   "outputs": [],
   "source": [
    "class Person:\n",
    "    population = 0\n",
    "    \n",
    "    def __init__(self, name = '사람'):\n",
    "        self.name = name\n",
    "        Person.population +=1\n",
    "        \n",
    "    def greeting(self):\n",
    "        print(f'반갑습니다. {self.name}입니다!')"
   ]
  },
  {
   "cell_type": "code",
   "execution_count": 29,
   "metadata": {},
   "outputs": [
    {
     "name": "stdout",
     "output_type": "stream",
     "text": [
      "반갑습니다. 사람입니다!\n"
     ]
    }
   ],
   "source": [
    "p1 = Person()\n",
    "p1.greeting()"
   ]
  },
  {
   "cell_type": "code",
   "execution_count": null,
   "metadata": {},
   "outputs": [],
   "source": [
    "# Person 클래스를 상속받아 Student 클래스를 만들어봅시다."
   ]
  },
  {
   "cell_type": "code",
   "execution_count": 14,
   "metadata": {},
   "outputs": [],
   "source": [
    "class Student(Person):\n",
    "    def __init__(self, student_id, name = '학생'):\n",
    "        self.name = name\n",
    "        self.student_id = student_id\n",
    "        Person.population +=1"
   ]
  },
  {
   "cell_type": "code",
   "execution_count": null,
   "metadata": {},
   "outputs": [],
   "source": [
    "# 학생을 만들어봅시다."
   ]
  },
  {
   "cell_type": "code",
   "execution_count": 16,
   "metadata": {},
   "outputs": [
    {
     "data": {
      "text/plain": [
       "'학생'"
      ]
     },
     "execution_count": 16,
     "metadata": {},
     "output_type": "execute_result"
    }
   ],
   "source": [
    "s1 = Student(10)\n",
    "s1.name"
   ]
  },
  {
   "cell_type": "code",
   "execution_count": 17,
   "metadata": {},
   "outputs": [
    {
     "data": {
      "text/plain": [
       "10"
      ]
     },
     "execution_count": 17,
     "metadata": {},
     "output_type": "execute_result"
    }
   ],
   "source": [
    "s1.student_id"
   ]
  },
  {
   "cell_type": "code",
   "execution_count": null,
   "metadata": {},
   "outputs": [],
   "source": [
    "# 부모 클래스에 정의된 메서드를 호출 할 수 있습니다."
   ]
  },
  {
   "cell_type": "code",
   "execution_count": 18,
   "metadata": {},
   "outputs": [
    {
     "name": "stdout",
     "output_type": "stream",
     "text": [
      "반갑습니다. 학생입니다!\n"
     ]
    }
   ],
   "source": [
    "s1.greeting()"
   ]
  },
  {
   "cell_type": "markdown",
   "metadata": {},
   "source": [
    "> 이처럼 상속은 공통된 속성이나 메서드를 부모 클래스에 정의하고, 이를 상속받아 다양한 형태의 사람들을 만들 수 있습니다."
   ]
  },
  {
   "cell_type": "code",
   "execution_count": null,
   "metadata": {},
   "outputs": [],
   "source": [
    "# 진짜 상속관계인지 확인해봅시다. (클래스 상속 검사)"
   ]
  },
  {
   "cell_type": "code",
   "execution_count": 19,
   "metadata": {},
   "outputs": [
    {
     "data": {
      "text/plain": [
       "True"
      ]
     },
     "execution_count": 19,
     "metadata": {},
     "output_type": "execute_result"
    }
   ],
   "source": [
    "isinstance(s1, Person)"
   ]
  },
  {
   "cell_type": "code",
   "execution_count": 20,
   "metadata": {},
   "outputs": [
    {
     "data": {
      "text/plain": [
       "True"
      ]
     },
     "execution_count": 20,
     "metadata": {},
     "output_type": "execute_result"
    }
   ],
   "source": [
    "isinstance(s1,Student)"
   ]
  },
  {
   "cell_type": "code",
   "execution_count": null,
   "metadata": {},
   "outputs": [],
   "source": [
    "# issubclass 참고"
   ]
  },
  {
   "cell_type": "code",
   "execution_count": 21,
   "metadata": {},
   "outputs": [
    {
     "data": {
      "text/plain": [
       "True"
      ]
     },
     "execution_count": 21,
     "metadata": {},
     "output_type": "execute_result"
    }
   ],
   "source": [
    "issubclass(bool, int)"
   ]
  },
  {
   "cell_type": "markdown",
   "metadata": {},
   "source": [
    "## super()\n",
    "\n",
    "* 자식 클래스에 메서드를 추가로 구현할 수 있다.\n",
    "\n",
    "* 부모 클래스의 내용을 사용하고자 할 때, `super()`를 사용할 수 있다.\n",
    "\n",
    "---\n",
    "\n",
    "**활용법**\n",
    "\n",
    "\n",
    "```python\n",
    "class BabyClass(ParentClass):\n",
    "    def method(self, arg):\n",
    "        super().method(arg) \n",
    "```"
   ]
  },
  {
   "cell_type": "code",
   "execution_count": 22,
   "metadata": {},
   "outputs": [],
   "source": [
    "class Person:\n",
    "    def __init__(self, name, age, number, email):\n",
    "        self.name = name\n",
    "        self.age = age\n",
    "        self.number = number\n",
    "        self.email = email\n",
    "        \n",
    "    def greeting(self):\n",
    "        print(f'안녕, {self.name}')\n",
    "        \n",
    "class Student(Person):\n",
    "    def __init__(self,name,age,number,email,student_id):\n",
    "        self.name = name\n",
    "        self.age = age\n",
    "        self.number = number\n",
    "        self.email = email\n",
    "        self.student_id = student_id"
   ]
  },
  {
   "cell_type": "code",
   "execution_count": 24,
   "metadata": {},
   "outputs": [],
   "source": [
    "p1 = Person('홍길동', 200, '01012341234', 'hong@gil.dong')\n",
    "s1 = Student('학생', 20, '123412342', 'student@naver.com', '190000')"
   ]
  },
  {
   "cell_type": "code",
   "execution_count": 25,
   "metadata": {
    "scrolled": true
   },
   "outputs": [
    {
     "name": "stdout",
     "output_type": "stream",
     "text": [
      "안녕, 홍길동\n",
      "안녕, 학생\n"
     ]
    }
   ],
   "source": [
    "p1.greeting()\n",
    "s1.greeting()"
   ]
  },
  {
   "cell_type": "markdown",
   "metadata": {},
   "source": [
    "위의 코드를 보면, 상속을 했음에도 불구하고 동일한 코드가 반복됩니다. \n",
    "\n",
    "이를 수정해봅시다."
   ]
  },
  {
   "cell_type": "code",
   "execution_count": 28,
   "metadata": {},
   "outputs": [],
   "source": [
    "class Person:\n",
    "    def __init__(self, name, age, number, email):\n",
    "        self.name = name\n",
    "        self.age = age\n",
    "        self.number = number\n",
    "        self.email = email\n",
    "        \n",
    "    def greeting(self):\n",
    "        print(f'안녕, {self,name}')\n",
    "        \n",
    "class Student(Person):\n",
    "    def __init__(self,name,age,number,email,student_id):\n",
    "        super().__init__(name,age,number,email)\n",
    "        self.student_id = student_id"
   ]
  },
  {
   "cell_type": "markdown",
   "metadata": {},
   "source": [
    "### 실습 1 - Rectangle & Square class\n",
    "\n",
    "아래의 조건에 만족하는 클래스 `Rentangle` 을 작성하세요.\n",
    "\n",
    "---\n",
    "\n",
    "> Rectangle 클래스는 아래와 같은 속성과 메서드를 갖는다.\n",
    "- 인스턴스 속성\n",
    "    - `length`: 가로 길이\n",
    "    - `width`: 세로 길이\n",
    ">\n",
    ">   \n",
    "- 인스턴스 메서드\n",
    "    - `area`: 직사각형의 넓이를 리턴한다.\n",
    "    - `perimeter`: 직사각형의 둘레의 길이를 리턴한다."
   ]
  },
  {
   "cell_type": "code",
   "execution_count": null,
   "metadata": {},
   "outputs": [],
   "source": [
    "# 아래에 코드를 작성하세요."
   ]
  },
  {
   "cell_type": "code",
   "execution_count": 32,
   "metadata": {},
   "outputs": [],
   "source": [
    "class Rectangle():\n",
    "\n",
    "    def __init__(self,l,w):\n",
    "        self.l = l\n",
    "        self.w = w\n",
    "        \n",
    "    def area(self):\n",
    "        return self.l * self.w\n",
    "    \n",
    "    def perimeter(self):\n",
    "        return (self.l+self.w)*2\n",
    "  "
   ]
  },
  {
   "cell_type": "code",
   "execution_count": null,
   "metadata": {},
   "outputs": [],
   "source": [
    "# Rectangle 클래스로부터 인스턴스를 하나 만들어 가로 길이 4, 세로 길이 8인 직사각형의 넓이와 둘레 길이를 구해주세요."
   ]
  },
  {
   "cell_type": "code",
   "execution_count": 76,
   "metadata": {},
   "outputs": [],
   "source": [
    "rec = Rectangle(4,8)"
   ]
  },
  {
   "cell_type": "code",
   "execution_count": 77,
   "metadata": {},
   "outputs": [
    {
     "data": {
      "text/plain": [
       "32"
      ]
     },
     "execution_count": 77,
     "metadata": {},
     "output_type": "execute_result"
    }
   ],
   "source": [
    "rec.area()"
   ]
  },
  {
   "cell_type": "code",
   "execution_count": 78,
   "metadata": {},
   "outputs": [
    {
     "data": {
      "text/plain": [
       "24"
      ]
     },
     "execution_count": 78,
     "metadata": {},
     "output_type": "execute_result"
    }
   ],
   "source": [
    "rec.perimeter()"
   ]
  },
  {
   "cell_type": "code",
   "execution_count": null,
   "metadata": {},
   "outputs": [],
   "source": [
    "# Rectangle 클래스를 상속받아 Sqaure 클래스를 만들어 주세요.\n",
    "# Square 클래스는 Rectangle 클래스에서 상속받은 속성 외 추가 속성을 가지고 있지 않습니다."
   ]
  },
  {
   "cell_type": "code",
   "execution_count": 79,
   "metadata": {},
   "outputs": [],
   "source": [
    "class Square(Rectangle):\n",
    "    def __init__(self,l,w):\n",
    "        super().__init__(l,w)"
   ]
  },
  {
   "cell_type": "code",
   "execution_count": null,
   "metadata": {},
   "outputs": [],
   "source": [
    "# Square 클래스로부터 인스턴스를 하나 만들어 가로/세로 길이4가 4인 직사각형의 넓이와 둘레 길이를 구해주세요."
   ]
  },
  {
   "cell_type": "code",
   "execution_count": 35,
   "metadata": {},
   "outputs": [],
   "source": [
    "sq = Square(4,4)"
   ]
  },
  {
   "cell_type": "code",
   "execution_count": 36,
   "metadata": {
    "scrolled": true
   },
   "outputs": [
    {
     "data": {
      "text/plain": [
       "16"
      ]
     },
     "execution_count": 36,
     "metadata": {},
     "output_type": "execute_result"
    }
   ],
   "source": [
    "sq.area()"
   ]
  },
  {
   "cell_type": "code",
   "execution_count": 37,
   "metadata": {
    "scrolled": true
   },
   "outputs": [
    {
     "data": {
      "text/plain": [
       "16"
      ]
     },
     "execution_count": 37,
     "metadata": {},
     "output_type": "execute_result"
    }
   ],
   "source": [
    "sq.perimeter()"
   ]
  },
  {
   "cell_type": "markdown",
   "metadata": {},
   "source": [
    "## 메서드 오버라이딩\n",
    "> method overriding\n",
    "\n",
    "* 메서드를 재정의할 수도 있다.\n",
    "* 상속 받은 클래스에서 메서드를 덮어쓴다."
   ]
  },
  {
   "cell_type": "code",
   "execution_count": 38,
   "metadata": {},
   "outputs": [],
   "source": [
    "# Person 클래스의 상속을 받아 군인처럼 인사하는 Soldier 클래스를 만들어봅시다.\n",
    "\n",
    "class Person:\n",
    "    def __init__(self, name, age, number, email):\n",
    "        self.name = name\n",
    "        self.age = age\n",
    "        self.number = number\n",
    "        self.email = email \n",
    "        \n",
    "    def greeting(self):\n",
    "        print(f'안녕, {self.name}')"
   ]
  },
  {
   "cell_type": "code",
   "execution_count": 40,
   "metadata": {},
   "outputs": [],
   "source": [
    "class Soldier(Person):\n",
    "    def __init__(self,name,age,number,email,level):\n",
    "        super().__init__(name,age,number,email)\n",
    "        self.level = level\n",
    "        \n",
    "    #method overriding\n",
    "    def greeting(self):\n",
    "        return f'충성! {self.level} {self.name}'"
   ]
  },
  {
   "cell_type": "code",
   "execution_count": 41,
   "metadata": {},
   "outputs": [],
   "source": [
    "s = Soldier('호국이', 25, '01012334', 'soldier@oka.kr', '하사')"
   ]
  },
  {
   "cell_type": "code",
   "execution_count": 42,
   "metadata": {},
   "outputs": [
    {
     "data": {
      "text/plain": [
       "'충성! 하사 호국이'"
      ]
     },
     "execution_count": 42,
     "metadata": {},
     "output_type": "execute_result"
    }
   ],
   "source": [
    "s.greeting()"
   ]
  },
  {
   "cell_type": "markdown",
   "metadata": {},
   "source": [
    "## 상속관계에서의 이름공간\n",
    "\n",
    "* 기존의 `인스턴스 -> 클래스` 순으로 이름 공간을 탐색해나가는 과정에서 상속관계에 있으면 아래와 같이 확장된다.\n",
    "\n",
    "* 인스턴스 -> 클래스 -> 전역\n",
    "* 인스턴스 -> 자식 클래스 -> 부모 클래스 -> 전역"
   ]
  },
  {
   "cell_type": "markdown",
   "metadata": {},
   "source": [
    "## 실습 1\n",
    "\n",
    "> 사실 사람은 포유류입니다. \n",
    ">\n",
    "> Animal Class를 만들고, Person클래스가 상속받도록 구성해봅시다.\n",
    ">\n",
    "> 변수나, 메서드는 자유롭게 만들어봅시다."
   ]
  },
  {
   "cell_type": "code",
   "execution_count": null,
   "metadata": {},
   "outputs": [],
   "source": [
    "# 아래에 코드를 작성해주세요."
   ]
  },
  {
   "cell_type": "code",
   "execution_count": 43,
   "metadata": {},
   "outputs": [],
   "source": [
    "class Animal:\n",
    "    def __init__(self,life=True):\n",
    "        self.life = life\n",
    "        \n",
    "    def eat(self):\n",
    "        if self.life:\n",
    "            print('포유류는 뇸뇸 밥을 먹습니다.')\n",
    "            \n",
    "class Person(Animal):\n",
    "    def __init__(self, name, life=True):\n",
    "        super().__init__(life)\n",
    "        self.name = name\n",
    "    \n",
    "    def eat(self):\n",
    "        if self.life:\n",
    "            print(f'{self.name}은 와구와구 밥을 먹습니다.')"
   ]
  },
  {
   "cell_type": "code",
   "execution_count": 44,
   "metadata": {},
   "outputs": [
    {
     "name": "stdout",
     "output_type": "stream",
     "text": [
      "포유류는 뇸뇸 밥을 먹습니다.\n"
     ]
    }
   ],
   "source": [
    "animal = Animal(True)\n",
    "animal.eat()"
   ]
  },
  {
   "cell_type": "code",
   "execution_count": 45,
   "metadata": {},
   "outputs": [
    {
     "name": "stdout",
     "output_type": "stream",
     "text": [
      "tak은 와구와구 밥을 먹습니다.\n"
     ]
    }
   ],
   "source": [
    "person = Person('tak',True)\n",
    "person.eat()"
   ]
  },
  {
   "cell_type": "markdown",
   "metadata": {},
   "source": [
    "## 다중 상속\n",
    "두개 이상의 클래스를 상속받는 경우, 다중 상속이 됩니다."
   ]
  },
  {
   "cell_type": "code",
   "execution_count": null,
   "metadata": {},
   "outputs": [],
   "source": [
    "# Person 클래스를 정의합니다."
   ]
  },
  {
   "cell_type": "code",
   "execution_count": 46,
   "metadata": {},
   "outputs": [],
   "source": [
    "class Person:\n",
    "    def __init__(self,name):\n",
    "        self.name = name\n",
    "        \n",
    "    def breath(self):\n",
    "        return '날숨'\n",
    "    \n",
    "    def greeting(self):\n",
    "        return f'hi, I am{self,name}'"
   ]
  },
  {
   "cell_type": "code",
   "execution_count": null,
   "metadata": {},
   "outputs": [],
   "source": [
    "# Mom 클래스를 정의합니다."
   ]
  },
  {
   "cell_type": "code",
   "execution_count": 110,
   "metadata": {},
   "outputs": [],
   "source": [
    "class Mom(Person):\n",
    "    gene = 'XX'\n",
    "    \n",
    "    def swim(self):\n",
    "        return '첨벙첨벙'    "
   ]
  },
  {
   "cell_type": "code",
   "execution_count": null,
   "metadata": {},
   "outputs": [],
   "source": [
    "# Dad 클래스를 정의합니다."
   ]
  },
  {
   "cell_type": "code",
   "execution_count": 111,
   "metadata": {},
   "outputs": [],
   "source": [
    "class Dad(Person):\n",
    "    gene  = 'XY'\n",
    "    \n",
    "    def walk(self):\n",
    "        return '성큼성큼'   "
   ]
  },
  {
   "cell_type": "code",
   "execution_count": null,
   "metadata": {},
   "outputs": [],
   "source": [
    "# FirstChild 클래스를 정의합니다."
   ]
  },
  {
   "cell_type": "code",
   "execution_count": 53,
   "metadata": {},
   "outputs": [],
   "source": [
    "class Person:\n",
    "    def __init__(self,name):\n",
    "        self.naem = name\n",
    "    def breath(self):\n",
    "        return '날숨'\n",
    "    def greeting(self):\n",
    "        return f'hi, I am{self,name}'\n",
    "    \n",
    "class Mom(Person):\n",
    "    gene = 'XX'\n",
    "    def swim(self):\n",
    "        return '첨벙첨벙'\n",
    "    \n",
    "class Dad(Person):\n",
    "    gene = 'XY'\n",
    "    def walk(self):\n",
    "        return '성큼성큼'\n",
    "    \n",
    "class FC(Mom,Dad):\n",
    "    def swim(self):\n",
    "        return '챱챱'\n",
    "    def cry(self):\n",
    "        return '응애'"
   ]
  },
  {
   "cell_type": "code",
   "execution_count": 60,
   "metadata": {},
   "outputs": [],
   "source": [
    "class FirstChild(Dad,Mom):\n",
    "    def swim(self):\n",
    "        return '챱챱'\n",
    "    def cry(self):\n",
    "        return '응애'"
   ]
  },
  {
   "cell_type": "code",
   "execution_count": null,
   "metadata": {},
   "outputs": [],
   "source": [
    "# FirstChild 의 인스턴스 객체를 확인합니다."
   ]
  },
  {
   "cell_type": "code",
   "execution_count": 113,
   "metadata": {},
   "outputs": [],
   "source": [
    "baby = FirstChild('아가')"
   ]
  },
  {
   "cell_type": "code",
   "execution_count": null,
   "metadata": {},
   "outputs": [],
   "source": [
    "# cry 메서드를 실행합니다."
   ]
  },
  {
   "cell_type": "code",
   "execution_count": 114,
   "metadata": {},
   "outputs": [
    {
     "data": {
      "text/plain": [
       "'응애'"
      ]
     },
     "execution_count": 114,
     "metadata": {},
     "output_type": "execute_result"
    }
   ],
   "source": [
    "baby.cry()"
   ]
  },
  {
   "cell_type": "code",
   "execution_count": null,
   "metadata": {},
   "outputs": [],
   "source": [
    "# swim 메서드를 실행합니다."
   ]
  },
  {
   "cell_type": "code",
   "execution_count": 115,
   "metadata": {},
   "outputs": [
    {
     "data": {
      "text/plain": [
       "'챱챱'"
      ]
     },
     "execution_count": 115,
     "metadata": {},
     "output_type": "execute_result"
    }
   ],
   "source": [
    "baby.swim()"
   ]
  },
  {
   "cell_type": "code",
   "execution_count": null,
   "metadata": {},
   "outputs": [],
   "source": [
    "# walk 메서드를 실행합니다."
   ]
  },
  {
   "cell_type": "code",
   "execution_count": 116,
   "metadata": {},
   "outputs": [
    {
     "data": {
      "text/plain": [
       "'성큼성큼'"
      ]
     },
     "execution_count": 116,
     "metadata": {},
     "output_type": "execute_result"
    }
   ],
   "source": [
    "baby.walk()"
   ]
  },
  {
   "cell_type": "code",
   "execution_count": null,
   "metadata": {},
   "outputs": [],
   "source": [
    "# gene 은 누구의 속성을 참조할까요?"
   ]
  },
  {
   "cell_type": "code",
   "execution_count": 118,
   "metadata": {},
   "outputs": [
    {
     "data": {
      "text/plain": [
       "'XY'"
      ]
     },
     "execution_count": 118,
     "metadata": {},
     "output_type": "execute_result"
    }
   ],
   "source": [
    "baby.gene  #먼저오는 부모클래스로부터 받음"
   ]
  },
  {
   "cell_type": "code",
   "execution_count": null,
   "metadata": {},
   "outputs": [],
   "source": [
    "# 그렇다면 상속 순서를 바꿔봅시다."
   ]
  },
  {
   "cell_type": "code",
   "execution_count": 55,
   "metadata": {},
   "outputs": [],
   "source": [
    "class SecondChild(Mom, Dad):\n",
    "    def walk(self):\n",
    "        return '아장아장'\n",
    "    def cry(self):\n",
    "        return '응애!!!!!!!'"
   ]
  },
  {
   "cell_type": "code",
   "execution_count": null,
   "metadata": {},
   "outputs": [],
   "source": [
    "# SecondChild 의 인스턴스 객체를 확인합니다."
   ]
  },
  {
   "cell_type": "code",
   "execution_count": 57,
   "metadata": {},
   "outputs": [],
   "source": [
    "baby2 = SecondChild('애기')"
   ]
  },
  {
   "cell_type": "code",
   "execution_count": null,
   "metadata": {},
   "outputs": [],
   "source": [
    "# cry 메서드를 실행합니다."
   ]
  },
  {
   "cell_type": "code",
   "execution_count": 58,
   "metadata": {},
   "outputs": [
    {
     "data": {
      "text/plain": [
       "'응애!!!!!!!'"
      ]
     },
     "execution_count": 58,
     "metadata": {},
     "output_type": "execute_result"
    }
   ],
   "source": [
    "baby2.cry()"
   ]
  },
  {
   "cell_type": "code",
   "execution_count": null,
   "metadata": {},
   "outputs": [],
   "source": [
    "# walk 메서드를 실행합니다."
   ]
  },
  {
   "cell_type": "code",
   "execution_count": 61,
   "metadata": {},
   "outputs": [
    {
     "data": {
      "text/plain": [
       "'아장아장'"
      ]
     },
     "execution_count": 61,
     "metadata": {},
     "output_type": "execute_result"
    }
   ],
   "source": [
    "baby2.walk()   #아빠로부터 물려받음"
   ]
  },
  {
   "cell_type": "code",
   "execution_count": null,
   "metadata": {},
   "outputs": [],
   "source": [
    "# swim 메서드를 실행합니다."
   ]
  },
  {
   "cell_type": "code",
   "execution_count": 62,
   "metadata": {},
   "outputs": [
    {
     "data": {
      "text/plain": [
       "'첨벙첨벙'"
      ]
     },
     "execution_count": 62,
     "metadata": {},
     "output_type": "execute_result"
    }
   ],
   "source": [
    "baby2.swim()   "
   ]
  },
  {
   "cell_type": "code",
   "execution_count": null,
   "metadata": {},
   "outputs": [],
   "source": [
    "# gene 은 누구의 속성을 참조할까요?"
   ]
  },
  {
   "cell_type": "code",
   "execution_count": 63,
   "metadata": {
    "scrolled": true
   },
   "outputs": [
    {
     "data": {
      "text/plain": [
       "'XX'"
      ]
     },
     "execution_count": 63,
     "metadata": {},
     "output_type": "execute_result"
    }
   ],
   "source": [
    "baby2.gene"
   ]
  },
  {
   "cell_type": "code",
   "execution_count": 69,
   "metadata": {},
   "outputs": [],
   "source": [
    "#HW\n",
    "class Calculator:\n",
    "    count = 0\n",
    "\n",
    "    def info(self):\n",
    "        print('나는 계산기입니다.')\n",
    "\n",
    "    @staticmethod\n",
    "    def add(a,b):\n",
    "        Calculator.count += 1\n",
    "        print(f'{a} + {b}는 {a+b}입니다.')\n",
    "\n",
    "    @classmethod\n",
    "    def history(cls):\n",
    "        print(f'총 {cls.count}번 계산했습니다.')"
   ]
  },
  {
   "cell_type": "code",
   "execution_count": 70,
   "metadata": {},
   "outputs": [],
   "source": [
    "cal = Calculator()"
   ]
  },
  {
   "cell_type": "code",
   "execution_count": 71,
   "metadata": {
    "scrolled": true
   },
   "outputs": [
    {
     "name": "stdout",
     "output_type": "stream",
     "text": [
      "나는 계산기입니다.\n"
     ]
    }
   ],
   "source": [
    "cal.info()"
   ]
  },
  {
   "cell_type": "code",
   "execution_count": 72,
   "metadata": {},
   "outputs": [
    {
     "name": "stdout",
     "output_type": "stream",
     "text": [
      "4 + 5는 9입니다.\n"
     ]
    }
   ],
   "source": [
    "cal.add(4,5)"
   ]
  },
  {
   "cell_type": "code",
   "execution_count": 73,
   "metadata": {},
   "outputs": [
    {
     "name": "stdout",
     "output_type": "stream",
     "text": [
      "총 1번 계산했습니다.\n"
     ]
    }
   ],
   "source": [
    "cal.history()   #위에 add 1번"
   ]
  },
  {
   "cell_type": "code",
   "execution_count": 144,
   "metadata": {},
   "outputs": [],
   "source": [
    "class Circle:\n",
    "    pi =3.14\n",
    "    x = 0\n",
    "    y = 0\n",
    "    r = 0\n",
    "\n",
    "    def __init__(self,r,x,y):\n",
    "        self.r = r\n",
    "        self.x = x\n",
    "        self.y = y\n",
    "\n",
    "    def area(self):\n",
    "        return self.pi * self.r * self.r\n",
    "    \n",
    "    def circumference(self):\n",
    "        return 2 * self.pi * self.r\n",
    "\n",
    "    def center(self):\n",
    "        return(self.x, self.y)"
   ]
  },
  {
   "cell_type": "code",
   "execution_count": 146,
   "metadata": {},
   "outputs": [],
   "source": [
    "cir = Circle(3,2,4)"
   ]
  },
  {
   "cell_type": "code",
   "execution_count": 147,
   "metadata": {},
   "outputs": [
    {
     "data": {
      "text/plain": [
       "28.259999999999998"
      ]
     },
     "execution_count": 147,
     "metadata": {},
     "output_type": "execute_result"
    }
   ],
   "source": [
    "cir.area()"
   ]
  },
  {
   "cell_type": "code",
   "execution_count": 148,
   "metadata": {},
   "outputs": [
    {
     "data": {
      "text/plain": [
       "18.84"
      ]
     },
     "execution_count": 148,
     "metadata": {},
     "output_type": "execute_result"
    }
   ],
   "source": [
    "cir.circumference()"
   ]
  },
  {
   "cell_type": "code",
   "execution_count": 77,
   "metadata": {},
   "outputs": [],
   "source": [
    "#WS\n",
    "class Animal:\n",
    "    def __init__(self,name):\n",
    "        self.name = name\n",
    "        \n",
    "    def walk(self):\n",
    "        print(f'{self.name}! 걷는다!')\n",
    "        \n",
    "    def eat(self):\n",
    "        print(f'{self.name}! 먹는다!')"
   ]
  },
  {
   "cell_type": "code",
   "execution_count": 78,
   "metadata": {},
   "outputs": [],
   "source": [
    "class Dog(Animal):\n",
    "    def __init__(self,name):\n",
    "        super().__init__(name)\n",
    "    \n",
    "    def walk(self):\n",
    "        print(f'{self.name}! 달린다!')\n",
    "        \n",
    "    def run(self):\n",
    "        print(f'{self.name}! 달린다!')"
   ]
  },
  {
   "cell_type": "code",
   "execution_count": 79,
   "metadata": {},
   "outputs": [],
   "source": [
    "dog = Dog('멍멍이')"
   ]
  },
  {
   "cell_type": "code",
   "execution_count": 80,
   "metadata": {
    "scrolled": true
   },
   "outputs": [
    {
     "name": "stdout",
     "output_type": "stream",
     "text": [
      "멍멍이! 달린다!\n"
     ]
    }
   ],
   "source": [
    "dog.walk()"
   ]
  },
  {
   "cell_type": "code",
   "execution_count": 81,
   "metadata": {},
   "outputs": [
    {
     "name": "stdout",
     "output_type": "stream",
     "text": [
      "멍멍이! 달린다!\n"
     ]
    }
   ],
   "source": [
    "dog.run()"
   ]
  },
  {
   "cell_type": "code",
   "execution_count": 83,
   "metadata": {},
   "outputs": [],
   "source": [
    "class Bird(Animal):\n",
    "    def __init__(self,name):\n",
    "        super().__init__(name)\n",
    "    def fly(self):\n",
    "        print(f'{self.name}! 푸드덕!')"
   ]
  },
  {
   "cell_type": "code",
   "execution_count": 84,
   "metadata": {},
   "outputs": [],
   "source": [
    "bird = Bird('구구')"
   ]
  },
  {
   "cell_type": "code",
   "execution_count": 85,
   "metadata": {},
   "outputs": [
    {
     "name": "stdout",
     "output_type": "stream",
     "text": [
      "구구! 걷는다!\n"
     ]
    }
   ],
   "source": [
    "bird.walk()"
   ]
  },
  {
   "cell_type": "code",
   "execution_count": 86,
   "metadata": {},
   "outputs": [
    {
     "name": "stdout",
     "output_type": "stream",
     "text": [
      "구구! 먹는다!\n"
     ]
    }
   ],
   "source": [
    "bird.eat()"
   ]
  },
  {
   "cell_type": "code",
   "execution_count": 87,
   "metadata": {},
   "outputs": [
    {
     "name": "stdout",
     "output_type": "stream",
     "text": [
      "구구! 푸드덕!\n"
     ]
    }
   ],
   "source": [
    "bird.fly()"
   ]
  }
 ],
 "metadata": {
  "kernelspec": {
   "display_name": "Python 3",
   "language": "python",
   "name": "python3"
  },
  "language_info": {
   "codemirror_mode": {
    "name": "ipython",
    "version": 3
   },
   "file_extension": ".py",
   "mimetype": "text/x-python",
   "name": "python",
   "nbconvert_exporter": "python",
   "pygments_lexer": "ipython3",
   "version": "3.7.3"
  },
  "latex_envs": {
   "LaTeX_envs_menu_present": true,
   "autoclose": false,
   "autocomplete": true,
   "bibliofile": "biblio.bib",
   "cite_by": "apalike",
   "current_citInitial": 1,
   "eqLabelWithNumbers": true,
   "eqNumInitial": 1,
   "hotkeys": {
    "equation": "Ctrl-E",
    "itemize": "Ctrl-I"
   },
   "labels_anchors": false,
   "latex_user_defs": false,
   "report_style_numbering": false,
   "user_envs_cfg": false
  },
  "toc": {
   "base_numbering": 1,
   "nav_menu": {},
   "number_sections": true,
   "sideBar": true,
   "skip_h1_title": false,
   "title_cell": "Table of Contents",
   "title_sidebar": "Contents",
   "toc_cell": false,
   "toc_position": {
    "height": "calc(100% - 180px)",
    "left": "10px",
    "top": "150px",
    "width": "361px"
   },
   "toc_section_display": true,
   "toc_window_display": false
  }
 },
 "nbformat": 4,
 "nbformat_minor": 2
}
