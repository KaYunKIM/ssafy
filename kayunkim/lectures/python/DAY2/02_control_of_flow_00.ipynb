{
 "cells": [
  {
   "cell_type": "markdown",
   "metadata": {},
   "source": [
    "# 상승장? 하락장?\n",
    "\n",
    "> 최고가와 최저가의 차이를 변동폭으로 정의할 때 (시가 + 변동폭)이 최고가 보다 높을 경우 \"상승장\", 그렇지 않은 경우 \"하락장\" 문자열을 출력하세요.\n",
    "\n",
    "|Key Name|Description|\n",
    "|------|---|\n",
    "|opeing_price|최근 24시간 내 시작 거래금액|\n",
    "|closing_price|최근 24시간 내 마지막 거래금액|\n",
    "|min_price|최근 24시간 내 최저 거래금액|\n",
    "|max_price|최근 24시간 내 최고 거래금액|"
   ]
  },
  {
   "cell_type": "code",
   "execution_count": 2,
   "metadata": {},
   "outputs": [],
   "source": [
    "import requests\n",
    "\n",
    "url = 'https://api.bithumb.com/public/ticker/btc'\n",
    "data = { k: float(v) for k, v in requests.get(url).json()['data'].items() }\n",
    "\n",
    "# 아래에 코드를 작성하세요."
   ]
  },
  {
   "cell_type": "code",
   "execution_count": 4,
   "metadata": {},
   "outputs": [
    {
     "name": "stdout",
     "output_type": "stream",
     "text": [
      "상승장\n"
     ]
    }
   ],
   "source": [
    "v = data['max_price'] - data['min_price']\n",
    "if data['opening_price']+ v > data['max_price']:\n",
    "    print(\"상승장\")\n",
    "else:\n",
    "    print(\"하락장\")\n",
    "\n",
    "\n",
    "\n",
    "\n",
    "# a= data['opening_price']\n",
    "# b = data['closing_price']\n",
    "# c = data['min_price']\n",
    "# d = data['max_price']\n",
    "\n",
    "# v = d -c\n",
    "# if a + v > d:\n",
    "#     print('상승장')\n",
    "# else:\n",
    "#     print('하락장')          \n",
    "\n",
    "\n",
    "\n",
    "#정답\n",
    "# maximum = int(data['max_price'])\n",
    "# minimum = int(data['min_price'])\n",
    "\n",
    "# coin_range = maximum - minimum\n",
    "# start_price = int(data['opening'])\n",
    "\n",
    "# if start_price + coin_range > maximum\n"
   ]
  },
  {
   "cell_type": "markdown",
   "metadata": {},
   "source": [
    "# 모음 제거하기\n",
    "\n",
    "> 다음 문장의 모음을 제거하여 출력하세요.\n",
    "\n",
    "---\n",
    "\n",
    "```\n",
    "예시 입력)\n",
    "'Life is too short, you need python'\n",
    "\n",
    "예시 출력)\n",
    "Lf s t shrt, y nd pythn\n",
    "```"
   ]
  },
  {
   "cell_type": "code",
   "execution_count": 19,
   "metadata": {},
   "outputs": [],
   "source": [
    "my_str = 'Life is too short, you need python'\n",
    "\n",
    "# 아래에 코드를 작성하세요."
   ]
  },
  {
   "cell_type": "code",
   "execution_count": 60,
   "metadata": {},
   "outputs": [
    {
     "name": "stdout",
     "output_type": "stream",
     "text": [
      "Lf s t shrt, y nd pythn\n"
     ]
    }
   ],
   "source": [
    "a= ['a', 'e', 'i', 'o', 'u']\n",
    "\n",
    "         \n",
    "result = ''        \n",
    "for i in my_str:\n",
    "    if i not in a:\n",
    "        result += i\n",
    "print(result)\n",
    "\n",
    "\n",
    "\n",
    "# result = ''        \n",
    "# for i in my_str:\n",
    "#     if i in a:\n",
    "#         continue\n",
    "#     else:\n",
    "#         result += i\n",
    "# print(result)\n",
    "        \n",
    "    \n",
    "    \n",
    "    \n",
    "    \n",
    "# 1.\n",
    "# result = ''\n",
    "# for char in my_str:\n",
    "#     if char != 'a' and char != 'e' and ... :\n",
    "#         result += char\n",
    "# print(result)\n",
    "\n",
    "\n",
    "# 2.\n",
    "# result = ''\n",
    "# vowels = 'aeiou'\n",
    "# for char in my_str:\n",
    "#     if char not in vowels:\n",
    "#         reuslt += char\n",
    "# print(result)\n"
   ]
  },
  {
   "cell_type": "markdown",
   "metadata": {},
   "source": [
    "# 과일 개수 골라내기\n",
    "\n",
    "> 장바구니에 아래와 같은 과일이 들어있고 과일 판별 리스트가 있습니다.\n",
    "\n",
    "```python\n",
    "basket_items = {'apples': 4, 'oranges': 19, 'kites': 3, 'sandwiches': 8}\n",
    "\n",
    "fruits = ['apples', 'oranges', 'pears', 'peaches', 'grapes', 'bananas']\n",
    "\n",
    "```\n",
    "> 현재 장바구니에는 과일이 몇개이고 과일이 아닌 것은 몇개인지 출력하세요.\n",
    "---\n",
    "```\n",
    "예시 출력)\n",
    "과일은 23개이고, 11개는 과일이 아닙니다..\n",
    "```"
   ]
  },
  {
   "cell_type": "code",
   "execution_count": 1,
   "metadata": {},
   "outputs": [],
   "source": [
    "basket_items = {'apples': 4, 'oranges': 19, 'kites': 3, 'sandwiches': 8}\n",
    "fruits = ['apples', 'oranges', 'pears', 'peaches', 'grapes', 'bananas']\n",
    "\n",
    "# 아래에 코드를 작성하세요."
   ]
  },
  {
   "cell_type": "code",
   "execution_count": 2,
   "metadata": {},
   "outputs": [
    {
     "name": "stdout",
     "output_type": "stream",
     "text": [
      "과일은 23개이고, 11개는 과일이 아닙니다.\n"
     ]
    }
   ],
   "source": [
    "\n",
    "fruitsY = 0\n",
    "fruitsN = 0\n",
    "for i in basket_items.keys():\n",
    "    if i in fruits:\n",
    "        fruitsY += basket_items[i]\n",
    "    else:\n",
    "        fruitsN += basket_items[i]\n",
    "        \n",
    "print(f'과일은 {fruitsY}개이고, {fruitsN}개는 과일이 아닙니다.')\n",
    "       \n",
    "\n"
   ]
  },
  {
   "cell_type": "markdown",
   "metadata": {},
   "source": [
    "# 영어 이름 출력하기 \n",
    "\n",
    "> 영어 이름은 가운데 이름을 가지고 있는 경우가 있습니다.\n",
    ">\n",
    "> 가운데 이름은 대문자로 축약해서 나타내는 코드를 작성하세요.\n",
    "\n",
    "---\n",
    "```\n",
    "예시 입력)\n",
    "Alice Betty Catherine Davis\n",
    "```\n",
    "```\n",
    "예시 출력)\n",
    "Alice B. C. Davis\n",
    "```"
   ]
  },
  {
   "cell_type": "code",
   "execution_count": 15,
   "metadata": {},
   "outputs": [
    {
     "name": "stdout",
     "output_type": "stream",
     "text": [
      "Alice Betty Catherine Davis\n"
     ]
    }
   ],
   "source": [
    "name = input()\n",
    "names = name.split()\n",
    "\n",
    "# 아래에 코드를 작성하세요."
   ]
  },
  {
   "cell_type": "code",
   "execution_count": 3,
   "metadata": {},
   "outputs": [
    {
     "name": "stdout",
     "output_type": "stream",
     "text": [
      "['Alice', 'Betty', 'Catherine', 'Davis']\n"
     ]
    }
   ],
   "source": [
    "\n",
    "print(names)"
   ]
  },
  {
   "cell_type": "code",
   "execution_count": 36,
   "metadata": {},
   "outputs": [
    {
     "name": "stdout",
     "output_type": "stream",
     "text": [
      " Alice B. C. Davis \n"
     ]
    }
   ],
   "source": [
    "rename = ' '\n",
    "for i in range(1, len(names)-1):\n",
    "    if names[i] in name:  \n",
    "        names[i] = names[i][0] + '.'\n",
    "\n",
    "for i in names:\n",
    "    rename += i +' '\n",
    "print(rename)\n",
    "\n",
    "\n",
    "#****** print(' '.join(names))\n",
    "\n",
    "\n",
    "# for i in range(1,len(names)-1):\n",
    "#     names[i] = names[i][0]+ \".\"\n",
    "    \n",
    "# for i in names:\n",
    "#     print(i, end = ' ')\n",
    "\n",
    "\n",
    "\n",
    "# for i in names[1:len(names)-1]:\n",
    "\n",
    "\n",
    "\n",
    "\n",
    "\n",
    "\n"
   ]
  }
 ],
 "metadata": {
  "kernelspec": {
   "display_name": "Python 3",
   "language": "python",
   "name": "python3"
  },
  "language_info": {
   "codemirror_mode": {
    "name": "ipython",
    "version": 3
   },
   "file_extension": ".py",
   "mimetype": "text/x-python",
   "name": "python",
   "nbconvert_exporter": "python",
   "pygments_lexer": "ipython3",
   "version": "3.7.3"
  },
  "toc": {
   "base_numbering": 1,
   "nav_menu": {},
   "number_sections": true,
   "sideBar": true,
   "skip_h1_title": false,
   "title_cell": "Table of Contents",
   "title_sidebar": "Contents",
   "toc_cell": false,
   "toc_position": {},
   "toc_section_display": true,
   "toc_window_display": false
  }
 },
 "nbformat": 4,
 "nbformat_minor": 2
}
