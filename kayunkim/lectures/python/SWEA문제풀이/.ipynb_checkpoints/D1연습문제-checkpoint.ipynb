{
 "cells": [
  {
   "cell_type": "code",
   "execution_count": 1,
   "metadata": {},
   "outputs": [
    {
     "name": "stdout",
     "output_type": "stream",
     "text": [
      "#++++\n",
      "+#+++\n",
      "++#++\n",
      "+++#+\n",
      "++++#\n"
     ]
    }
   ],
   "source": [
    "a = '+'*25\n",
    "b = '#'\n",
    "ls = []\n",
    "\n",
    "for i in range(0,25):\n",
    "    ls.append(a[i])\n",
    "\n",
    "for x in range(0,25,6):\n",
    "    ls[x] = b\n",
    "    \n",
    "for y in range(0,5): \n",
    "    c = ls[y*5:(y+1)*5]\n",
    "    print(''.join(c))\n",
    "    "
   ]
  },
  {
   "cell_type": "code",
   "execution_count": 2,
   "metadata": {},
   "outputs": [
    {
     "name": "stdout",
     "output_type": "stream",
     "text": [
      "#++++\n",
      "+#+++\n",
      "++#++\n",
      "+++#+\n",
      "++++#\n"
     ]
    }
   ],
   "source": [
    "for i in range(0,5):\n",
    "    print('+'*i + '#' + '+'*(4-i))"
   ]
  },
  {
   "cell_type": "code",
   "execution_count": 1,
   "metadata": {},
   "outputs": [
    {
     "name": "stdout",
     "output_type": "stream",
     "text": [
      "학생수: 3\n",
      "1.국어: 80\n",
      "1.영어: 60\n",
      "1.수학: 70\n",
      "2.국어: 90\n",
      "2.영어: 85\n",
      "2.수학: 95\n",
      "3.국어: 50\n",
      "3.영어: 60\n",
      "3.수학: 70\n"
     ]
    }
   ],
   "source": [
    "# item_cnt = 3\n",
    "# list = [['a', 'b', 'c'], ['aa', 'bb', 'cc'], ['aaa', 'bbb', 'ccc']]\n",
    "\n",
    "# [[nested_list[i] for nested_list in list] for i in range(item_cnt)]\n",
    "\n",
    "\n",
    "\n",
    "\n",
    "# t = int(input())\n",
    "# num = []\n",
    "# for i in range(t):\n",
    "#     print(i)\n",
    "#     i*input()\n",
    "#     list = [i]\n",
    "#     print(i)\n",
    "    \n",
    "    \n",
    "kmn=['국어','영어','수학']\n",
    "\n",
    "inw=int(input('학생수: '))\n",
    "jum=[]\n",
    "for i in range(inw):\n",
    "    ijum=[]\n",
    "    for j in range(len(kmn)):\n",
    "        kjum=int(input(str(i+1)+'.'+kmn[j]+': '))\n",
    "        ijum.append(kjum)\n",
    "    jum.append(ijum)    \n",
    "    \n",
    "    \n",
    "    \n",
    "    \n",
    "#     [for x in range(1, t+1)]\n",
    "\n",
    "# for r in range(1,t+1):\n",
    "#     r*input()\n",
    "#     for t in range(1,r+1):\n",
    "#         a, b, c, d, e, f, g, h, i, j = map(int,input().split())\n",
    "#         t = [a,b,c,d,e,f,g,h,i,j]\n",
    "#         for i in t:\n",
    "#             print(i)\n",
    "#     sum_t= 0\n",
    "#     for i in t:\n",
    "#         if i%2 ==1:\n",
    "#             sum_t += i\n",
    "#     print(sum_t)\n",
    "\n"
   ]
  },
  {
   "cell_type": "code",
   "execution_count": 2,
   "metadata": {},
   "outputs": [
    {
     "name": "stdout",
     "output_type": "stream",
     "text": [
      "3\n",
      "3 17 1 39 8 41 2 32 99 2\n",
      "#1 200\n",
      "22 8 5 123 7 2 63 7 3 46\n",
      "#2 208\n",
      "6 63 2 3 58 76 21 33 8 1 \n",
      "#3 121\n"
     ]
    }
   ],
   "source": [
    "#2072\n",
    "t=int(input())\n",
    "\n",
    "for i in range (1, t+1):\n",
    "    numbers_i = input().split()\n",
    "    if len(numbers_i) == 10:\n",
    "        sum = 0\n",
    "        for n in range(0,10):\n",
    "            if 0<= int(numbers_i[n]) < 1000:\n",
    "                if int(numbers_i[n])%2==1:\n",
    "                    sum += int(numbers_i[n])\n",
    "        print('#' + str(i) + ' '+ str(sum))"
   ]
  },
  {
   "cell_type": "code",
   "execution_count": 3,
   "metadata": {},
   "outputs": [
    {
     "name": "stdout",
     "output_type": "stream",
     "text": [
      "3\n",
      "1 2\n",
      "3 4\n",
      "5 6\n"
     ]
    }
   ],
   "source": [
    "#2071\n",
    "t=int(input())\n",
    "\n",
    "for i in range (1, t+1):\n",
    "    numbers_i = input().split()\n",
    "    if len(numbers_i) == 10:\n",
    "        sum = 0\n",
    "        for n in range(0,10):\n",
    "            if 0<= int(numbers_i[n]) < 1000:\n",
    "                    sum += int(numbers_i[n])\n",
    "                    Avg = round(sum/10)\n",
    "        print('#' + str(i) + ' '+ str(Avg))\n",
    "    "
   ]
  },
  {
   "cell_type": "code",
   "execution_count": null,
   "metadata": {},
   "outputs": [
    {
     "name": "stdout",
     "output_type": "stream",
     "text": [
      "3\n"
     ]
    }
   ],
   "source": [
    "t=int(input())\n",
    "\n",
    "for i in range (1, t+1):\n",
    "    numbers_i = input().split()\n",
    "    if len(numbers_i) == 10:\n",
    "        ai = []\n",
    "        for n in range(0,10):\n",
    "            if 0<= int(numbers_i[n]) < 1000:\n",
    "                a = int(numbers_i[n])\n",
    "                ai.append(a)\n",
    "                ai.sort()\n",
    "                print(ai)\n",
    "                print(ai[9])\n",
    "#                 max = ai[9]\n",
    "#         print('#' + str(i) + ' '+ str(max))"
   ]
  },
  {
   "cell_type": "code",
   "execution_count": 1,
   "metadata": {},
   "outputs": [
    {
     "name": "stdout",
     "output_type": "stream",
     "text": [
      "3\n",
      "3 17 1 39 8 41 2 32 99 2\n",
      "#1 99\n",
      "22 8 5 123 7 2 63 7 3 46\n",
      "#2 123\n",
      "6 63 2 3 58 76 21 33 8 1\n",
      "#3 76\n"
     ]
    }
   ],
   "source": [
    "t=int(input())\n",
    "\n",
    "for i in range (1, t+1):\n",
    "    numbers_i = input().split()\n",
    "    if len(numbers_i) == 10:\n",
    "        ai =[]\n",
    "        for n in range(0,10):\n",
    "            if 0<= int(numbers_i[n]) < 1000:\n",
    "                a = int(numbers_i[n])\n",
    "                ai.append(a)\n",
    "                ai.sort()        \n",
    "        print('#' + str(i) + ' '+ str(ai[9]))    "
   ]
  },
  {
   "cell_type": "code",
   "execution_count": 2,
   "metadata": {},
   "outputs": [
    {
     "name": "stdout",
     "output_type": "stream",
     "text": [
      "3\n",
      "9 2\n",
      "#1 4 1\n",
      "15 6\n",
      "#2 2 3\n",
      "369 15\n",
      "#3 24 9\n"
     ]
    }
   ],
   "source": [
    "t = int(input())\n",
    "\n",
    "for i in range(1, t+1):\n",
    "    ai, bi = input().split()\n",
    "    A = int(ai)\n",
    "    B = int(bi)\n",
    "    if 1<= A <=10000 and 1<= B <=10000:\n",
    "        x =A//B\n",
    "        y =A%B\n",
    "    print('#' + str(i) + ' '+ str(x) + ' '+ str(y))"
   ]
  },
  {
   "cell_type": "code",
   "execution_count": 3,
   "metadata": {},
   "outputs": [
    {
     "name": "stdout",
     "output_type": "stream",
     "text": [
      "ABCDEF\n",
      "<class 'str'>\n",
      "['A']\n",
      "1 [1, 'B']\n",
      "2 [1, 2, 'C']\n",
      "3 [1, 2, 3, 'D']\n",
      "4 [1, 2, 3, 4, 'E']\n",
      "5 [1, 2, 3, 4, 5, 'F']\n",
      "6 "
     ]
    }
   ],
   "source": [
    "a = input()\n",
    "print(type(a))\n",
    "list = []\n",
    "if len(a) <= 200:\n",
    "    for i in range(0, len(a)):\n",
    "        list.append(a[i])\n",
    "        print(list)\n",
    "        list[i] = i+1\n",
    "        b = list[i]\n",
    "        print(b, end= ' ')"
   ]
  },
  {
   "cell_type": "code",
   "execution_count": 6,
   "metadata": {},
   "outputs": [
    {
     "name": "stdout",
     "output_type": "stream",
     "text": [
      "1\n",
      "20220328\n",
      "-1\n",
      "-1\n",
      "-1\n",
      "-1\n",
      "-1\n",
      "-1\n",
      "-1\n",
      "-1\n",
      "-1\n",
      "-1\n",
      "-1\n",
      "-1\n"
     ]
    }
   ],
   "source": [
    "calendar = {1: 31, 2: 28, 3: 31, 4: 30, 5: 31,6: 30, \n",
    "            7: 31, 8: 31, 9: 30, 10: 31, 11: 30, 12: 31} \n",
    "\n",
    "t = int(input())\n",
    "\n",
    "for i in range(1, t+1):\n",
    "    i = input()\n",
    "    if len(i) == 8:\n",
    "        for m, d in calendar.items():\n",
    "            if i[4:5] == m:\n",
    "                if m == 1 and 3 and 5 and 7 and 8 and 10 and 12:\n",
    "                    for d in range(1,calendar[m]):\n",
    "                        if i[6:7] == d:\n",
    "                            print('#' + str(i) + ' ' + i[0:3] + '/' + i[4:5] + '/' + i[6:7])\n",
    "                        else:\n",
    "                            print('-1')\n",
    "                \n",
    "            else:\n",
    "                print('-1')\n",
    "        \n",
    "\n",
    "#                 for y in range(1, 32):\n",
    "#                     if i[6:7] == y:\n",
    "#                         print('#' + str(i) + ' ' + i[0:3] + '/' + i[4:5] + '/' + i[6:7])\n",
    "#                     else:\n",
    "#                         print('-1')\n",
    "#             elif x== 4 and 6 and 9 and 11:\n",
    "#                 for y in range(1,31):\n",
    "#                     if i[6:7] == y:\n",
    "#                         print('#' + str(i) + ' ' + i[0:3] + '/' + i[4:5] + '/' + i[6:7])\n",
    "#                     else:\n",
    "#                         print('-1')\n",
    "#             elif x == 2:\n",
    "#                 for y in range(1,29):\n",
    "#                     if i[6:7] == y:\n",
    "#                         print('#' + str(i) + ' ' + i[0:3] + '/' + i[4:5] + '/' + i[6:7])\n",
    "#                     else:\n",
    "#                         print('-1')"
   ]
  },
  {
   "cell_type": "code",
   "execution_count": 3,
   "metadata": {
    "scrolled": true
   },
   "outputs": [
    {
     "name": "stdout",
     "output_type": "stream",
     "text": [
      "2\n",
      "22220228\n",
      "-1\n",
      "#1 2222/02/28\n",
      "22220301\n",
      "-1\n",
      "#2 2222/03/01\n"
     ]
    }
   ],
   "source": [
    "t = int(input())\n",
    "\n",
    "for i in range(1, t+1):\n",
    "    ai = input()\n",
    "    if len(ai) == 8:\n",
    "        for x in range(1, 13):\n",
    "            if ai[4:6] == x:\n",
    "                if x == 1 or 3 or 5 or 7 or 8 or 10 or 12:\n",
    "                    for y in range(1, 32):\n",
    "                        ai[6:] == y\n",
    "                elif x== 4 or 6 or 9 or 11:\n",
    "                    for y in range(1,31):\n",
    "                        ai[6:] == y\n",
    "                elif x == 2:\n",
    "                    for y in range(1,29):\n",
    "                        ai[6:] == y\n",
    "     \n",
    "               \n",
    "        else:\n",
    "            print('-1')         \n",
    "    print('#' + str(i) + ' ' + ai[0:4] + '/' + ai[4:6] + '/' + ai[6:])  \n",
    "    "
   ]
  },
  {
   "cell_type": "code",
   "execution_count": 4,
   "metadata": {
    "scrolled": true
   },
   "outputs": [
    {
     "name": "stdout",
     "output_type": "stream",
     "text": [
      "ABCDEFGHIJKLMNOPQRSTUVWXYZ\n",
      "1 2 3 4 5 6 7 8 9 10 11 12 13 14 15 16 17 18 19 20 21 22 23 24 25 26 "
     ]
    }
   ],
   "source": [
    "a = input()\n",
    "list = []\n",
    "if len(a) <= 200:\n",
    "    for i in range(0, len(a)):\n",
    "        list.append(a[i])\n",
    "        b = ord(list[i])\n",
    "        print((b-64), end= ' ')"
   ]
  },
  {
   "cell_type": "code",
   "execution_count": 7,
   "metadata": {},
   "outputs": [
    {
     "name": "stdout",
     "output_type": "stream",
     "text": [
      "100\n",
      "0 0 225 214 82 73 241 233 179 219 135 62 36 13 6 71 179 77 67 139 31 90 9 37 93 203 150 69 19 137 28 174 32 80 64 54 18 0 158 73 173 20 0 102 107 48 50 161 246 145 225 31 0 153 185 157 44 126 153 233 0 201 83 103 191 0 45 0 131 87 97 105 97 209 157 22 0 29 132 74 2 232 44 203 0 51 0 244 212 212 89 53 50 244 207 144 72 143 0 0 \n"
     ]
    },
    {
     "ename": "TypeError",
     "evalue": "'list' object is not callable",
     "output_type": "error",
     "traceback": [
      "\u001b[0;31m---------------------------------------------------------------------------\u001b[0m",
      "\u001b[0;31mTypeError\u001b[0m                                 Traceback (most recent call last)",
      "\u001b[0;32m<ipython-input-7-edd60a0d9a41>\u001b[0m in \u001b[0;36m<module>\u001b[0;34m\u001b[0m\n\u001b[1;32m      3\u001b[0m \u001b[0;32mfor\u001b[0m \u001b[0mi\u001b[0m \u001b[0;32min\u001b[0m \u001b[0mrange\u001b[0m \u001b[0;34m(\u001b[0m\u001b[0;36m1\u001b[0m\u001b[0;34m,\u001b[0m\u001b[0;36m2\u001b[0m\u001b[0;34m)\u001b[0m\u001b[0;34m:\u001b[0m\u001b[0;34m\u001b[0m\u001b[0;34m\u001b[0m\u001b[0m\n\u001b[1;32m      4\u001b[0m     \u001b[0mW\u001b[0m \u001b[0;34m=\u001b[0m \u001b[0mint\u001b[0m\u001b[0;34m(\u001b[0m\u001b[0minput\u001b[0m\u001b[0;34m(\u001b[0m\u001b[0;34m)\u001b[0m\u001b[0;34m)\u001b[0m\u001b[0;34m\u001b[0m\u001b[0;34m\u001b[0m\u001b[0m\n\u001b[0;32m----> 5\u001b[0;31m     \u001b[0mH\u001b[0m \u001b[0;34m=\u001b[0m \u001b[0mlist\u001b[0m\u001b[0;34m(\u001b[0m\u001b[0mmap\u001b[0m\u001b[0;34m(\u001b[0m\u001b[0mint\u001b[0m\u001b[0;34m,\u001b[0m \u001b[0minput\u001b[0m\u001b[0;34m(\u001b[0m\u001b[0;34m)\u001b[0m\u001b[0;34m.\u001b[0m\u001b[0msplit\u001b[0m\u001b[0;34m(\u001b[0m\u001b[0;34m)\u001b[0m\u001b[0;34m)\u001b[0m\u001b[0;34m)\u001b[0m\u001b[0;34m\u001b[0m\u001b[0;34m\u001b[0m\u001b[0m\n\u001b[0m\u001b[1;32m      6\u001b[0m     \u001b[0mprint\u001b[0m\u001b[0;34m(\u001b[0m\u001b[0mmax\u001b[0m\u001b[0;34m(\u001b[0m\u001b[0mH\u001b[0m\u001b[0;34m)\u001b[0m\u001b[0;34m)\u001b[0m\u001b[0;34m\u001b[0m\u001b[0;34m\u001b[0m\u001b[0m\n\u001b[1;32m      7\u001b[0m     \u001b[0mmax_H\u001b[0m \u001b[0;34m=\u001b[0m \u001b[0mmax\u001b[0m\u001b[0;34m(\u001b[0m\u001b[0mH\u001b[0m\u001b[0;34m)\u001b[0m\u001b[0;34m\u001b[0m\u001b[0;34m\u001b[0m\u001b[0m\n",
      "\u001b[0;31mTypeError\u001b[0m: 'list' object is not callable"
     ]
    }
   ],
   "source": [
    "arr = []\n",
    "\n",
    "for i in range (1,2):\n",
    "    W = int(input())\n",
    "    H = list(map(int, input().split()))\n",
    "    print(max(H))\n",
    "    max_H = max(H)\n",
    "\n",
    "    \n",
    "matrix = [[0]*max_H for i in range(max_H)]\n",
    "list2[0][0] = 1\n",
    "# [[1,0,0],[0,0,0],[0,0,0]]\n",
    "\n",
    "matrix = [[0 for col in range(10)] for row in range(10)]\n",
    "\n"
   ]
  },
  {
   "cell_type": "code",
   "execution_count": 7,
   "metadata": {},
   "outputs": [
    {
     "name": "stdout",
     "output_type": "stream",
     "text": [
      "['']\n",
      "['', '#']\n",
      "['', '#', '##']\n",
      "['', '#', '##', '###']\n",
      "['', '#', '##', '###', '####']\n"
     ]
    }
   ],
   "source": [
    "# #++++\n",
    "# +#+++\n",
    "# ++#++\n",
    "# +++#+\n",
    "# ++++#\n",
    "\n",
    "\n",
    "list = []\n",
    "\n",
    "for i in range (0,5):\n",
    "    list.append('#'*i)\n",
    "    print(list)\n",
    "    \n",
    "\n",
    "\n",
    "\n",
    "\n",
    "# a = '+'*25\n",
    "# b = '#'\n",
    "# list = []\n",
    "\n",
    "# for i in range(0, 25):\n",
    "#     list.append(a[i])\n",
    "#     print(a[i])\n",
    "#     print(list)\n",
    "#     for x in range(0,25,6):\n",
    "#         print(list)\n",
    "#         list[x] = b\n",
    "#     print(list)\n",
    "\n",
    "\n",
    "\n",
    "\n",
    "# list_a = []\n",
    "# list_b = []\n",
    "# list_b.append(b)\n",
    "# list_bbb = []\n",
    "\n",
    "# for i in range(0,len(a)):\n",
    "#     list_a.append(a[i])\n",
    "#     substitute = ' '*i+list_a[i]\n",
    "#     print(substitute)\n",
    "#     list_bb = list_b*5\n",
    "#     print(list_bb)\n",
    "#     list_bbb.append(list_bb[i])\n",
    "#     print(type(list_bbb[i]))\n",
    "#     list_b[i].append(substitute[i])\n",
    "\n",
    "#     list_bb[i].append(substitute[i])\n",
    "#     print(list_bb)\n",
    "#     b = list[i].append('#')\n",
    "#     print(b)\n",
    "#     print(list)\n"
   ]
  },
  {
   "cell_type": "code",
   "execution_count": 8,
   "metadata": {},
   "outputs": [
    {
     "name": "stdout",
     "output_type": "stream",
     "text": [
      "199\n",
      "199 85 72 38 80 69 65 68 96 22 49 67 51 61 63 87 66 24 80 83 71 60 64 52 90 60 49 31 23 99 94 11 25 24 51 15 13 39 67 97 19 76 12 33 99 18 92 35 74 0 95 71 39 33 39 32 37 45 57 71 95 5 71 24 86 8 51 54 74 24 75 70 33 63 29 99 59 94 52 13 35 99 46 57 71 23 17 3 94 48 77 18 83 11 83 25 59 62 2 78 86 7 94 65 80 32 39 84 60 65 72 61 58 84 8 72 12 19 47 49 49 59 71 52 34 22 21 20 92 33 80 39 74 9 28 97 100 93 29 25 4 66 79 81 98 21 91 62 82 4 59 100 34 1 51 80 92 69 77 39 38 97 51 34 35 19 22 1 67 9 90 31 82 11 51 84 78 70 74 42 100 88 53 80 57 62 32 51 48 63 92 46 4 61 31 98 69 52 88 20  \n"
     ]
    }
   ],
   "source": [
    "N = int(input())\n",
    "N1 = input().split()\n",
    "list = []\n",
    "if N%2 ==1 and 9 <= N <= 199:\n",
    "    if len(N1) == N:\n",
    "        for i in range(0, len(N1)):\n",
    "            list.append(int(N1[i]))\n",
    "            list.sort()\n",
    "        print(list[(len(list)//2)])"
   ]
  },
  {
   "cell_type": "code",
   "execution_count": null,
   "metadata": {},
   "outputs": [],
   "source": []
  }
 ],
 "metadata": {
  "kernelspec": {
   "display_name": "Python 3",
   "language": "python",
   "name": "python3"
  },
  "language_info": {
   "codemirror_mode": {
    "name": "ipython",
    "version": 3
   },
   "file_extension": ".py",
   "mimetype": "text/x-python",
   "name": "python",
   "nbconvert_exporter": "python",
   "pygments_lexer": "ipython3",
   "version": "3.7.3"
  }
 },
 "nbformat": 4,
 "nbformat_minor": 4
}
