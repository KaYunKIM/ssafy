{
 "cells": [
  {
   "cell_type": "code",
   "execution_count": 4,
   "metadata": {},
   "outputs": [
    {
     "name": "stdout",
     "output_type": "stream",
     "text": [
      "True\n",
      "False\n"
     ]
    }
   ],
   "source": [
    "# 파일명 및 함수명을 변경하지 마시오.\n",
    "# 추가 모듈이나 패키지를 import 할 수 없습니다.\n",
    "def q1(number):\n",
    "    \"\"\"\n",
    "    아래에 코드를 작성하시오.\n",
    "    number는 0이 아닌 정수로 구성 되어있습니다.\n",
    "    주어진 조건에 따라 Boolean 값인 True 혹은 False를 반환합니다.\n",
    "    \"\"\"\n",
    "\n",
    "    if number >0:\n",
    "        return True\n",
    "    else:\n",
    "        return False\n",
    "\n",
    "    \n",
    "\n",
    "# 실행 결과를 확인하기 위한 코드입니다. 수정하지 마시오.\n",
    "if __name__ == '__main__':\n",
    "    print(q1(3))\n",
    "    print(q1(-8))\n"
   ]
  },
  {
   "cell_type": "code",
   "execution_count": 15,
   "metadata": {},
   "outputs": [
    {
     "name": "stdout",
     "output_type": "stream",
     "text": [
      "6\n",
      "0\n",
      "362880\n"
     ]
    }
   ],
   "source": [
    "def q2(number):\n",
    "\n",
    "    # # num = []\n",
    "    # # num.append(number)\n",
    "    # # print(num)\n",
    "    # string_number = str(number)\n",
    "    # # a = f'{number}' # string interpolation, 문자열 안에 변수 값 넣기\n",
    "    # result = string_number[0] # 첫번째거로 잡고 가도 되는데, \n",
    "    # # result = 1 # 곱하기는 1로 초기화, 더하기는 0으로 하고 반복문 그대로\n",
    "    # for i in range(1, len(string_number)):\n",
    "    #     result = result*string_number[i]\n",
    "\n",
    "    # return result\n",
    "\n",
    "    num = str(number)\n",
    "    mul = 1\n",
    "    for i in range(len(num)):\n",
    "        mul = mul*int(num[i])\n",
    "    return mul\n",
    "        \n",
    "    \n",
    "    \n",
    "    \n",
    "    \n",
    "    \n",
    "# 실행 결과를 확인하기 위한 코드입니다. 수정하지 마시오.\n",
    "if __name__ == '__main__':\n",
    "    print(q2(123))\n",
    "    print(q2(2020))\n",
    "    print(q2(123456789))"
   ]
  },
  {
   "cell_type": "code",
   "execution_count": 27,
   "metadata": {},
   "outputs": [
    {
     "name": "stdout",
     "output_type": "stream",
     "text": [
      "{'apple': 4}\n",
      "{'apple': 1, 'banana': 1}\n",
      "{'apple': 3}\n"
     ]
    }
   ],
   "source": [
    "def q3(fruits, add, n):\n",
    "    \"\"\"\n",
    "    아래에 코드를 작성하시오.\n",
    "    fruits는 현재 과일가게에 현황을 나타내는 딕셔너리입니다.\n",
    "    add, n은 각각 추가적으로 더해지는 과일과 갯수입니다.\n",
    "    add, n을 반영한 fruits 딕셔너리를 반환하세요.\n",
    "    딕셔너리 결과 값만 같으면, 순서는 상관없습니다.\n",
    "    \"\"\"\n",
    "    \n",
    "    if add in fruits.keys():\n",
    "        fruits[add]+= n\n",
    "    else:\n",
    "        fruits[add] = n\n",
    "    return fruits\n",
    "\n",
    "# 실행 결과를 확인하기 위한 코드입니다. 수정하지 마시오.\n",
    "if __name__ == '__main__':\n",
    "    print(q3({'apple': 1}, 'apple', 3))\n",
    "    print(q3({'apple': 1}, 'banana', 1))\n",
    "    print(q3({}, 'apple', 3))"
   ]
  },
  {
   "cell_type": "code",
   "execution_count": 29,
   "metadata": {},
   "outputs": [
    {
     "name": "stdout",
     "output_type": "stream",
     "text": [
      "True\n",
      "False\n",
      "True\n"
     ]
    }
   ],
   "source": [
    "def q4(word):\n",
    "    \"\"\"\n",
    "    아래에 코드를 작성하시오.\n",
    "    word는 소문자로만 구성 되어있습니다.\n",
    "    word에 s, a, f, y가 들어 있는지 여부를 Boolean 값으로 반환하세요.\n",
    "    \"\"\"\n",
    "    \n",
    "    letters = ['s', 'a', 'f', 'y']\n",
    "    for i in range(len(word)):\n",
    "        if word[i] in letters:\n",
    "            return True\n",
    "    return False\n",
    "\n",
    "\n",
    "\n",
    "\n",
    "# 실행 결과를 확인하기 위한 코드입니다. 수정하지 마시오.\n",
    "if __name__ == '__main__':\n",
    "    print(q4('fish'))\n",
    "    print(q4('united'))\n",
    "    print(q4('galaxy'))"
   ]
  }
 ],
 "metadata": {
  "kernelspec": {
   "display_name": "Python 3",
   "language": "python",
   "name": "python3"
  },
  "language_info": {
   "codemirror_mode": {
    "name": "ipython",
    "version": 3
   },
   "file_extension": ".py",
   "mimetype": "text/x-python",
   "name": "python",
   "nbconvert_exporter": "python",
   "pygments_lexer": "ipython3",
   "version": "3.7.3"
  }
 },
 "nbformat": 4,
 "nbformat_minor": 4
}
