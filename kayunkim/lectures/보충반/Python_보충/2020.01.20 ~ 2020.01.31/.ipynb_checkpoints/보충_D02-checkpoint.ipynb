{
 "cells": [
  {
   "cell_type": "markdown",
   "metadata": {},
   "source": [
    "# 보충 day_02"
   ]
  },
  {
   "cell_type": "markdown",
   "metadata": {},
   "source": [
    "## 가장 짧은 단어 찾기\n",
    "\n",
    "주어진 리스트 내에 주어진 단어들 중에서 길이가 가장 짧은 단어를 찾아 해당 단어를 찾아 반환하세요. 동일한 길이의 단어가 2개 이상 존재하지 않는다고 가정합니다."
   ]
  },
  {
   "cell_type": "code",
   "execution_count": 1,
   "metadata": {},
   "outputs": [],
   "source": [
    "# 아래에 코드를 작성하세요.\n",
    "def short(words):\n",
    "    pass"
   ]
  },
  {
   "cell_type": "code",
   "execution_count": 2,
   "metadata": {},
   "outputs": [
    {
     "name": "stdout",
     "output_type": "stream",
     "text": [
      "None\n"
     ]
    }
   ],
   "source": [
    "print(short([\"tiger\", \"cat\", \"lion\", \"mouse\"])) # 'cat'"
   ]
  },
  {
   "cell_type": "code",
   "execution_count": null,
   "metadata": {},
   "outputs": [],
   "source": []
  },
  {
   "cell_type": "markdown",
   "metadata": {},
   "source": [
    "\n",
    "## 단어 카운팅\n",
    "\n",
    "주어진 문단 (문자열로 표현) 내에 포함된 단어의 종류를 카운트 해주세요.\n",
    "\n",
    "- 단어가 중복해서 나타나는 경우를 고려해야 합니다.\n",
    "- 대소문자를 구별하지 않습니다. 예) `'a'` 와 `'A'` 는 동일한 단위로 취급합니다.\n",
    "- 단어가 빈 문자열인 경우는 존재하지 않아야 합니다.\n",
    "\n",
    "---\n",
    "\n",
    "**참고 함수**\n",
    "\n",
    "`s.lower()` /`s.upper()`\n",
    "\n",
    "```python\n",
    "words = 'Blue bird blue bird lovely blue bird Do not sit on green bean'\n",
    "```\n",
    "\n",
    "올바른 출력 결과는 `9` 입니다."
   ]
  },
  {
   "cell_type": "code",
   "execution_count": null,
   "metadata": {},
   "outputs": [],
   "source": [
    "# 아래에 코드를 작성하세요.\n",
    "def count(word):\n",
    "    pass"
   ]
  },
  {
   "cell_type": "code",
   "execution_count": 33,
   "metadata": {},
   "outputs": [
    {
     "name": "stdout",
     "output_type": "stream",
     "text": [
      "blue bird blue bird lovely blue bird do not sit on green bean\n",
      "9\n"
     ]
    }
   ],
   "source": [
    "# print(count('Blue bird blue bird lovely blue bird Do not sit on green bean'))\n",
    "# => 9\n",
    "\n",
    "#print(sentence_list)\n",
    "print(len(sentence_list))\n"
   ]
  },
  {
   "cell_type": "markdown",
   "metadata": {},
   "source": [
    "## 혈액형 카운트\n",
    "\n",
    "_Rh 식 혈액형은 사람의 혈액형 중 하나로서, ABO 식 혈액형 다음으로 중요한 혈액형으로 취급하고 있습니다. Rh 식 혈액형은 Rh+ 형과 Rh- 형으로 나누는데, 이 중 Rh+ 형이 대다수를 차지하며 전세계적으로 85% 정도가 Rh+ 형이고 나머지 15% 가량이 Rh- 형이라고 합니다._\n",
    "\n",
    "입력으로 주어지는 데이터는 ABO 식 혈액형과 Rh 식 혈액형을 조합하여 표현한 문자열들로 이루어진 리스트입니다. 예를 들어, ABO 식으로는 A 형이면서 Rh+ 형인 사람의 혈액형은 `A+` 로 표현되는 방식입니다. 이러한 입력 데이터로부터, ABO 식 각 혈액형의 사람 수와 Rh 식 각 혈액형의 사람 수를 각각 집계하여 사전으로 반환하는 함수 `bloodtype()` 을 완성하세요. 딕셔너리를 이용할 때에는 키 (key) 의 유무에 주의하여 코드를 작성해야 합니다.\n",
    "\n",
    "한 사람도 가지지 않는 혈액형에 대해서는 그 내용을 딕셔너리에 포함하지 않습니다. 즉, 값 (value) 이 0 인 키 (key) 는 담지 않습니다.\n",
    "\n",
    "```python\n",
    "print(bloodtype(['A+', 'B+', 'A-', 'O-', 'AB+', 'AB-']))\n",
    "# {'A': 2, '+': 3, 'B': 1, '-': 3, 'O': 1, 'AB': 2}\n",
    "```"
   ]
  },
  {
   "cell_type": "code",
   "execution_count": 49,
   "metadata": {},
   "outputs": [],
   "source": [
    "# 아래에 코드를 작성하세요.\n",
    "def bloodtype(bloods):\n",
    "    pass"
   ]
  },
  {
   "cell_type": "code",
   "execution_count": null,
   "metadata": {},
   "outputs": [],
   "source": [
    "def bloodtype(bloods):\n",
    "    "
   ]
  },
  {
   "cell_type": "code",
   "execution_count": null,
   "metadata": {},
   "outputs": [],
   "source": [
    "print(bloodtype(['A+', 'B+', 'A-', 'O-', 'AB+', 'AB-']))\n",
    "# {'A': 2, '+': 3, 'B': 1, '-': 3, 'O': 1, 'AB': 2}"
   ]
  },
  {
   "cell_type": "markdown",
   "metadata": {},
   "source": [
    "## 소수 구하기\n",
    "\n",
    "_소수는 자기 자신과 1 로만 나누어 떨어지는, 1 보다 큰 자연수입니다. 예를 들어, 자연수 5 는 1 과 5 이외의 다른 수로 나누어 떨어지지 않기 때문에 소수이고, 수 10 은 1 과 10 이외에도 2, 5 로도 나누어 떨어지기 때문에 소수가 아닙니다._\n",
    "\n",
    "주어진 숫자보다 작거나 같은 소수를 아래와 같이 배열로 반환하세요."
   ]
  },
  {
   "cell_type": "code",
   "execution_count": null,
   "metadata": {},
   "outputs": [],
   "source": [
    "# 아래에 코드를 작성하세요.\n",
    "def prime(max_number):\n",
    "    pass"
   ]
  },
  {
   "cell_type": "code",
   "execution_count": 3,
   "metadata": {},
   "outputs": [
    {
     "ename": "SyntaxError",
     "evalue": "unexpected EOF while parsing (<ipython-input-3-ddcdde70bd28>, line 1)",
     "output_type": "error",
     "traceback": [
      "\u001b[1;36m  File \u001b[1;32m\"<ipython-input-3-ddcdde70bd28>\"\u001b[1;36m, line \u001b[1;32m1\u001b[0m\n\u001b[1;33m    for i in 5:\u001b[0m\n\u001b[1;37m               ^\u001b[0m\n\u001b[1;31mSyntaxError\u001b[0m\u001b[1;31m:\u001b[0m unexpected EOF while parsing\n"
     ]
    }
   ],
   "source": [
    "for i in 5:"
   ]
  },
  {
   "cell_type": "code",
   "execution_count": 1,
   "metadata": {},
   "outputs": [
    {
     "ename": "NameError",
     "evalue": "name 'prime' is not defined",
     "output_type": "error",
     "traceback": [
      "\u001b[1;31m---------------------------------------------------------------------------\u001b[0m",
      "\u001b[1;31mNameError\u001b[0m                                 Traceback (most recent call last)",
      "\u001b[1;32m<ipython-input-1-fe45c4bc4da8>\u001b[0m in \u001b[0;36m<module>\u001b[1;34m\u001b[0m\n\u001b[1;32m----> 1\u001b[1;33m \u001b[0mprint\u001b[0m\u001b[1;33m(\u001b[0m\u001b[0mprime\u001b[0m\u001b[1;33m(\u001b[0m\u001b[1;36m10\u001b[0m\u001b[1;33m)\u001b[0m\u001b[1;33m)\u001b[0m \u001b[1;31m# [2, 3, 5, 7]\u001b[0m\u001b[1;33m\u001b[0m\u001b[1;33m\u001b[0m\u001b[0m\n\u001b[0m\u001b[0;32m      2\u001b[0m \u001b[0mprint\u001b[0m\u001b[1;33m(\u001b[0m\u001b[0mprime\u001b[0m\u001b[1;33m(\u001b[0m\u001b[1;36m2\u001b[0m\u001b[1;33m)\u001b[0m\u001b[1;33m)\u001b[0m \u001b[1;31m# [2]\u001b[0m\u001b[1;33m\u001b[0m\u001b[1;33m\u001b[0m\u001b[0m\n\u001b[0;32m      3\u001b[0m \u001b[0mprint\u001b[0m\u001b[1;33m(\u001b[0m\u001b[0mprime\u001b[0m\u001b[1;33m(\u001b[0m\u001b[1;36m31\u001b[0m\u001b[1;33m)\u001b[0m\u001b[1;33m)\u001b[0m \u001b[1;31m# [2, 3, 5, 7, 11, 13, 17, 19, 23, 29, 31]\u001b[0m\u001b[1;33m\u001b[0m\u001b[1;33m\u001b[0m\u001b[0m\n",
      "\u001b[1;31mNameError\u001b[0m: name 'prime' is not defined"
     ]
    }
   ],
   "source": [
    "print(prime(10)) # [2, 3, 5, 7]\n",
    "print(prime(2)) # [2]\n",
    "print(prime(31)) # [2, 3, 5, 7, 11, 13, 17, 19, 23, 29, 31]"
   ]
  }
 ],
 "metadata": {
  "kernelspec": {
   "display_name": "Python 3",
   "language": "python",
   "name": "python3"
  },
  "language_info": {
   "codemirror_mode": {
    "name": "ipython",
    "version": 3
   },
   "file_extension": ".py",
   "mimetype": "text/x-python",
   "name": "python",
   "nbconvert_exporter": "python",
   "pygments_lexer": "ipython3",
   "version": "3.7.3"
  },
  "toc": {
   "base_numbering": 1,
   "nav_menu": {},
   "number_sections": true,
   "sideBar": true,
   "skip_h1_title": false,
   "title_cell": "Table of Contents",
   "title_sidebar": "Contents",
   "toc_cell": false,
   "toc_position": {},
   "toc_section_display": true,
   "toc_window_display": false
  }
 },
 "nbformat": 4,
 "nbformat_minor": 4
}
