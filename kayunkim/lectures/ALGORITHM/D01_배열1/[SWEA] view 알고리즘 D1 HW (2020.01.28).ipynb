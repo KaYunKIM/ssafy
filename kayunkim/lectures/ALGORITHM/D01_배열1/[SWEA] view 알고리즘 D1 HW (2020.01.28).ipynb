{
 "cells": [
  {
   "cell_type": "code",
   "execution_count": null,
   "metadata": {},
   "outputs": [],
   "source": [
    "for i in range(1, 11):\n",
    "    Wi = int(input())\n",
    "    Hi = list(map(int, input().split()))\n",
    "    sum = 0\n",
    "    for x in range(2, Wi-2):\n",
    "        max_T = max([Hi[x-2], Hi[x-1], Hi[x+1], Hi[x+2]])\n",
    "        if Hi[x] > max_T:\n",
    "            sum += (Hi[x]-max_T)\n",
    "print('#' + str(i) + ' ' + str(sum))"
   ]
  },
  {
   "cell_type": "code",
   "execution_count": 5,
   "metadata": {},
   "outputs": [
    {
     "ename": "SyntaxError",
     "evalue": "invalid syntax (<ipython-input-5-ac6aa8bbc9f2>, line 10)",
     "traceback": [
      "\u001b[0;36m  File \u001b[0;32m\"<ipython-input-5-ac6aa8bbc9f2>\"\u001b[0;36m, line \u001b[0;32m10\u001b[0m\n\u001b[0;31m    Hi(x) - max(Hi((x-1):(x-3)))\u001b[0m\n\u001b[0m                        ^\u001b[0m\n\u001b[0;31mSyntaxError\u001b[0m\u001b[0;31m:\u001b[0m invalid syntax\n"
     ],
     "output_type": "error"
    }
   ],
   "source": [
    "for i in range (1,2):\n",
    "    Wi = int(input())\n",
    "    Hi = list(map(int, input().split()))\n",
    "    sum_L = 0\n",
    "    sum_R=0\n",
    "    for x in range(2, Wi-2):\n",
    "        if Hi(x)< H(x-1) and Hi(x)< Hi(x-2):\n",
    "            continue\n",
    "        else: \n",
    "            Hi(x) - max(Hi((x-1):(x-3)))\n",
    "            sum_L += Hi(x)\n",
    "        if Hi(x) < Hi(x+1) and Hi(x) < H(x+2):\n",
    "            continue\n",
    "        else:\n",
    "            Hi(x) - max(Hi((x+1):(x+3)))\n",
    "            sum_R += Hi(x)\n",
    "        sum_T = sum_L + sum_R\n",
    "        print(sum_T)\n",
    "        \n",
    "    "
   ]
  },
  {
   "cell_type": "code",
   "execution_count": null,
   "metadata": {},
   "outputs": [],
   "source": [
    "for i in range (1,2):\n",
    "    W = int(input())\n",
    "    H = list(map(int, input().split()))\n",
    "    print(max(H))\n",
    "    max_H = max(H)\n",
    "    print(len(H))\n",
    "    \n",
    "matrix = [[0]*max_H for i in range(W)]\n",
    "sum = 0\n",
    "for x in range(W):\n",
    "    limit = H[x]\n",
    "    for y in range(limit):\n",
    "        matrix[x][y] = 1\n",
    "        \n",
    "for x in range(W):\n",
    "    for y in range(max_H):\n",
    "        print(matrix[x][y], end=&quot; &quot;)\n",
    "    print()\n",
    "    \n",
    "        # matrix[2][y] = 1\n",
    "#         print(matrix)\n",
    "#         if matrix[x][y] == max_H:\n",
    "#             if matrix[x][max-2] and matrix[x][max-1] and matrix[x][max+1] and matrix[x][max+2] == 0:\n",
    "#                 sum += 1\n",
    "\n",
    "#matrix = [[0 for col in range(10)] for row in range(10)]"
   ]
  }
 ],
 "metadata": {
  "kernelspec": {
   "display_name": "Python 3",
   "language": "python",
   "name": "python3"
  },
  "language_info": {
   "codemirror_mode": {
    "name": "ipython",
    "version": 3
   },
   "file_extension": ".py",
   "mimetype": "text/x-python",
   "name": "python",
   "nbconvert_exporter": "python",
   "pygments_lexer": "ipython3",
   "version": "3.7.3"
  }
 },
 "nbformat": 4,
 "nbformat_minor": 4
}
